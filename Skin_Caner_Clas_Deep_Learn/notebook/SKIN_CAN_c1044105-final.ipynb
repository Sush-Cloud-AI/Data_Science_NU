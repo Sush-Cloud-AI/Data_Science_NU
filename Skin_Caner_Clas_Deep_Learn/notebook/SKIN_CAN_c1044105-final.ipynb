{
  "nbformat": 4,
  "nbformat_minor": 0,
  "metadata": {
    "colab": {
      "name": "SKIN_CAN_SUSH.ipynb",
      "provenance": [],
      "collapsed_sections": [],
      "toc_visible": true
    },
    "kernelspec": {
      "name": "python3",
      "display_name": "Python 3"
    },
    "language_info": {
      "name": "python"
    }
  },
  "cells": [
    {
      "cell_type": "markdown",
      "source": [
        "<br>  \n",
        "# SKIN CANCER IMAGE CLASSIFICATION\n",
        "    \n",
        "    SUSHANTH SHIVPURA RAMESH - C1044105\n",
        "    Module :CSC8635\n",
        "<br>"
      ],
      "metadata": {
        "id": "lOlvLVgm97y3"
      }
    },
    {
      "cell_type": "markdown",
      "source": [
        "<br>\n",
        "\n",
        "**Table of Content**\n",
        "\n",
        "1. Abstract\n",
        "2. Introduction\n",
        "3. Data Set Overview\n",
        "4. Dataset Loading \n",
        "5. Data Preprocessing\n",
        "6. Numerical and Viziual Exploratary Data Analysis\n",
        "7. Data Engineering\n",
        "8. Model Building\n",
        "    \n",
        "    Image Augmentation <br>\n",
        "    Class Weights <br>\n",
        "    Evaluation Metric <br>\n",
        "    Transfer Learning <br>\n",
        "    VGG16 <br>\n",
        "    ResNet50v2\n",
        "9. Results & Conclusion\n",
        "10. Future Scope\n",
        "11. Personal Reflection\n",
        "12. References \n",
        "\n",
        "<br>\n",
        "\n",
        "***"
      ],
      "metadata": {
        "id": "gsho6k6sBKuo"
      }
    },
    {
      "cell_type": "markdown",
      "source": [
        "# 1. Abstract\n",
        "\n",
        "<p align =\"justify\">Skin cancer is one of the most common malignancies in humans. Early detection would require less medical intervention and there is a better survival rate if detected early . With the HAM data set which contains images of skin cancer lesions which were collected over years, our goal is to detect and classify the skin cancer images automatically without medical trained individual. This can be implemented by using Deep learning models with Transfer Learning. The project is implemented with VGG-16 and Resnet50v2 Convoluted Neural Network (CNN) with weights assigned due to imbalance between each classes. The images were augmented before training before prediction of the 7 classes of skin cancer.</p> \n",
        "\n",
        "**Keywords**: \n",
        "*Transfer Learning, VGG16, Resnet50, Convoluted Neural Network(CNN), Image Augmentation*"
      ],
      "metadata": {
        "id": "AjQS1Oyn-O5M"
      }
    },
    {
      "cell_type": "markdown",
      "source": [
        "# 2. Introduction\n",
        "\n",
        "<p align =\"justify\">Skin Cancer is one of the most common and growing diseases across the world. The majority of Skin cancer cases are attributed to excessive exposure to UV radiation. It is usually diagnosed visually, starting with a clinical screening or by a dermoscopic examination, followed by a biopsy for confirmation. The survival rate is about 99% for those who are detected and treated in the early stage before it spreads to other parts of the body [1].</p> \n",
        "\n",
        "<p align =\"justify\">By leveraging the extensive use of Machine learning and deep learning methods in the field of medical sciences, we will be able to build an automatic system for the classification of skin lesions which would help detect a malignancy at a early stage without much medical intervention needed.</p>\n",
        "\n",
        "<p align =\"justify\">In this project, we are trying to build predictive deep learning model using Convolutional Neural Network (CNN) to classify the skin cancer images.  The implemented models are based on CNN architecture VGG-16 and Resnet50v2, which can classify 7 different types of skin cancer which is present in the data set. </p>\n"
      ],
      "metadata": {
        "id": "ZAtBM2NK-vGo"
      }
    },
    {
      "cell_type": "markdown",
      "source": [
        "# 3. Data Set Overview\n"
      ],
      "metadata": {
        "id": "Tm4nOpKR_JP2"
      }
    },
    {
      "cell_type": "markdown",
      "source": [
        "<p align =\"justify\">HAM10000 (\"Human Against Machine with 10000 training images\")  is an open skin cancer data set containing dermatoscopic images from different populations which can serve as a training set for academic machine learning purposes. The 10015-image data were collected over a 20-year period from two separate locations: the Department of Dermatology at the Medical University of Vienna, Austria, and Cliff Rosendahl's skin cancer practice in Queensland, Australia.[2] There are 7 classes of skin cancer pigmented lesions in the dataset which are as follows:</p>\n",
        " \n",
        "*   Actinic keratoses (akiec) \n",
        "*   Basal cell carcinoma (bcc)\n",
        "*   Benign keratosis-like lesions (bkl)\n",
        "*   Dermatofibroma (df)\n",
        "*   Melanoma (mel)\n",
        "*   Melanocytic nevi (nv) \n",
        "*   vascular lesions ( vasc)\n",
        "\n",
        "With corresponding image data set a meta data is also given which consists of: \n",
        "\n",
        "*   lesion_id\n",
        "*   Image_id\n",
        "*   dx_type(Cancer class)\n",
        "*   age (patient age)\n",
        "*   sex\n",
        "*   localization (Area of cancer on the body)\n"
      ],
      "metadata": {
        "id": "PxL4sq4hbz2O"
      }
    },
    {
      "cell_type": "code",
      "source": [
        "# intializing and mapping the GPU using tensorflow\n",
        "import tensorflow as tf\n",
        "from tensorflow.compat.v1.keras.backend import set_session\n",
        "config = tf.compat.v1.ConfigProto()\n",
        "config.gpu_options.allow_growth = True\n",
        "config.log_device_placement = True\n",
        "sess = tf.compat.v1.Session(config=config)\n",
        "set_session(sess)"
      ],
      "metadata": {
        "id": "0ChuNHq2-9jk",
        "colab": {
          "base_uri": "https://localhost:8080/"
        },
        "outputId": "a345996d-ca52-4fc1-bb93-cf09df74d14a"
      },
      "execution_count": null,
      "outputs": [
        {
          "output_type": "stream",
          "name": "stdout",
          "text": [
            "Device mapping:\n",
            "/job:localhost/replica:0/task:0/device:GPU:0 -> device: 0, name: Tesla T4, pci bus id: 0000:00:04.0, compute capability: 7.5\n",
            "\n"
          ]
        }
      ]
    },
    {
      "cell_type": "code",
      "source": [
        "# Importing Libraries\n",
        "\n",
        "\n",
        "from google.colab import files\n",
        "import os\n",
        "import zipfile\n",
        "from scipy import misc\n",
        "import math\n",
        "import shutil\n",
        "\n",
        "import numpy as np\n",
        "import pandas as pd\n",
        "from numpy import expand_dims\n",
        "from glob import glob\n",
        "\n",
        "# Data Visualization\n",
        "import matplotlib.pyplot as plt\n",
        "import seaborn as sns\n",
        "\n",
        "# For image handling\n",
        "from PIL import Image\n"
      ],
      "metadata": {
        "id": "hPrhHxglNWDR"
      },
      "execution_count": null,
      "outputs": []
    },
    {
      "cell_type": "markdown",
      "source": [
        "# 4. Dataset Loading "
      ],
      "metadata": {
        "id": "rROKcwes3X2b"
      }
    },
    {
      "cell_type": "code",
      "source": [
        "# Authenticating Kaggle to downlaod the dataset\n",
        "# Download the the kaggle.Json from you kaggle account and upload the json to the collab and run the cell:\n",
        "files.upload()\n",
        "#!files.upload()\n",
        "!mkdir ~/.kaggle    #create a kaggle folder\n",
        "!cp kaggle.json ~/.kaggle  #copying the kaggle.json file to folder\n",
        "!chmod 600 /root/.kaggle/kaggle.json #permission for the json to act\n",
        "print(\"Imported kaggle API successfully !\")"
      ],
      "metadata": {
        "colab": {
          "base_uri": "https://localhost:8080/",
          "resources": {
            "http://localhost:8080/nbextensions/google.colab/files.js": {
              "data": "Ly8gQ29weXJpZ2h0IDIwMTcgR29vZ2xlIExMQwovLwovLyBMaWNlbnNlZCB1bmRlciB0aGUgQXBhY2hlIExpY2Vuc2UsIFZlcnNpb24gMi4wICh0aGUgIkxpY2Vuc2UiKTsKLy8geW91IG1heSBub3QgdXNlIHRoaXMgZmlsZSBleGNlcHQgaW4gY29tcGxpYW5jZSB3aXRoIHRoZSBMaWNlbnNlLgovLyBZb3UgbWF5IG9idGFpbiBhIGNvcHkgb2YgdGhlIExpY2Vuc2UgYXQKLy8KLy8gICAgICBodHRwOi8vd3d3LmFwYWNoZS5vcmcvbGljZW5zZXMvTElDRU5TRS0yLjAKLy8KLy8gVW5sZXNzIHJlcXVpcmVkIGJ5IGFwcGxpY2FibGUgbGF3IG9yIGFncmVlZCB0byBpbiB3cml0aW5nLCBzb2Z0d2FyZQovLyBkaXN0cmlidXRlZCB1bmRlciB0aGUgTGljZW5zZSBpcyBkaXN0cmlidXRlZCBvbiBhbiAiQVMgSVMiIEJBU0lTLAovLyBXSVRIT1VUIFdBUlJBTlRJRVMgT1IgQ09ORElUSU9OUyBPRiBBTlkgS0lORCwgZWl0aGVyIGV4cHJlc3Mgb3IgaW1wbGllZC4KLy8gU2VlIHRoZSBMaWNlbnNlIGZvciB0aGUgc3BlY2lmaWMgbGFuZ3VhZ2UgZ292ZXJuaW5nIHBlcm1pc3Npb25zIGFuZAovLyBsaW1pdGF0aW9ucyB1bmRlciB0aGUgTGljZW5zZS4KCi8qKgogKiBAZmlsZW92ZXJ2aWV3IEhlbHBlcnMgZm9yIGdvb2dsZS5jb2xhYiBQeXRob24gbW9kdWxlLgogKi8KKGZ1bmN0aW9uKHNjb3BlKSB7CmZ1bmN0aW9uIHNwYW4odGV4dCwgc3R5bGVBdHRyaWJ1dGVzID0ge30pIHsKICBjb25zdCBlbGVtZW50ID0gZG9jdW1lbnQuY3JlYXRlRWxlbWVudCgnc3BhbicpOwogIGVsZW1lbnQudGV4dENvbnRlbnQgPSB0ZXh0OwogIGZvciAoY29uc3Qga2V5IG9mIE9iamVjdC5rZXlzKHN0eWxlQXR0cmlidXRlcykpIHsKICAgIGVsZW1lbnQuc3R5bGVba2V5XSA9IHN0eWxlQXR0cmlidXRlc1trZXldOwogIH0KICByZXR1cm4gZWxlbWVudDsKfQoKLy8gTWF4IG51bWJlciBvZiBieXRlcyB3aGljaCB3aWxsIGJlIHVwbG9hZGVkIGF0IGEgdGltZS4KY29uc3QgTUFYX1BBWUxPQURfU0laRSA9IDEwMCAqIDEwMjQ7CgpmdW5jdGlvbiBfdXBsb2FkRmlsZXMoaW5wdXRJZCwgb3V0cHV0SWQpIHsKICBjb25zdCBzdGVwcyA9IHVwbG9hZEZpbGVzU3RlcChpbnB1dElkLCBvdXRwdXRJZCk7CiAgY29uc3Qgb3V0cHV0RWxlbWVudCA9IGRvY3VtZW50LmdldEVsZW1lbnRCeUlkKG91dHB1dElkKTsKICAvLyBDYWNoZSBzdGVwcyBvbiB0aGUgb3V0cHV0RWxlbWVudCB0byBtYWtlIGl0IGF2YWlsYWJsZSBmb3IgdGhlIG5leHQgY2FsbAogIC8vIHRvIHVwbG9hZEZpbGVzQ29udGludWUgZnJvbSBQeXRob24uCiAgb3V0cHV0RWxlbWVudC5zdGVwcyA9IHN0ZXBzOwoKICByZXR1cm4gX3VwbG9hZEZpbGVzQ29udGludWUob3V0cHV0SWQpOwp9CgovLyBUaGlzIGlzIHJvdWdobHkgYW4gYXN5bmMgZ2VuZXJhdG9yIChub3Qgc3VwcG9ydGVkIGluIHRoZSBicm93c2VyIHlldCksCi8vIHdoZXJlIHRoZXJlIGFyZSBtdWx0aXBsZSBhc3luY2hyb25vdXMgc3RlcHMgYW5kIHRoZSBQeXRob24gc2lkZSBpcyBnb2luZwovLyB0byBwb2xsIGZvciBjb21wbGV0aW9uIG9mIGVhY2ggc3RlcC4KLy8gVGhpcyB1c2VzIGEgUHJvbWlzZSB0byBibG9jayB0aGUgcHl0aG9uIHNpZGUgb24gY29tcGxldGlvbiBvZiBlYWNoIHN0ZXAsCi8vIHRoZW4gcGFzc2VzIHRoZSByZXN1bHQgb2YgdGhlIHByZXZpb3VzIHN0ZXAgYXMgdGhlIGlucHV0IHRvIHRoZSBuZXh0IHN0ZXAuCmZ1bmN0aW9uIF91cGxvYWRGaWxlc0NvbnRpbnVlKG91dHB1dElkKSB7CiAgY29uc3Qgb3V0cHV0RWxlbWVudCA9IGRvY3VtZW50LmdldEVsZW1lbnRCeUlkKG91dHB1dElkKTsKICBjb25zdCBzdGVwcyA9IG91dHB1dEVsZW1lbnQuc3RlcHM7CgogIGNvbnN0IG5leHQgPSBzdGVwcy5uZXh0KG91dHB1dEVsZW1lbnQubGFzdFByb21pc2VWYWx1ZSk7CiAgcmV0dXJuIFByb21pc2UucmVzb2x2ZShuZXh0LnZhbHVlLnByb21pc2UpLnRoZW4oKHZhbHVlKSA9PiB7CiAgICAvLyBDYWNoZSB0aGUgbGFzdCBwcm9taXNlIHZhbHVlIHRvIG1ha2UgaXQgYXZhaWxhYmxlIHRvIHRoZSBuZXh0CiAgICAvLyBzdGVwIG9mIHRoZSBnZW5lcmF0b3IuCiAgICBvdXRwdXRFbGVtZW50Lmxhc3RQcm9taXNlVmFsdWUgPSB2YWx1ZTsKICAgIHJldHVybiBuZXh0LnZhbHVlLnJlc3BvbnNlOwogIH0pOwp9CgovKioKICogR2VuZXJhdG9yIGZ1bmN0aW9uIHdoaWNoIGlzIGNhbGxlZCBiZXR3ZWVuIGVhY2ggYXN5bmMgc3RlcCBvZiB0aGUgdXBsb2FkCiAqIHByb2Nlc3MuCiAqIEBwYXJhbSB7c3RyaW5nfSBpbnB1dElkIEVsZW1lbnQgSUQgb2YgdGhlIGlucHV0IGZpbGUgcGlja2VyIGVsZW1lbnQuCiAqIEBwYXJhbSB7c3RyaW5nfSBvdXRwdXRJZCBFbGVtZW50IElEIG9mIHRoZSBvdXRwdXQgZGlzcGxheS4KICogQHJldHVybiB7IUl0ZXJhYmxlPCFPYmplY3Q+fSBJdGVyYWJsZSBvZiBuZXh0IHN0ZXBzLgogKi8KZnVuY3Rpb24qIHVwbG9hZEZpbGVzU3RlcChpbnB1dElkLCBvdXRwdXRJZCkgewogIGNvbnN0IGlucHV0RWxlbWVudCA9IGRvY3VtZW50LmdldEVsZW1lbnRCeUlkKGlucHV0SWQpOwogIGlucHV0RWxlbWVudC5kaXNhYmxlZCA9IGZhbHNlOwoKICBjb25zdCBvdXRwdXRFbGVtZW50ID0gZG9jdW1lbnQuZ2V0RWxlbWVudEJ5SWQob3V0cHV0SWQpOwogIG91dHB1dEVsZW1lbnQuaW5uZXJIVE1MID0gJyc7CgogIGNvbnN0IHBpY2tlZFByb21pc2UgPSBuZXcgUHJvbWlzZSgocmVzb2x2ZSkgPT4gewogICAgaW5wdXRFbGVtZW50LmFkZEV2ZW50TGlzdGVuZXIoJ2NoYW5nZScsIChlKSA9PiB7CiAgICAgIHJlc29sdmUoZS50YXJnZXQuZmlsZXMpOwogICAgfSk7CiAgfSk7CgogIGNvbnN0IGNhbmNlbCA9IGRvY3VtZW50LmNyZWF0ZUVsZW1lbnQoJ2J1dHRvbicpOwogIGlucHV0RWxlbWVudC5wYXJlbnRFbGVtZW50LmFwcGVuZENoaWxkKGNhbmNlbCk7CiAgY2FuY2VsLnRleHRDb250ZW50ID0gJ0NhbmNlbCB1cGxvYWQnOwogIGNvbnN0IGNhbmNlbFByb21pc2UgPSBuZXcgUHJvbWlzZSgocmVzb2x2ZSkgPT4gewogICAgY2FuY2VsLm9uY2xpY2sgPSAoKSA9PiB7CiAgICAgIHJlc29sdmUobnVsbCk7CiAgICB9OwogIH0pOwoKICAvLyBXYWl0IGZvciB0aGUgdXNlciB0byBwaWNrIHRoZSBmaWxlcy4KICBjb25zdCBmaWxlcyA9IHlpZWxkIHsKICAgIHByb21pc2U6IFByb21pc2UucmFjZShbcGlja2VkUHJvbWlzZSwgY2FuY2VsUHJvbWlzZV0pLAogICAgcmVzcG9uc2U6IHsKICAgICAgYWN0aW9uOiAnc3RhcnRpbmcnLAogICAgfQogIH07CgogIGNhbmNlbC5yZW1vdmUoKTsKCiAgLy8gRGlzYWJsZSB0aGUgaW5wdXQgZWxlbWVudCBzaW5jZSBmdXJ0aGVyIHBpY2tzIGFyZSBub3QgYWxsb3dlZC4KICBpbnB1dEVsZW1lbnQuZGlzYWJsZWQgPSB0cnVlOwoKICBpZiAoIWZpbGVzKSB7CiAgICByZXR1cm4gewogICAgICByZXNwb25zZTogewogICAgICAgIGFjdGlvbjogJ2NvbXBsZXRlJywKICAgICAgfQogICAgfTsKICB9CgogIGZvciAoY29uc3QgZmlsZSBvZiBmaWxlcykgewogICAgY29uc3QgbGkgPSBkb2N1bWVudC5jcmVhdGVFbGVtZW50KCdsaScpOwogICAgbGkuYXBwZW5kKHNwYW4oZmlsZS5uYW1lLCB7Zm9udFdlaWdodDogJ2JvbGQnfSkpOwogICAgbGkuYXBwZW5kKHNwYW4oCiAgICAgICAgYCgke2ZpbGUudHlwZSB8fCAnbi9hJ30pIC0gJHtmaWxlLnNpemV9IGJ5dGVzLCBgICsKICAgICAgICBgbGFzdCBtb2RpZmllZDogJHsKICAgICAgICAgICAgZmlsZS5sYXN0TW9kaWZpZWREYXRlID8gZmlsZS5sYXN0TW9kaWZpZWREYXRlLnRvTG9jYWxlRGF0ZVN0cmluZygpIDoKICAgICAgICAgICAgICAgICAgICAgICAgICAgICAgICAgICAgJ24vYSd9IC0gYCkpOwogICAgY29uc3QgcGVyY2VudCA9IHNwYW4oJzAlIGRvbmUnKTsKICAgIGxpLmFwcGVuZENoaWxkKHBlcmNlbnQpOwoKICAgIG91dHB1dEVsZW1lbnQuYXBwZW5kQ2hpbGQobGkpOwoKICAgIGNvbnN0IGZpbGVEYXRhUHJvbWlzZSA9IG5ldyBQcm9taXNlKChyZXNvbHZlKSA9PiB7CiAgICAgIGNvbnN0IHJlYWRlciA9IG5ldyBGaWxlUmVhZGVyKCk7CiAgICAgIHJlYWRlci5vbmxvYWQgPSAoZSkgPT4gewogICAgICAgIHJlc29sdmUoZS50YXJnZXQucmVzdWx0KTsKICAgICAgfTsKICAgICAgcmVhZGVyLnJlYWRBc0FycmF5QnVmZmVyKGZpbGUpOwogICAgfSk7CiAgICAvLyBXYWl0IGZvciB0aGUgZGF0YSB0byBiZSByZWFkeS4KICAgIGxldCBmaWxlRGF0YSA9IHlpZWxkIHsKICAgICAgcHJvbWlzZTogZmlsZURhdGFQcm9taXNlLAogICAgICByZXNwb25zZTogewogICAgICAgIGFjdGlvbjogJ2NvbnRpbnVlJywKICAgICAgfQogICAgfTsKCiAgICAvLyBVc2UgYSBjaHVua2VkIHNlbmRpbmcgdG8gYXZvaWQgbWVzc2FnZSBzaXplIGxpbWl0cy4gU2VlIGIvNjIxMTU2NjAuCiAgICBsZXQgcG9zaXRpb24gPSAwOwogICAgZG8gewogICAgICBjb25zdCBsZW5ndGggPSBNYXRoLm1pbihmaWxlRGF0YS5ieXRlTGVuZ3RoIC0gcG9zaXRpb24sIE1BWF9QQVlMT0FEX1NJWkUpOwogICAgICBjb25zdCBjaHVuayA9IG5ldyBVaW50OEFycmF5KGZpbGVEYXRhLCBwb3NpdGlvbiwgbGVuZ3RoKTsKICAgICAgcG9zaXRpb24gKz0gbGVuZ3RoOwoKICAgICAgY29uc3QgYmFzZTY0ID0gYnRvYShTdHJpbmcuZnJvbUNoYXJDb2RlLmFwcGx5KG51bGwsIGNodW5rKSk7CiAgICAgIHlpZWxkIHsKICAgICAgICByZXNwb25zZTogewogICAgICAgICAgYWN0aW9uOiAnYXBwZW5kJywKICAgICAgICAgIGZpbGU6IGZpbGUubmFtZSwKICAgICAgICAgIGRhdGE6IGJhc2U2NCwKICAgICAgICB9LAogICAgICB9OwoKICAgICAgbGV0IHBlcmNlbnREb25lID0gZmlsZURhdGEuYnl0ZUxlbmd0aCA9PT0gMCA/CiAgICAgICAgICAxMDAgOgogICAgICAgICAgTWF0aC5yb3VuZCgocG9zaXRpb24gLyBmaWxlRGF0YS5ieXRlTGVuZ3RoKSAqIDEwMCk7CiAgICAgIHBlcmNlbnQudGV4dENvbnRlbnQgPSBgJHtwZXJjZW50RG9uZX0lIGRvbmVgOwoKICAgIH0gd2hpbGUgKHBvc2l0aW9uIDwgZmlsZURhdGEuYnl0ZUxlbmd0aCk7CiAgfQoKICAvLyBBbGwgZG9uZS4KICB5aWVsZCB7CiAgICByZXNwb25zZTogewogICAgICBhY3Rpb246ICdjb21wbGV0ZScsCiAgICB9CiAgfTsKfQoKc2NvcGUuZ29vZ2xlID0gc2NvcGUuZ29vZ2xlIHx8IHt9OwpzY29wZS5nb29nbGUuY29sYWIgPSBzY29wZS5nb29nbGUuY29sYWIgfHwge307CnNjb3BlLmdvb2dsZS5jb2xhYi5fZmlsZXMgPSB7CiAgX3VwbG9hZEZpbGVzLAogIF91cGxvYWRGaWxlc0NvbnRpbnVlLAp9Owp9KShzZWxmKTsK",
              "ok": true,
              "headers": [
                [
                  "content-type",
                  "application/javascript"
                ]
              ],
              "status": 200,
              "status_text": ""
            }
          },
          "height": 107
        },
        "id": "N0qSv9giW0wb",
        "outputId": "71ad0855-20db-4016-a34c-babd28100775"
      },
      "execution_count": null,
      "outputs": [
        {
          "output_type": "display_data",
          "data": {
            "text/plain": [
              "<IPython.core.display.HTML object>"
            ],
            "text/html": [
              "\n",
              "     <input type=\"file\" id=\"files-5898eed8-2617-4803-8f03-62c05c9c05d7\" name=\"files[]\" multiple disabled\n",
              "        style=\"border:none\" />\n",
              "     <output id=\"result-5898eed8-2617-4803-8f03-62c05c9c05d7\">\n",
              "      Upload widget is only available when the cell has been executed in the\n",
              "      current browser session. Please rerun this cell to enable.\n",
              "      </output>\n",
              "      <script src=\"/nbextensions/google.colab/files.js\"></script> "
            ]
          },
          "metadata": {}
        },
        {
          "output_type": "stream",
          "name": "stdout",
          "text": [
            "Saving kaggle.json to kaggle (1).json\n",
            "mkdir: cannot create directory ‘/root/.kaggle’: File exists\n",
            "Imported kaggle API successfully !\n"
          ]
        }
      ]
    },
    {
      "cell_type": "code",
      "source": [
        "# Creating folder structure to downlaod the data and uzip it \n",
        "\n",
        "try:\n",
        "  os.mkdir(\"/content/skin_can\")\n",
        "except FileExistsError: \n",
        "  print(\"Folder Already Exists!\")\n",
        "\n",
        "try: \n",
        "  os.mkdir(\"/content/skin_can/data_set\")\n",
        "except FileExistsError:\n",
        "  print(\"Folder Already Exists!\") \n"
      ],
      "metadata": {
        "id": "7QnBCDSECUso",
        "colab": {
          "base_uri": "https://localhost:8080/"
        },
        "outputId": "3d1a6520-70c4-46e3-9b41-1903f9dd42d5"
      },
      "execution_count": null,
      "outputs": [
        {
          "output_type": "stream",
          "name": "stdout",
          "text": [
            "Folder Already Exists!\n",
            "Folder Already Exists!\n"
          ]
        }
      ]
    },
    {
      "cell_type": "code",
      "source": [
        "# downloading the data set and uzipping \n",
        "\n",
        "%%capture\n",
        "print(\"Downloading dataset : \")\n",
        "!kaggle datasets download -d kmader/skin-cancer-mnist-ham10000\n",
        "print(\"Downloaded Successfully!\")\n",
        "\n",
        "# if you are unable to  load your Kaggle json and download the dataset directly to google collab \n",
        "# download the data set from kaggle and palce the data set in the following path \"/content\" and run the other steps sequentially \n",
        "\n"
      ],
      "metadata": {
        "id": "pLsObVaCW5LJ"
      },
      "execution_count": null,
      "outputs": []
    },
    {
      "cell_type": "code",
      "source": [
        "%%capture\n",
        "!mv /content/skin-cancer-mnist-ham10000.zip /content/skin_can/data_set #moving the data set to the folder \n",
        "!unzip /content/skin_can/data_set/skin-cancer-mnist-ham10000.zip -d /content/skin_can/data_set # uzipping\n",
        "!rm -rf \"/content/skin_can/data_set/ham10000_images_part_1\" , \"/content/skin_can/data_set/ham10000_images_part_2\" # removing duplicate data \n"
      ],
      "metadata": {
        "id": "vaio0b-lPhYD"
      },
      "execution_count": null,
      "outputs": []
    },
    {
      "cell_type": "markdown",
      "source": [
        "# 5. Data Pre-processing"
      ],
      "metadata": {
        "id": "-QFa4qs-U0rY"
      }
    },
    {
      "cell_type": "markdown",
      "source": [
        "<p align =\"justify\">In this section we are going to prepare and wrangle the data for numerical and visual data analysis before we begin the data engineering and model building.</p>"
      ],
      "metadata": {
        "id": "Suo1gc0E0fii"
      }
    },
    {
      "cell_type": "code",
      "source": [
        "# creating the data frame with the metadat.csv for EDA\n",
        "metadata_df = pd.read_csv(\"/content/skin_can/data_set/HAM10000_metadata.csv\")\n",
        "metadata_df.head()"
      ],
      "metadata": {
        "colab": {
          "base_uri": "https://localhost:8080/",
          "height": 206
        },
        "id": "UfDe4FtG4Opc",
        "outputId": "34f9dc39-fffe-451d-ab27-55b34a6c1993"
      },
      "execution_count": null,
      "outputs": [
        {
          "output_type": "execute_result",
          "data": {
            "text/plain": [
              "     lesion_id      image_id   dx dx_type   age   sex localization\n",
              "0  HAM_0000118  ISIC_0027419  bkl   histo  80.0  male        scalp\n",
              "1  HAM_0000118  ISIC_0025030  bkl   histo  80.0  male        scalp\n",
              "2  HAM_0002730  ISIC_0026769  bkl   histo  80.0  male        scalp\n",
              "3  HAM_0002730  ISIC_0025661  bkl   histo  80.0  male        scalp\n",
              "4  HAM_0001466  ISIC_0031633  bkl   histo  75.0  male          ear"
            ],
            "text/html": [
              "\n",
              "  <div id=\"df-a270331c-6751-4d9e-929c-46122cfbc0d4\">\n",
              "    <div class=\"colab-df-container\">\n",
              "      <div>\n",
              "<style scoped>\n",
              "    .dataframe tbody tr th:only-of-type {\n",
              "        vertical-align: middle;\n",
              "    }\n",
              "\n",
              "    .dataframe tbody tr th {\n",
              "        vertical-align: top;\n",
              "    }\n",
              "\n",
              "    .dataframe thead th {\n",
              "        text-align: right;\n",
              "    }\n",
              "</style>\n",
              "<table border=\"1\" class=\"dataframe\">\n",
              "  <thead>\n",
              "    <tr style=\"text-align: right;\">\n",
              "      <th></th>\n",
              "      <th>lesion_id</th>\n",
              "      <th>image_id</th>\n",
              "      <th>dx</th>\n",
              "      <th>dx_type</th>\n",
              "      <th>age</th>\n",
              "      <th>sex</th>\n",
              "      <th>localization</th>\n",
              "    </tr>\n",
              "  </thead>\n",
              "  <tbody>\n",
              "    <tr>\n",
              "      <th>0</th>\n",
              "      <td>HAM_0000118</td>\n",
              "      <td>ISIC_0027419</td>\n",
              "      <td>bkl</td>\n",
              "      <td>histo</td>\n",
              "      <td>80.0</td>\n",
              "      <td>male</td>\n",
              "      <td>scalp</td>\n",
              "    </tr>\n",
              "    <tr>\n",
              "      <th>1</th>\n",
              "      <td>HAM_0000118</td>\n",
              "      <td>ISIC_0025030</td>\n",
              "      <td>bkl</td>\n",
              "      <td>histo</td>\n",
              "      <td>80.0</td>\n",
              "      <td>male</td>\n",
              "      <td>scalp</td>\n",
              "    </tr>\n",
              "    <tr>\n",
              "      <th>2</th>\n",
              "      <td>HAM_0002730</td>\n",
              "      <td>ISIC_0026769</td>\n",
              "      <td>bkl</td>\n",
              "      <td>histo</td>\n",
              "      <td>80.0</td>\n",
              "      <td>male</td>\n",
              "      <td>scalp</td>\n",
              "    </tr>\n",
              "    <tr>\n",
              "      <th>3</th>\n",
              "      <td>HAM_0002730</td>\n",
              "      <td>ISIC_0025661</td>\n",
              "      <td>bkl</td>\n",
              "      <td>histo</td>\n",
              "      <td>80.0</td>\n",
              "      <td>male</td>\n",
              "      <td>scalp</td>\n",
              "    </tr>\n",
              "    <tr>\n",
              "      <th>4</th>\n",
              "      <td>HAM_0001466</td>\n",
              "      <td>ISIC_0031633</td>\n",
              "      <td>bkl</td>\n",
              "      <td>histo</td>\n",
              "      <td>75.0</td>\n",
              "      <td>male</td>\n",
              "      <td>ear</td>\n",
              "    </tr>\n",
              "  </tbody>\n",
              "</table>\n",
              "</div>\n",
              "      <button class=\"colab-df-convert\" onclick=\"convertToInteractive('df-a270331c-6751-4d9e-929c-46122cfbc0d4')\"\n",
              "              title=\"Convert this dataframe to an interactive table.\"\n",
              "              style=\"display:none;\">\n",
              "        \n",
              "  <svg xmlns=\"http://www.w3.org/2000/svg\" height=\"24px\"viewBox=\"0 0 24 24\"\n",
              "       width=\"24px\">\n",
              "    <path d=\"M0 0h24v24H0V0z\" fill=\"none\"/>\n",
              "    <path d=\"M18.56 5.44l.94 2.06.94-2.06 2.06-.94-2.06-.94-.94-2.06-.94 2.06-2.06.94zm-11 1L8.5 8.5l.94-2.06 2.06-.94-2.06-.94L8.5 2.5l-.94 2.06-2.06.94zm10 10l.94 2.06.94-2.06 2.06-.94-2.06-.94-.94-2.06-.94 2.06-2.06.94z\"/><path d=\"M17.41 7.96l-1.37-1.37c-.4-.4-.92-.59-1.43-.59-.52 0-1.04.2-1.43.59L10.3 9.45l-7.72 7.72c-.78.78-.78 2.05 0 2.83L4 21.41c.39.39.9.59 1.41.59.51 0 1.02-.2 1.41-.59l7.78-7.78 2.81-2.81c.8-.78.8-2.07 0-2.86zM5.41 20L4 18.59l7.72-7.72 1.47 1.35L5.41 20z\"/>\n",
              "  </svg>\n",
              "      </button>\n",
              "      \n",
              "  <style>\n",
              "    .colab-df-container {\n",
              "      display:flex;\n",
              "      flex-wrap:wrap;\n",
              "      gap: 12px;\n",
              "    }\n",
              "\n",
              "    .colab-df-convert {\n",
              "      background-color: #E8F0FE;\n",
              "      border: none;\n",
              "      border-radius: 50%;\n",
              "      cursor: pointer;\n",
              "      display: none;\n",
              "      fill: #1967D2;\n",
              "      height: 32px;\n",
              "      padding: 0 0 0 0;\n",
              "      width: 32px;\n",
              "    }\n",
              "\n",
              "    .colab-df-convert:hover {\n",
              "      background-color: #E2EBFA;\n",
              "      box-shadow: 0px 1px 2px rgba(60, 64, 67, 0.3), 0px 1px 3px 1px rgba(60, 64, 67, 0.15);\n",
              "      fill: #174EA6;\n",
              "    }\n",
              "\n",
              "    [theme=dark] .colab-df-convert {\n",
              "      background-color: #3B4455;\n",
              "      fill: #D2E3FC;\n",
              "    }\n",
              "\n",
              "    [theme=dark] .colab-df-convert:hover {\n",
              "      background-color: #434B5C;\n",
              "      box-shadow: 0px 1px 3px 1px rgba(0, 0, 0, 0.15);\n",
              "      filter: drop-shadow(0px 1px 2px rgba(0, 0, 0, 0.3));\n",
              "      fill: #FFFFFF;\n",
              "    }\n",
              "  </style>\n",
              "\n",
              "      <script>\n",
              "        const buttonEl =\n",
              "          document.querySelector('#df-a270331c-6751-4d9e-929c-46122cfbc0d4 button.colab-df-convert');\n",
              "        buttonEl.style.display =\n",
              "          google.colab.kernel.accessAllowed ? 'block' : 'none';\n",
              "\n",
              "        async function convertToInteractive(key) {\n",
              "          const element = document.querySelector('#df-a270331c-6751-4d9e-929c-46122cfbc0d4');\n",
              "          const dataTable =\n",
              "            await google.colab.kernel.invokeFunction('convertToInteractive',\n",
              "                                                     [key], {});\n",
              "          if (!dataTable) return;\n",
              "\n",
              "          const docLinkHtml = 'Like what you see? Visit the ' +\n",
              "            '<a target=\"_blank\" href=https://colab.research.google.com/notebooks/data_table.ipynb>data table notebook</a>'\n",
              "            + ' to learn more about interactive tables.';\n",
              "          element.innerHTML = '';\n",
              "          dataTable['output_type'] = 'display_data';\n",
              "          await google.colab.output.renderOutput(dataTable, element);\n",
              "          const docLink = document.createElement('div');\n",
              "          docLink.innerHTML = docLinkHtml;\n",
              "          element.appendChild(docLink);\n",
              "        }\n",
              "      </script>\n",
              "    </div>\n",
              "  </div>\n",
              "  "
            ]
          },
          "metadata": {},
          "execution_count": 33
        }
      ]
    },
    {
      "cell_type": "code",
      "source": [
        "# Storing the Acronyms of the cancer types as key value pair in dictionary \n",
        "canc_label = {\n",
        "    'akiec': 'Actinic keratoses',\n",
        "    'bkl': 'Benign keratosis lesions ',\n",
        "    'bcc': 'Basal cell carcinoma',\n",
        "    'df': 'Dermatofibroma',\n",
        "    'nv': 'Melanocytic nevi',\n",
        "    'mel': 'Melanoma',\n",
        "    'vasc': 'Vascular lesions'\n",
        "}\n",
        "\n",
        "canc_keys = []\n",
        "for i in canc_label.keys():\n",
        "  canc_keys.append(i)\n",
        "print(canc_keys)\n",
        "canc_values = []\n",
        "for j in canc_label.values():\n",
        "  canc_values.append(j) \n",
        "#print(canc_values)"
      ],
      "metadata": {
        "id": "zpYzkrEjU4Vp",
        "colab": {
          "base_uri": "https://localhost:8080/"
        },
        "outputId": "39f4030a-e0c4-4912-ee38-d69fdceeb8ee"
      },
      "execution_count": null,
      "outputs": [
        {
          "output_type": "stream",
          "name": "stdout",
          "text": [
            "['akiec', 'bkl', 'bcc', 'df', 'nv', 'mel', 'vasc']\n"
          ]
        }
      ]
    },
    {
      "cell_type": "code",
      "source": [
        "# mapping the dx with the key value above for EDA\n",
        "metadata_df['dx'] = metadata_df['dx'].map(canc_label.get)\n",
        "metadata_df"
      ],
      "metadata": {
        "colab": {
          "base_uri": "https://localhost:8080/",
          "height": 423
        },
        "id": "QbTXGiQxJIBD",
        "outputId": "b0a64370-e693-4a52-ddca-bcc28903cad5"
      },
      "execution_count": null,
      "outputs": [
        {
          "output_type": "execute_result",
          "data": {
            "text/plain": [
              "         lesion_id      image_id                         dx dx_type   age  \\\n",
              "0      HAM_0000118  ISIC_0027419  Benign keratosis lesions    histo  80.0   \n",
              "1      HAM_0000118  ISIC_0025030  Benign keratosis lesions    histo  80.0   \n",
              "2      HAM_0002730  ISIC_0026769  Benign keratosis lesions    histo  80.0   \n",
              "3      HAM_0002730  ISIC_0025661  Benign keratosis lesions    histo  80.0   \n",
              "4      HAM_0001466  ISIC_0031633  Benign keratosis lesions    histo  75.0   \n",
              "...            ...           ...                        ...     ...   ...   \n",
              "10010  HAM_0002867  ISIC_0033084          Actinic keratoses   histo  40.0   \n",
              "10011  HAM_0002867  ISIC_0033550          Actinic keratoses   histo  40.0   \n",
              "10012  HAM_0002867  ISIC_0033536          Actinic keratoses   histo  40.0   \n",
              "10013  HAM_0000239  ISIC_0032854          Actinic keratoses   histo  80.0   \n",
              "10014  HAM_0003521  ISIC_0032258                   Melanoma   histo  70.0   \n",
              "\n",
              "          sex localization  \n",
              "0        male        scalp  \n",
              "1        male        scalp  \n",
              "2        male        scalp  \n",
              "3        male        scalp  \n",
              "4        male          ear  \n",
              "...       ...          ...  \n",
              "10010    male      abdomen  \n",
              "10011    male      abdomen  \n",
              "10012    male      abdomen  \n",
              "10013    male         face  \n",
              "10014  female         back  \n",
              "\n",
              "[10015 rows x 7 columns]"
            ],
            "text/html": [
              "\n",
              "  <div id=\"df-c0ba2e7e-5239-4c41-80df-4d69763391f8\">\n",
              "    <div class=\"colab-df-container\">\n",
              "      <div>\n",
              "<style scoped>\n",
              "    .dataframe tbody tr th:only-of-type {\n",
              "        vertical-align: middle;\n",
              "    }\n",
              "\n",
              "    .dataframe tbody tr th {\n",
              "        vertical-align: top;\n",
              "    }\n",
              "\n",
              "    .dataframe thead th {\n",
              "        text-align: right;\n",
              "    }\n",
              "</style>\n",
              "<table border=\"1\" class=\"dataframe\">\n",
              "  <thead>\n",
              "    <tr style=\"text-align: right;\">\n",
              "      <th></th>\n",
              "      <th>lesion_id</th>\n",
              "      <th>image_id</th>\n",
              "      <th>dx</th>\n",
              "      <th>dx_type</th>\n",
              "      <th>age</th>\n",
              "      <th>sex</th>\n",
              "      <th>localization</th>\n",
              "    </tr>\n",
              "  </thead>\n",
              "  <tbody>\n",
              "    <tr>\n",
              "      <th>0</th>\n",
              "      <td>HAM_0000118</td>\n",
              "      <td>ISIC_0027419</td>\n",
              "      <td>Benign keratosis lesions</td>\n",
              "      <td>histo</td>\n",
              "      <td>80.0</td>\n",
              "      <td>male</td>\n",
              "      <td>scalp</td>\n",
              "    </tr>\n",
              "    <tr>\n",
              "      <th>1</th>\n",
              "      <td>HAM_0000118</td>\n",
              "      <td>ISIC_0025030</td>\n",
              "      <td>Benign keratosis lesions</td>\n",
              "      <td>histo</td>\n",
              "      <td>80.0</td>\n",
              "      <td>male</td>\n",
              "      <td>scalp</td>\n",
              "    </tr>\n",
              "    <tr>\n",
              "      <th>2</th>\n",
              "      <td>HAM_0002730</td>\n",
              "      <td>ISIC_0026769</td>\n",
              "      <td>Benign keratosis lesions</td>\n",
              "      <td>histo</td>\n",
              "      <td>80.0</td>\n",
              "      <td>male</td>\n",
              "      <td>scalp</td>\n",
              "    </tr>\n",
              "    <tr>\n",
              "      <th>3</th>\n",
              "      <td>HAM_0002730</td>\n",
              "      <td>ISIC_0025661</td>\n",
              "      <td>Benign keratosis lesions</td>\n",
              "      <td>histo</td>\n",
              "      <td>80.0</td>\n",
              "      <td>male</td>\n",
              "      <td>scalp</td>\n",
              "    </tr>\n",
              "    <tr>\n",
              "      <th>4</th>\n",
              "      <td>HAM_0001466</td>\n",
              "      <td>ISIC_0031633</td>\n",
              "      <td>Benign keratosis lesions</td>\n",
              "      <td>histo</td>\n",
              "      <td>75.0</td>\n",
              "      <td>male</td>\n",
              "      <td>ear</td>\n",
              "    </tr>\n",
              "    <tr>\n",
              "      <th>...</th>\n",
              "      <td>...</td>\n",
              "      <td>...</td>\n",
              "      <td>...</td>\n",
              "      <td>...</td>\n",
              "      <td>...</td>\n",
              "      <td>...</td>\n",
              "      <td>...</td>\n",
              "    </tr>\n",
              "    <tr>\n",
              "      <th>10010</th>\n",
              "      <td>HAM_0002867</td>\n",
              "      <td>ISIC_0033084</td>\n",
              "      <td>Actinic keratoses</td>\n",
              "      <td>histo</td>\n",
              "      <td>40.0</td>\n",
              "      <td>male</td>\n",
              "      <td>abdomen</td>\n",
              "    </tr>\n",
              "    <tr>\n",
              "      <th>10011</th>\n",
              "      <td>HAM_0002867</td>\n",
              "      <td>ISIC_0033550</td>\n",
              "      <td>Actinic keratoses</td>\n",
              "      <td>histo</td>\n",
              "      <td>40.0</td>\n",
              "      <td>male</td>\n",
              "      <td>abdomen</td>\n",
              "    </tr>\n",
              "    <tr>\n",
              "      <th>10012</th>\n",
              "      <td>HAM_0002867</td>\n",
              "      <td>ISIC_0033536</td>\n",
              "      <td>Actinic keratoses</td>\n",
              "      <td>histo</td>\n",
              "      <td>40.0</td>\n",
              "      <td>male</td>\n",
              "      <td>abdomen</td>\n",
              "    </tr>\n",
              "    <tr>\n",
              "      <th>10013</th>\n",
              "      <td>HAM_0000239</td>\n",
              "      <td>ISIC_0032854</td>\n",
              "      <td>Actinic keratoses</td>\n",
              "      <td>histo</td>\n",
              "      <td>80.0</td>\n",
              "      <td>male</td>\n",
              "      <td>face</td>\n",
              "    </tr>\n",
              "    <tr>\n",
              "      <th>10014</th>\n",
              "      <td>HAM_0003521</td>\n",
              "      <td>ISIC_0032258</td>\n",
              "      <td>Melanoma</td>\n",
              "      <td>histo</td>\n",
              "      <td>70.0</td>\n",
              "      <td>female</td>\n",
              "      <td>back</td>\n",
              "    </tr>\n",
              "  </tbody>\n",
              "</table>\n",
              "<p>10015 rows × 7 columns</p>\n",
              "</div>\n",
              "      <button class=\"colab-df-convert\" onclick=\"convertToInteractive('df-c0ba2e7e-5239-4c41-80df-4d69763391f8')\"\n",
              "              title=\"Convert this dataframe to an interactive table.\"\n",
              "              style=\"display:none;\">\n",
              "        \n",
              "  <svg xmlns=\"http://www.w3.org/2000/svg\" height=\"24px\"viewBox=\"0 0 24 24\"\n",
              "       width=\"24px\">\n",
              "    <path d=\"M0 0h24v24H0V0z\" fill=\"none\"/>\n",
              "    <path d=\"M18.56 5.44l.94 2.06.94-2.06 2.06-.94-2.06-.94-.94-2.06-.94 2.06-2.06.94zm-11 1L8.5 8.5l.94-2.06 2.06-.94-2.06-.94L8.5 2.5l-.94 2.06-2.06.94zm10 10l.94 2.06.94-2.06 2.06-.94-2.06-.94-.94-2.06-.94 2.06-2.06.94z\"/><path d=\"M17.41 7.96l-1.37-1.37c-.4-.4-.92-.59-1.43-.59-.52 0-1.04.2-1.43.59L10.3 9.45l-7.72 7.72c-.78.78-.78 2.05 0 2.83L4 21.41c.39.39.9.59 1.41.59.51 0 1.02-.2 1.41-.59l7.78-7.78 2.81-2.81c.8-.78.8-2.07 0-2.86zM5.41 20L4 18.59l7.72-7.72 1.47 1.35L5.41 20z\"/>\n",
              "  </svg>\n",
              "      </button>\n",
              "      \n",
              "  <style>\n",
              "    .colab-df-container {\n",
              "      display:flex;\n",
              "      flex-wrap:wrap;\n",
              "      gap: 12px;\n",
              "    }\n",
              "\n",
              "    .colab-df-convert {\n",
              "      background-color: #E8F0FE;\n",
              "      border: none;\n",
              "      border-radius: 50%;\n",
              "      cursor: pointer;\n",
              "      display: none;\n",
              "      fill: #1967D2;\n",
              "      height: 32px;\n",
              "      padding: 0 0 0 0;\n",
              "      width: 32px;\n",
              "    }\n",
              "\n",
              "    .colab-df-convert:hover {\n",
              "      background-color: #E2EBFA;\n",
              "      box-shadow: 0px 1px 2px rgba(60, 64, 67, 0.3), 0px 1px 3px 1px rgba(60, 64, 67, 0.15);\n",
              "      fill: #174EA6;\n",
              "    }\n",
              "\n",
              "    [theme=dark] .colab-df-convert {\n",
              "      background-color: #3B4455;\n",
              "      fill: #D2E3FC;\n",
              "    }\n",
              "\n",
              "    [theme=dark] .colab-df-convert:hover {\n",
              "      background-color: #434B5C;\n",
              "      box-shadow: 0px 1px 3px 1px rgba(0, 0, 0, 0.15);\n",
              "      filter: drop-shadow(0px 1px 2px rgba(0, 0, 0, 0.3));\n",
              "      fill: #FFFFFF;\n",
              "    }\n",
              "  </style>\n",
              "\n",
              "      <script>\n",
              "        const buttonEl =\n",
              "          document.querySelector('#df-c0ba2e7e-5239-4c41-80df-4d69763391f8 button.colab-df-convert');\n",
              "        buttonEl.style.display =\n",
              "          google.colab.kernel.accessAllowed ? 'block' : 'none';\n",
              "\n",
              "        async function convertToInteractive(key) {\n",
              "          const element = document.querySelector('#df-c0ba2e7e-5239-4c41-80df-4d69763391f8');\n",
              "          const dataTable =\n",
              "            await google.colab.kernel.invokeFunction('convertToInteractive',\n",
              "                                                     [key], {});\n",
              "          if (!dataTable) return;\n",
              "\n",
              "          const docLinkHtml = 'Like what you see? Visit the ' +\n",
              "            '<a target=\"_blank\" href=https://colab.research.google.com/notebooks/data_table.ipynb>data table notebook</a>'\n",
              "            + ' to learn more about interactive tables.';\n",
              "          element.innerHTML = '';\n",
              "          dataTable['output_type'] = 'display_data';\n",
              "          await google.colab.output.renderOutput(dataTable, element);\n",
              "          const docLink = document.createElement('div');\n",
              "          docLink.innerHTML = docLinkHtml;\n",
              "          element.appendChild(docLink);\n",
              "        }\n",
              "      </script>\n",
              "    </div>\n",
              "  </div>\n",
              "  "
            ]
          },
          "metadata": {},
          "execution_count": 35
        }
      ]
    },
    {
      "cell_type": "code",
      "source": [
        "# Finding if there are any Missing values in the metadata\n",
        "metadata_df.isna().sum()"
      ],
      "metadata": {
        "colab": {
          "base_uri": "https://localhost:8080/"
        },
        "id": "tmIsAazyUpGv",
        "outputId": "4b7e4907-6a4f-440b-c4ce-983e851dc753"
      },
      "execution_count": null,
      "outputs": [
        {
          "output_type": "execute_result",
          "data": {
            "text/plain": [
              "lesion_id        0\n",
              "image_id         0\n",
              "dx               0\n",
              "dx_type          0\n",
              "age             57\n",
              "sex              0\n",
              "localization     0\n",
              "dtype: int64"
            ]
          },
          "metadata": {},
          "execution_count": 36
        }
      ]
    },
    {
      "cell_type": "code",
      "source": [
        "# summary of the age column\n",
        "metadata_df[\"age\"].describe()"
      ],
      "metadata": {
        "colab": {
          "base_uri": "https://localhost:8080/"
        },
        "id": "Dcnl-3JCUrPe",
        "outputId": "25c72b5f-2615-4ddf-f680-58fc03ec9a6b"
      },
      "execution_count": null,
      "outputs": [
        {
          "output_type": "execute_result",
          "data": {
            "text/plain": [
              "count    9958.000000\n",
              "mean       51.863828\n",
              "std        16.968614\n",
              "min         0.000000\n",
              "25%        40.000000\n",
              "50%        50.000000\n",
              "75%        65.000000\n",
              "max        85.000000\n",
              "Name: age, dtype: float64"
            ]
          },
          "metadata": {},
          "execution_count": 37
        }
      ]
    },
    {
      "cell_type": "code",
      "source": [
        "# Plotting age distribution in meta data\n",
        "fig, axes = plt.subplots(1,2, figsize=(10,5))\n",
        "sns.histplot(data=metadata_df, x=\"age\", kde=True, color = 'm',ax=axes[0])\n",
        "sns.boxplot( data=metadata_df,y=metadata_df[\"age\"], color = 'm', ax=axes[1])\n",
        "fig.suptitle('Age Distribution across Patients', y=1,fontsize=20)\n"
      ],
      "metadata": {
        "colab": {
          "base_uri": "https://localhost:8080/",
          "height": 394
        },
        "id": "pWmQFzcQUz-_",
        "outputId": "ccd60b65-0b77-4ed3-d05b-8bd70886fde7"
      },
      "execution_count": null,
      "outputs": [
        {
          "output_type": "execute_result",
          "data": {
            "text/plain": [
              "Text(0.5, 1, 'Age Distribution across Patients')"
            ]
          },
          "metadata": {},
          "execution_count": 38
        },
        {
          "output_type": "display_data",
          "data": {
            "text/plain": [
              "<Figure size 720x360 with 2 Axes>"
            ],
            "image/png": "[encoded data removed]"
          },
          "metadata": {
            "needs_background": "light"
          }
        }
      ]
    },
    {
      "cell_type": "markdown",
      "source": [
        "<p align =\"justify\">From the above numerical analysis, we see that there are 57 missing values in the age column. We can see from the plots above that age in the dataset follows a normal distribution curve (bell curve). So, we will replace the null values with the mean value of the age.</p>"
      ],
      "metadata": {
        "id": "cXGhK2hL2Hkc"
      }
    },
    {
      "cell_type": "code",
      "source": [
        "# replacing the null values with mean age value \n",
        "metadata_df['age'].fillna((metadata_df['age'].mean()), inplace=True)\n",
        "metadata_df.isna().sum()\n"
      ],
      "metadata": {
        "colab": {
          "base_uri": "https://localhost:8080/"
        },
        "id": "SWtYza-Vc1J6",
        "outputId": "e81158b1-ae83-4c44-bb1d-876938bdaa3a"
      },
      "execution_count": null,
      "outputs": [
        {
          "output_type": "execute_result",
          "data": {
            "text/plain": [
              "lesion_id       0\n",
              "image_id        0\n",
              "dx              0\n",
              "dx_type         0\n",
              "age             0\n",
              "sex             0\n",
              "localization    0\n",
              "dtype: int64"
            ]
          },
          "metadata": {},
          "execution_count": 40
        }
      ]
    },
    {
      "cell_type": "markdown",
      "source": [
        "# 6. Numerical and Viziual Exploratary Data Analysis"
      ],
      "metadata": {
        "id": "mR-gZafpnlmD"
      }
    },
    {
      "cell_type": "markdown",
      "source": [
        "<p align =\"justify\">In this section we will perform some numerical and visual analysis to get some insights about the data set. This would also help us to identify any anomalies in the data set and select the important features to build our ML model efficiently.</p>"
      ],
      "metadata": {
        "id": "Vx7ormp8CSa2"
      }
    },
    {
      "cell_type": "code",
      "source": [
        "# No of patients in each class of cancer in the data set\n",
        "df_count = metadata_df[\"dx\"].value_counts().rename_axis('cancer_type').reset_index(name='count')\n",
        "df_count"
      ],
      "metadata": {
        "colab": {
          "base_uri": "https://localhost:8080/",
          "height": 269
        },
        "id": "EdaiJZIKeuNN",
        "outputId": "426aefae-6c88-4592-e931-019ea9689e19"
      },
      "execution_count": null,
      "outputs": [
        {
          "output_type": "execute_result",
          "data": {
            "text/plain": [
              "                 cancer_type  count\n",
              "0           Melanocytic nevi   6705\n",
              "1                   Melanoma   1113\n",
              "2  Benign keratosis lesions    1099\n",
              "3       Basal cell carcinoma    514\n",
              "4          Actinic keratoses    327\n",
              "5           Vascular lesions    142\n",
              "6             Dermatofibroma    115"
            ],
            "text/html": [
              "\n",
              "  <div id=\"df-df14c8c0-0a36-4d91-a576-0fe59055fdf4\">\n",
              "    <div class=\"colab-df-container\">\n",
              "      <div>\n",
              "<style scoped>\n",
              "    .dataframe tbody tr th:only-of-type {\n",
              "        vertical-align: middle;\n",
              "    }\n",
              "\n",
              "    .dataframe tbody tr th {\n",
              "        vertical-align: top;\n",
              "    }\n",
              "\n",
              "    .dataframe thead th {\n",
              "        text-align: right;\n",
              "    }\n",
              "</style>\n",
              "<table border=\"1\" class=\"dataframe\">\n",
              "  <thead>\n",
              "    <tr style=\"text-align: right;\">\n",
              "      <th></th>\n",
              "      <th>cancer_type</th>\n",
              "      <th>count</th>\n",
              "    </tr>\n",
              "  </thead>\n",
              "  <tbody>\n",
              "    <tr>\n",
              "      <th>0</th>\n",
              "      <td>Melanocytic nevi</td>\n",
              "      <td>6705</td>\n",
              "    </tr>\n",
              "    <tr>\n",
              "      <th>1</th>\n",
              "      <td>Melanoma</td>\n",
              "      <td>1113</td>\n",
              "    </tr>\n",
              "    <tr>\n",
              "      <th>2</th>\n",
              "      <td>Benign keratosis lesions</td>\n",
              "      <td>1099</td>\n",
              "    </tr>\n",
              "    <tr>\n",
              "      <th>3</th>\n",
              "      <td>Basal cell carcinoma</td>\n",
              "      <td>514</td>\n",
              "    </tr>\n",
              "    <tr>\n",
              "      <th>4</th>\n",
              "      <td>Actinic keratoses</td>\n",
              "      <td>327</td>\n",
              "    </tr>\n",
              "    <tr>\n",
              "      <th>5</th>\n",
              "      <td>Vascular lesions</td>\n",
              "      <td>142</td>\n",
              "    </tr>\n",
              "    <tr>\n",
              "      <th>6</th>\n",
              "      <td>Dermatofibroma</td>\n",
              "      <td>115</td>\n",
              "    </tr>\n",
              "  </tbody>\n",
              "</table>\n",
              "</div>\n",
              "      <button class=\"colab-df-convert\" onclick=\"convertToInteractive('df-df14c8c0-0a36-4d91-a576-0fe59055fdf4')\"\n",
              "              title=\"Convert this dataframe to an interactive table.\"\n",
              "              style=\"display:none;\">\n",
              "        \n",
              "  <svg xmlns=\"http://www.w3.org/2000/svg\" height=\"24px\"viewBox=\"0 0 24 24\"\n",
              "       width=\"24px\">\n",
              "    <path d=\"M0 0h24v24H0V0z\" fill=\"none\"/>\n",
              "    <path d=\"M18.56 5.44l.94 2.06.94-2.06 2.06-.94-2.06-.94-.94-2.06-.94 2.06-2.06.94zm-11 1L8.5 8.5l.94-2.06 2.06-.94-2.06-.94L8.5 2.5l-.94 2.06-2.06.94zm10 10l.94 2.06.94-2.06 2.06-.94-2.06-.94-.94-2.06-.94 2.06-2.06.94z\"/><path d=\"M17.41 7.96l-1.37-1.37c-.4-.4-.92-.59-1.43-.59-.52 0-1.04.2-1.43.59L10.3 9.45l-7.72 7.72c-.78.78-.78 2.05 0 2.83L4 21.41c.39.39.9.59 1.41.59.51 0 1.02-.2 1.41-.59l7.78-7.78 2.81-2.81c.8-.78.8-2.07 0-2.86zM5.41 20L4 18.59l7.72-7.72 1.47 1.35L5.41 20z\"/>\n",
              "  </svg>\n",
              "      </button>\n",
              "      \n",
              "  <style>\n",
              "    .colab-df-container {\n",
              "      display:flex;\n",
              "      flex-wrap:wrap;\n",
              "      gap: 12px;\n",
              "    }\n",
              "\n",
              "    .colab-df-convert {\n",
              "      background-color: #E8F0FE;\n",
              "      border: none;\n",
              "      border-radius: 50%;\n",
              "      cursor: pointer;\n",
              "      display: none;\n",
              "      fill: #1967D2;\n",
              "      height: 32px;\n",
              "      padding: 0 0 0 0;\n",
              "      width: 32px;\n",
              "    }\n",
              "\n",
              "    .colab-df-convert:hover {\n",
              "      background-color: #E2EBFA;\n",
              "      box-shadow: 0px 1px 2px rgba(60, 64, 67, 0.3), 0px 1px 3px 1px rgba(60, 64, 67, 0.15);\n",
              "      fill: #174EA6;\n",
              "    }\n",
              "\n",
              "    [theme=dark] .colab-df-convert {\n",
              "      background-color: #3B4455;\n",
              "      fill: #D2E3FC;\n",
              "    }\n",
              "\n",
              "    [theme=dark] .colab-df-convert:hover {\n",
              "      background-color: #434B5C;\n",
              "      box-shadow: 0px 1px 3px 1px rgba(0, 0, 0, 0.15);\n",
              "      filter: drop-shadow(0px 1px 2px rgba(0, 0, 0, 0.3));\n",
              "      fill: #FFFFFF;\n",
              "    }\n",
              "  </style>\n",
              "\n",
              "      <script>\n",
              "        const buttonEl =\n",
              "          document.querySelector('#df-df14c8c0-0a36-4d91-a576-0fe59055fdf4 button.colab-df-convert');\n",
              "        buttonEl.style.display =\n",
              "          google.colab.kernel.accessAllowed ? 'block' : 'none';\n",
              "\n",
              "        async function convertToInteractive(key) {\n",
              "          const element = document.querySelector('#df-df14c8c0-0a36-4d91-a576-0fe59055fdf4');\n",
              "          const dataTable =\n",
              "            await google.colab.kernel.invokeFunction('convertToInteractive',\n",
              "                                                     [key], {});\n",
              "          if (!dataTable) return;\n",
              "\n",
              "          const docLinkHtml = 'Like what you see? Visit the ' +\n",
              "            '<a target=\"_blank\" href=https://colab.research.google.com/notebooks/data_table.ipynb>data table notebook</a>'\n",
              "            + ' to learn more about interactive tables.';\n",
              "          element.innerHTML = '';\n",
              "          dataTable['output_type'] = 'display_data';\n",
              "          await google.colab.output.renderOutput(dataTable, element);\n",
              "          const docLink = document.createElement('div');\n",
              "          docLink.innerHTML = docLinkHtml;\n",
              "          element.appendChild(docLink);\n",
              "        }\n",
              "      </script>\n",
              "    </div>\n",
              "  </div>\n",
              "  "
            ]
          },
          "metadata": {},
          "execution_count": 41
        }
      ]
    },
    {
      "cell_type": "code",
      "source": [
        "#plotting skin cancer count by class\n",
        "plt.figure(figsize=(18,8))\n",
        "canc_typ=sns.countplot(metadata_df['dx'],order=metadata_df['dx'].value_counts().index)\n",
        "canc_typ.set_title('SKIN CANCER BY CLASS', fontsize=20)\n",
        "canc_typ.set_xlabel('Skin Cancer Class', fontsize=14)\n",
        "canc_typ.set_ylabel('Count', fontsize=14)\n"
      ],
      "metadata": {
        "colab": {
          "base_uri": "https://localhost:8080/",
          "height": 594
        },
        "id": "Gt5DfR7mFmpv",
        "outputId": "ecc176c8-7653-4a3f-8ce5-93cf51ea9692"
      },
      "execution_count": null,
      "outputs": [
        {
          "output_type": "stream",
          "name": "stderr",
          "text": [
            "/usr/local/lib/python3.7/dist-packages/seaborn/_decorators.py:43: FutureWarning: Pass the following variable as a keyword arg: x. From version 0.12, the only valid positional argument will be `data`, and passing other arguments without an explicit keyword will result in an error or misinterpretation.\n",
            "  FutureWarning\n"
          ]
        },
        {
          "output_type": "execute_result",
          "data": {
            "text/plain": [
              "Text(0, 0.5, 'Count')"
            ]
          },
          "metadata": {},
          "execution_count": 42
        },
        {
          "output_type": "display_data",
          "data": {
            "text/plain": [
              "<Figure size 1296x576 with 1 Axes>"
            ],
            "image/png": "[encoded data removed]"
          },
          "metadata": {
            "needs_background": "light"
          }
        }
      ]
    },
    {
      "cell_type": "markdown",
      "source": [
        "<p align =\"justify\">From the above table and plot we can see that Melanoctic Nevi class has the highest count of data points i.e. 6705 images and Dermatofibroma has the least number of images i.e. 115. we can conclude that the dataset is highly imbalanced.</p>"
      ],
      "metadata": {
        "id": "cjVovJ0u_Gip"
      }
    },
    {
      "cell_type": "code",
      "source": [
        "#plotting skin cancer by sex\n",
        "can_sex= sns.catplot(x=\"dx\", kind=\"count\", hue=\"sex\", palette='colorblind', data=metadata_df)\n",
        "can_sex.fig.set_size_inches(18, 6)\n",
        "can_sex.ax.set_title('Skin Cancer by Sex', fontsize=20)\n",
        "can_sex.set_xlabels('Skin Cancer Class', fontsize=14)\n",
        "can_sex.set_ylabels('Number of Data Points', fontsize=14)\n",
        "can_sex._legend.set_title('Sex')"
      ],
      "metadata": {
        "colab": {
          "base_uri": "https://localhost:8080/",
          "height": 456
        },
        "id": "7i3TGW0tQVB3",
        "outputId": "68f14d4b-7dbb-4f63-be82-ac0ed123ea49"
      },
      "execution_count": null,
      "outputs": [
        {
          "output_type": "display_data",
          "data": {
            "text/plain": [
              "<Figure size 1296x432 with 1 Axes>"
            ],
            "image/png": "[encoded data removed]"
          },
          "metadata": {
            "needs_background": "light"
          }
        }
      ]
    },
    {
      "cell_type": "markdown",
      "source": [
        "<p align =\"justify\">From we the above plot we observe that the Male and Female patients for each class of cancer is nearly equal in count.</p> "
      ],
      "metadata": {
        "id": "gX_YEdTlAcQ7"
      }
    },
    {
      "cell_type": "code",
      "source": [
        "# Finding unique types\n",
        "print(metadata_df[\"dx_type\"].unique())"
      ],
      "metadata": {
        "colab": {
          "base_uri": "https://localhost:8080/"
        },
        "id": "Q3417P5dojdX",
        "outputId": "033ff6a1-ccdd-4044-af9b-fad0d1de3ebd"
      },
      "execution_count": null,
      "outputs": [
        {
          "output_type": "stream",
          "name": "stdout",
          "text": [
            "['histo' 'consensus' 'confocal' 'follow_up']\n"
          ]
        }
      ]
    },
    {
      "cell_type": "code",
      "source": [
        "# Plotting the counts for each unique type\n",
        "metadata_df[\"dx_type\"].value_counts().plot(kind = \"bar\", color=[\"blue\", \"purple\", \"red\", \"green\" ])\n",
        "plt.xlabel(\"Lesions confirmed Method\", labelpad=14)\n",
        "plt.ylabel(\"Count\", labelpad=14)\n",
        "plt.title(\"Count of patients based on lesions confirmed Method\", y=1.02)"
      ],
      "metadata": {
        "colab": {
          "base_uri": "https://localhost:8080/",
          "height": 369
        },
        "id": "F5-RFTmEhoMu",
        "outputId": "33c6c621-9b70-44e3-a673-b0c3604b6c6f"
      },
      "execution_count": null,
      "outputs": [
        {
          "output_type": "execute_result",
          "data": {
            "text/plain": [
              "Text(0.5, 1.02, 'Count of patients based on lesions confirmed Method')"
            ]
          },
          "metadata": {},
          "execution_count": 45
        },
        {
          "output_type": "display_data",
          "data": {
            "text/plain": [
              "<Figure size 432x288 with 1 Axes>"
            ],
            "image/png": "[encoded data removed]"
          },
          "metadata": {
            "needs_background": "light"
          }
        }
      ]
    },
    {
      "cell_type": "markdown",
      "source": [
        "From the above plot we can see that the highest confirmed patients was from histology and follow up. we will not be considering this for training our model"
      ],
      "metadata": {
        "id": "TcV4Xw2VQgr6"
      }
    },
    {
      "cell_type": "code",
      "source": [
        "plt.figure(figsize=(18, 6))\n",
        "palette_color = sns.color_palette('bright')\n",
        "canc_loc=metadata_df['localization'].value_counts().plot(kind='bar' ,color=[\"blue\", \"orange\", \"green\", \"purple\", \"red\", \"pink\", \"brown\"]) \n",
        "canc_loc.set_title('localization of cancer leasions on body', fontsize=20)\n",
        "canc_loc.set_xlabel('Location of cancers', fontsize=14)\n",
        "canc_loc.set_ylabel('Count', fontsize=14)\n",
        "\n",
        "\n",
        "#skin_df['localization'].value_counts().plot(kind='bar', title=\"Location of cancers\")"
      ],
      "metadata": {
        "colab": {
          "base_uri": "https://localhost:8080/",
          "height": 500
        },
        "id": "MSfrlpbnhP4e",
        "outputId": "4bc54ec5-6e4e-4bbf-c4fc-b7e454c3b2c2"
      },
      "execution_count": null,
      "outputs": [
        {
          "output_type": "execute_result",
          "data": {
            "text/plain": [
              "Text(0, 0.5, 'Count')"
            ]
          },
          "metadata": {},
          "execution_count": 46
        },
        {
          "output_type": "display_data",
          "data": {
            "text/plain": [
              "<Figure size 1296x432 with 1 Axes>"
            ],
            "image/png": "[encoded data removed]"
          },
          "metadata": {
            "needs_background": "light"
          }
        }
      ]
    },
    {
      "cell_type": "code",
      "source": [
        "# Finding % for each class in the data\n",
        "df_count[\"Percentage\"] = (df_count[\"count\"] / len(metadata_df) * 100)\n",
        "df_count"
      ],
      "metadata": {
        "colab": {
          "base_uri": "https://localhost:8080/",
          "height": 269
        },
        "id": "IyP6edv3fXOU",
        "outputId": "e721cce3-1326-452a-bc62-dc1a96cd4167"
      },
      "execution_count": null,
      "outputs": [
        {
          "output_type": "execute_result",
          "data": {
            "text/plain": [
              "                 cancer_type  count  Percentage\n",
              "0           Melanocytic nevi   6705   66.949576\n",
              "1                   Melanoma   1113   11.113330\n",
              "2  Benign keratosis lesions    1099   10.973540\n",
              "3       Basal cell carcinoma    514    5.132302\n",
              "4          Actinic keratoses    327    3.265102\n",
              "5           Vascular lesions    142    1.417873\n",
              "6             Dermatofibroma    115    1.148278"
            ],
            "text/html": [
              "\n",
              "  <div id=\"df-f6d4cca2-2e61-43d5-b64e-1d3aab176c8d\">\n",
              "    <div class=\"colab-df-container\">\n",
              "      <div>\n",
              "<style scoped>\n",
              "    .dataframe tbody tr th:only-of-type {\n",
              "        vertical-align: middle;\n",
              "    }\n",
              "\n",
              "    .dataframe tbody tr th {\n",
              "        vertical-align: top;\n",
              "    }\n",
              "\n",
              "    .dataframe thead th {\n",
              "        text-align: right;\n",
              "    }\n",
              "</style>\n",
              "<table border=\"1\" class=\"dataframe\">\n",
              "  <thead>\n",
              "    <tr style=\"text-align: right;\">\n",
              "      <th></th>\n",
              "      <th>cancer_type</th>\n",
              "      <th>count</th>\n",
              "      <th>Percentage</th>\n",
              "    </tr>\n",
              "  </thead>\n",
              "  <tbody>\n",
              "    <tr>\n",
              "      <th>0</th>\n",
              "      <td>Melanocytic nevi</td>\n",
              "      <td>6705</td>\n",
              "      <td>66.949576</td>\n",
              "    </tr>\n",
              "    <tr>\n",
              "      <th>1</th>\n",
              "      <td>Melanoma</td>\n",
              "      <td>1113</td>\n",
              "      <td>11.113330</td>\n",
              "    </tr>\n",
              "    <tr>\n",
              "      <th>2</th>\n",
              "      <td>Benign keratosis lesions</td>\n",
              "      <td>1099</td>\n",
              "      <td>10.973540</td>\n",
              "    </tr>\n",
              "    <tr>\n",
              "      <th>3</th>\n",
              "      <td>Basal cell carcinoma</td>\n",
              "      <td>514</td>\n",
              "      <td>5.132302</td>\n",
              "    </tr>\n",
              "    <tr>\n",
              "      <th>4</th>\n",
              "      <td>Actinic keratoses</td>\n",
              "      <td>327</td>\n",
              "      <td>3.265102</td>\n",
              "    </tr>\n",
              "    <tr>\n",
              "      <th>5</th>\n",
              "      <td>Vascular lesions</td>\n",
              "      <td>142</td>\n",
              "      <td>1.417873</td>\n",
              "    </tr>\n",
              "    <tr>\n",
              "      <th>6</th>\n",
              "      <td>Dermatofibroma</td>\n",
              "      <td>115</td>\n",
              "      <td>1.148278</td>\n",
              "    </tr>\n",
              "  </tbody>\n",
              "</table>\n",
              "</div>\n",
              "      <button class=\"colab-df-convert\" onclick=\"convertToInteractive('df-f6d4cca2-2e61-43d5-b64e-1d3aab176c8d')\"\n",
              "              title=\"Convert this dataframe to an interactive table.\"\n",
              "              style=\"display:none;\">\n",
              "        \n",
              "  <svg xmlns=\"http://www.w3.org/2000/svg\" height=\"24px\"viewBox=\"0 0 24 24\"\n",
              "       width=\"24px\">\n",
              "    <path d=\"M0 0h24v24H0V0z\" fill=\"none\"/>\n",
              "    <path d=\"M18.56 5.44l.94 2.06.94-2.06 2.06-.94-2.06-.94-.94-2.06-.94 2.06-2.06.94zm-11 1L8.5 8.5l.94-2.06 2.06-.94-2.06-.94L8.5 2.5l-.94 2.06-2.06.94zm10 10l.94 2.06.94-2.06 2.06-.94-2.06-.94-.94-2.06-.94 2.06-2.06.94z\"/><path d=\"M17.41 7.96l-1.37-1.37c-.4-.4-.92-.59-1.43-.59-.52 0-1.04.2-1.43.59L10.3 9.45l-7.72 7.72c-.78.78-.78 2.05 0 2.83L4 21.41c.39.39.9.59 1.41.59.51 0 1.02-.2 1.41-.59l7.78-7.78 2.81-2.81c.8-.78.8-2.07 0-2.86zM5.41 20L4 18.59l7.72-7.72 1.47 1.35L5.41 20z\"/>\n",
              "  </svg>\n",
              "      </button>\n",
              "      \n",
              "  <style>\n",
              "    .colab-df-container {\n",
              "      display:flex;\n",
              "      flex-wrap:wrap;\n",
              "      gap: 12px;\n",
              "    }\n",
              "\n",
              "    .colab-df-convert {\n",
              "      background-color: #E8F0FE;\n",
              "      border: none;\n",
              "      border-radius: 50%;\n",
              "      cursor: pointer;\n",
              "      display: none;\n",
              "      fill: #1967D2;\n",
              "      height: 32px;\n",
              "      padding: 0 0 0 0;\n",
              "      width: 32px;\n",
              "    }\n",
              "\n",
              "    .colab-df-convert:hover {\n",
              "      background-color: #E2EBFA;\n",
              "      box-shadow: 0px 1px 2px rgba(60, 64, 67, 0.3), 0px 1px 3px 1px rgba(60, 64, 67, 0.15);\n",
              "      fill: #174EA6;\n",
              "    }\n",
              "\n",
              "    [theme=dark] .colab-df-convert {\n",
              "      background-color: #3B4455;\n",
              "      fill: #D2E3FC;\n",
              "    }\n",
              "\n",
              "    [theme=dark] .colab-df-convert:hover {\n",
              "      background-color: #434B5C;\n",
              "      box-shadow: 0px 1px 3px 1px rgba(0, 0, 0, 0.15);\n",
              "      filter: drop-shadow(0px 1px 2px rgba(0, 0, 0, 0.3));\n",
              "      fill: #FFFFFF;\n",
              "    }\n",
              "  </style>\n",
              "\n",
              "      <script>\n",
              "        const buttonEl =\n",
              "          document.querySelector('#df-f6d4cca2-2e61-43d5-b64e-1d3aab176c8d button.colab-df-convert');\n",
              "        buttonEl.style.display =\n",
              "          google.colab.kernel.accessAllowed ? 'block' : 'none';\n",
              "\n",
              "        async function convertToInteractive(key) {\n",
              "          const element = document.querySelector('#df-f6d4cca2-2e61-43d5-b64e-1d3aab176c8d');\n",
              "          const dataTable =\n",
              "            await google.colab.kernel.invokeFunction('convertToInteractive',\n",
              "                                                     [key], {});\n",
              "          if (!dataTable) return;\n",
              "\n",
              "          const docLinkHtml = 'Like what you see? Visit the ' +\n",
              "            '<a target=\"_blank\" href=https://colab.research.google.com/notebooks/data_table.ipynb>data table notebook</a>'\n",
              "            + ' to learn more about interactive tables.';\n",
              "          element.innerHTML = '';\n",
              "          dataTable['output_type'] = 'display_data';\n",
              "          await google.colab.output.renderOutput(dataTable, element);\n",
              "          const docLink = document.createElement('div');\n",
              "          docLink.innerHTML = docLinkHtml;\n",
              "          element.appendChild(docLink);\n",
              "        }\n",
              "      </script>\n",
              "    </div>\n",
              "  </div>\n",
              "  "
            ]
          },
          "metadata": {},
          "execution_count": 47
        }
      ]
    },
    {
      "cell_type": "code",
      "source": [
        "import seaborn as sns\n",
        "plt.figure(figsize=(18,7))\n",
        "palette_color = sns.color_palette('Accent')\n",
        "plt.pie(df_count[\"Percentage\"], labels=df_count[\"cancer_type\"], colors=palette_color,  autopct='%.0f%%')\n",
        "plt.title(\"Percentage distribution of  cancer classes in the  dataset\", y=1.05)\n"
      ],
      "metadata": {
        "colab": {
          "base_uri": "https://localhost:8080/",
          "height": 463
        },
        "id": "5bEqiK__knhO",
        "outputId": "46001309-9c74-4504-c23d-5bad9aa103f6"
      },
      "execution_count": null,
      "outputs": [
        {
          "output_type": "execute_result",
          "data": {
            "text/plain": [
              "Text(0.5, 1.05, 'Percentage distribution of  cancer classes in the  dataset')"
            ]
          },
          "metadata": {},
          "execution_count": 48
        },
        {
          "output_type": "display_data",
          "data": {
            "text/plain": [
              "<Figure size 1296x504 with 1 Axes>"
            ],
            "image/png": "[encoded data removed]"
          },
          "metadata": {}
        }
      ]
    },
    {
      "cell_type": "markdown",
      "source": [
        "<p align =\"justify\">In an image classification problem, it I required to have a balanced number of images in each of the classes for the model to train without any biases. Most of the machine learning models or algorithms assume that the data is distributed across the classes equally. If we train a model with imbalanced data the prediction will not be efficient and will have a bias towards the majority class as the algorithm will not have much data to train on the classes that have less data. As a result the predictions are not optimized. The second problem is that with fewer number of images in some classes it would be difficult to divide the data set to train, test and validation set.</p>\n",
        "<p align =\"justify\">From the above pie chart and table, we can clearly see that Melanocytic nevi class of cancer has the majority of the images that is about 67%.  Dermatofibroma and Vascular lesions class have only 1% of images to train on. This will result in class imbalance problem. This can be solved by assigning weights to the classes while training the model.</p> \n"
      ],
      "metadata": {
        "id": "pcBSaMnGEPXE"
      }
    },
    {
      "cell_type": "markdown",
      "source": [
        "# 7. Data Engineering"
      ],
      "metadata": {
        "id": "-77OOmyxCLje"
      }
    },
    {
      "cell_type": "markdown",
      "source": [
        "<p align =\"justify\">In this section we will engineer the data before we start to train the model. The skin cancer images are in two folders \"HAM10000_images_part_1\" and \"HAM10000_images_part_2”. The following steps are implemented below: </p>  \n",
        "\n",
        "1.   Consolidate  all images into a single folder\n",
        "2.   Create a sub folder structure based on the class names i.e. 7 classes\n",
        "3.   Using the metadata.csv we will map the image id to dx (class names) and push the images to their respective folders\n",
        "4. Split the data into training, validation and test sets.\n"
      ],
      "metadata": {
        "id": "OzVKQzT5CzdN"
      }
    },
    {
      "cell_type": "code",
      "source": [
        "# creating a folder to consolidate the images\n",
        "try:\n",
        "  os.mkdir(\"/content/consolidate/\")\n",
        "except FileExistsError: \n",
        "  print(\"Folder Already Exists!\")"
      ],
      "metadata": {
        "id": "1fTtKot0jsmY"
      },
      "execution_count": null,
      "outputs": []
    },
    {
      "cell_type": "code",
      "source": [
        "# setting source and destination directories \n",
        "src1_dir = \"/content/skin_can/data_set/HAM10000_images_part_1\"\n",
        "src2_dir = \"/content/skin_can/data_set/HAM10000_images_part_2\"\n",
        "dst_dir = \"/content/consolidate/\"\n",
        "metadata_df2 = pd.read_csv(\"/content/skin_can/data_set/HAM10000_metadata.csv\")\n",
        "# Copying images \n",
        "for images1 in glob(os.path.join(src1_dir, \"*.jpg\")):\n",
        "    shutil.copy(images1, dst_dir)\n",
        "\n",
        "for images2 in glob(os.path.join(src2_dir, \"*.jpg\")):\n",
        "  shutil.copy(images2, dst_dir)"
      ],
      "metadata": {
        "id": "-9zM0nBwtbyr"
      },
      "execution_count": null,
      "outputs": []
    },
    {
      "cell_type": "code",
      "source": [
        "# verifying if the all the data is copied \n",
        "len(os.listdir(\"/content/consolidate/\"))"
      ],
      "metadata": {
        "colab": {
          "base_uri": "https://localhost:8080/"
        },
        "id": "wuJPiQDtuWSx",
        "outputId": "fe4659f1-1d1e-4908-ba0f-df7d69b5bb41"
      },
      "execution_count": null,
      "outputs": [
        {
          "output_type": "execute_result",
          "data": {
            "text/plain": [
              "10015"
            ]
          },
          "metadata": {},
          "execution_count": 51
        }
      ]
    },
    {
      "cell_type": "code",
      "source": [
        "# saving the class labels in a list\n",
        "labels = [] \n",
        "for i in metadata_df2[\"dx\"].unique():\n",
        "  labels.append(i)\n",
        "labels"
      ],
      "metadata": {
        "colab": {
          "base_uri": "https://localhost:8080/"
        },
        "id": "MgNnDz76wL_A",
        "outputId": "fbedd500-a132-4f17-c3c1-2ee9290e71c2"
      },
      "execution_count": null,
      "outputs": [
        {
          "output_type": "execute_result",
          "data": {
            "text/plain": [
              "['bkl', 'nv', 'df', 'mel', 'vasc', 'bcc', 'akiec']"
            ]
          },
          "metadata": {},
          "execution_count": 52
        }
      ]
    },
    {
      "cell_type": "code",
      "source": [
        "try: \n",
        "  os.mkdir(\"/content/clean_data/\")\n",
        "except FileExistsError:\n",
        "  print(\"Folder Already exists\")\n",
        "data_dir = \"/content/consolidate/\"\n",
        "dest_dir = \"/content/clean_data/\" # folder under which the 7 classes in folder "
      ],
      "metadata": {
        "id": "bB4rYYhDxygU"
      },
      "execution_count": null,
      "outputs": []
    },
    {
      "cell_type": "code",
      "source": [
        "# copying the images to thier respective class folders \n",
        "label_images =[]\n",
        "for i in labels:\n",
        "    os.mkdir(dest_dir +str(i) + \"/\")\n",
        "    sample = metadata_df2[metadata_df2['dx'] == i]['image_id']\n",
        "    label_images.extend(sample)\n",
        "    for id in label_images:\n",
        "        shutil.copyfile((data_dir + id +\".jpg\"), (dest_dir  + i + \"/\"+id+\".jpg\"))\n",
        "    label_images = []\n",
        "    \n"
      ],
      "metadata": {
        "id": "Ja0RrHD6GE4s"
      },
      "execution_count": null,
      "outputs": []
    },
    {
      "cell_type": "markdown",
      "source": [
        "<p align =\"justify\">With the split-folder module we can divide the data into Test, Validation and training set as per our required ratio for all the class subfolders with we created previously. This will also take care of having not having any duplicate images in Test, validation and Training sets.</p>"
      ],
      "metadata": {
        "id": "e-eX2B39aVKR"
      }
    },
    {
      "cell_type": "code",
      "source": [
        "# installing the split-folders module\n",
        "!pip install split-folders\n",
        "import splitfolders"
      ],
      "metadata": {
        "colab": {
          "base_uri": "https://localhost:8080/"
        },
        "id": "SpfTNkyHTq8l",
        "outputId": "18c02eb0-40a8-4ad3-98a6-7427368cf176"
      },
      "execution_count": null,
      "outputs": [
        {
          "output_type": "stream",
          "name": "stdout",
          "text": [
            "Looking in indexes: https://pypi.org/simple, https://us-python.pkg.dev/colab-wheels/public/simple/\n",
            "Collecting split-folders\n",
            "  Downloading split_folders-0.5.1-py3-none-any.whl (8.4 kB)\n",
            "Installing collected packages: split-folders\n",
            "Successfully installed split-folders-0.5.1\n"
          ]
        }
      ]
    },
    {
      "cell_type": "code",
      "source": [
        "# estimating the no of images in each class in test , val and training set to validate it after the splitting is done below \n",
        "df_split_cal = metadata_df[\"dx\"].value_counts().rename_axis('cancer_type').reset_index(name='counts')\n",
        "df_split_cal[\"Percentage\"] = (df_split_cal[\"counts\"] / len(metadata_df) * 100)\n",
        "df_split_cal[\"train_set\"] =round((df_split_cal[\"Percentage\"]/100) * 8012) # 80% training set\n",
        "df_split_cal[\"val_set\"] = round((df_split_cal[\"Percentage\"]/100) * 1001)  # 10% validation set\n",
        "df_split_cal[\"test_set\"] = round((df_split_cal[\"Percentage\"]/100) * 1001) # 10% test set\n",
        "df_split_cal = df_split_cal.sort_values(\"cancer_type\")\n",
        "df_split_cal"
      ],
      "metadata": {
        "colab": {
          "base_uri": "https://localhost:8080/",
          "height": 269
        },
        "id": "Y1zgI7G85SIR",
        "outputId": "becfc411-79aa-4a5c-f6e5-39f059999edc"
      },
      "execution_count": null,
      "outputs": [
        {
          "output_type": "execute_result",
          "data": {
            "text/plain": [
              "                 cancer_type  counts  Percentage  train_set  val_set  test_set\n",
              "4          Actinic keratoses     327    3.265102      262.0     33.0      33.0\n",
              "3       Basal cell carcinoma     514    5.132302      411.0     51.0      51.0\n",
              "2  Benign keratosis lesions     1099   10.973540      879.0    110.0     110.0\n",
              "6             Dermatofibroma     115    1.148278       92.0     11.0      11.0\n",
              "0           Melanocytic nevi    6705   66.949576     5364.0    670.0     670.0\n",
              "1                   Melanoma    1113   11.113330      890.0    111.0     111.0\n",
              "5           Vascular lesions     142    1.417873      114.0     14.0      14.0"
            ],
            "text/html": [
              "\n",
              "  <div id=\"df-be3b600d-e7ce-4a93-ae47-024e8b5ce7e4\">\n",
              "    <div class=\"colab-df-container\">\n",
              "      <div>\n",
              "<style scoped>\n",
              "    .dataframe tbody tr th:only-of-type {\n",
              "        vertical-align: middle;\n",
              "    }\n",
              "\n",
              "    .dataframe tbody tr th {\n",
              "        vertical-align: top;\n",
              "    }\n",
              "\n",
              "    .dataframe thead th {\n",
              "        text-align: right;\n",
              "    }\n",
              "</style>\n",
              "<table border=\"1\" class=\"dataframe\">\n",
              "  <thead>\n",
              "    <tr style=\"text-align: right;\">\n",
              "      <th></th>\n",
              "      <th>cancer_type</th>\n",
              "      <th>counts</th>\n",
              "      <th>Percentage</th>\n",
              "      <th>train_set</th>\n",
              "      <th>val_set</th>\n",
              "      <th>test_set</th>\n",
              "    </tr>\n",
              "  </thead>\n",
              "  <tbody>\n",
              "    <tr>\n",
              "      <th>4</th>\n",
              "      <td>Actinic keratoses</td>\n",
              "      <td>327</td>\n",
              "      <td>3.265102</td>\n",
              "      <td>262.0</td>\n",
              "      <td>33.0</td>\n",
              "      <td>33.0</td>\n",
              "    </tr>\n",
              "    <tr>\n",
              "      <th>3</th>\n",
              "      <td>Basal cell carcinoma</td>\n",
              "      <td>514</td>\n",
              "      <td>5.132302</td>\n",
              "      <td>411.0</td>\n",
              "      <td>51.0</td>\n",
              "      <td>51.0</td>\n",
              "    </tr>\n",
              "    <tr>\n",
              "      <th>2</th>\n",
              "      <td>Benign keratosis lesions</td>\n",
              "      <td>1099</td>\n",
              "      <td>10.973540</td>\n",
              "      <td>879.0</td>\n",
              "      <td>110.0</td>\n",
              "      <td>110.0</td>\n",
              "    </tr>\n",
              "    <tr>\n",
              "      <th>6</th>\n",
              "      <td>Dermatofibroma</td>\n",
              "      <td>115</td>\n",
              "      <td>1.148278</td>\n",
              "      <td>92.0</td>\n",
              "      <td>11.0</td>\n",
              "      <td>11.0</td>\n",
              "    </tr>\n",
              "    <tr>\n",
              "      <th>0</th>\n",
              "      <td>Melanocytic nevi</td>\n",
              "      <td>6705</td>\n",
              "      <td>66.949576</td>\n",
              "      <td>5364.0</td>\n",
              "      <td>670.0</td>\n",
              "      <td>670.0</td>\n",
              "    </tr>\n",
              "    <tr>\n",
              "      <th>1</th>\n",
              "      <td>Melanoma</td>\n",
              "      <td>1113</td>\n",
              "      <td>11.113330</td>\n",
              "      <td>890.0</td>\n",
              "      <td>111.0</td>\n",
              "      <td>111.0</td>\n",
              "    </tr>\n",
              "    <tr>\n",
              "      <th>5</th>\n",
              "      <td>Vascular lesions</td>\n",
              "      <td>142</td>\n",
              "      <td>1.417873</td>\n",
              "      <td>114.0</td>\n",
              "      <td>14.0</td>\n",
              "      <td>14.0</td>\n",
              "    </tr>\n",
              "  </tbody>\n",
              "</table>\n",
              "</div>\n",
              "      <button class=\"colab-df-convert\" onclick=\"convertToInteractive('df-be3b600d-e7ce-4a93-ae47-024e8b5ce7e4')\"\n",
              "              title=\"Convert this dataframe to an interactive table.\"\n",
              "              style=\"display:none;\">\n",
              "        \n",
              "  <svg xmlns=\"http://www.w3.org/2000/svg\" height=\"24px\"viewBox=\"0 0 24 24\"\n",
              "       width=\"24px\">\n",
              "    <path d=\"M0 0h24v24H0V0z\" fill=\"none\"/>\n",
              "    <path d=\"M18.56 5.44l.94 2.06.94-2.06 2.06-.94-2.06-.94-.94-2.06-.94 2.06-2.06.94zm-11 1L8.5 8.5l.94-2.06 2.06-.94-2.06-.94L8.5 2.5l-.94 2.06-2.06.94zm10 10l.94 2.06.94-2.06 2.06-.94-2.06-.94-.94-2.06-.94 2.06-2.06.94z\"/><path d=\"M17.41 7.96l-1.37-1.37c-.4-.4-.92-.59-1.43-.59-.52 0-1.04.2-1.43.59L10.3 9.45l-7.72 7.72c-.78.78-.78 2.05 0 2.83L4 21.41c.39.39.9.59 1.41.59.51 0 1.02-.2 1.41-.59l7.78-7.78 2.81-2.81c.8-.78.8-2.07 0-2.86zM5.41 20L4 18.59l7.72-7.72 1.47 1.35L5.41 20z\"/>\n",
              "  </svg>\n",
              "      </button>\n",
              "      \n",
              "  <style>\n",
              "    .colab-df-container {\n",
              "      display:flex;\n",
              "      flex-wrap:wrap;\n",
              "      gap: 12px;\n",
              "    }\n",
              "\n",
              "    .colab-df-convert {\n",
              "      background-color: #E8F0FE;\n",
              "      border: none;\n",
              "      border-radius: 50%;\n",
              "      cursor: pointer;\n",
              "      display: none;\n",
              "      fill: #1967D2;\n",
              "      height: 32px;\n",
              "      padding: 0 0 0 0;\n",
              "      width: 32px;\n",
              "    }\n",
              "\n",
              "    .colab-df-convert:hover {\n",
              "      background-color: #E2EBFA;\n",
              "      box-shadow: 0px 1px 2px rgba(60, 64, 67, 0.3), 0px 1px 3px 1px rgba(60, 64, 67, 0.15);\n",
              "      fill: #174EA6;\n",
              "    }\n",
              "\n",
              "    [theme=dark] .colab-df-convert {\n",
              "      background-color: #3B4455;\n",
              "      fill: #D2E3FC;\n",
              "    }\n",
              "\n",
              "    [theme=dark] .colab-df-convert:hover {\n",
              "      background-color: #434B5C;\n",
              "      box-shadow: 0px 1px 3px 1px rgba(0, 0, 0, 0.15);\n",
              "      filter: drop-shadow(0px 1px 2px rgba(0, 0, 0, 0.3));\n",
              "      fill: #FFFFFF;\n",
              "    }\n",
              "  </style>\n",
              "\n",
              "      <script>\n",
              "        const buttonEl =\n",
              "          document.querySelector('#df-be3b600d-e7ce-4a93-ae47-024e8b5ce7e4 button.colab-df-convert');\n",
              "        buttonEl.style.display =\n",
              "          google.colab.kernel.accessAllowed ? 'block' : 'none';\n",
              "\n",
              "        async function convertToInteractive(key) {\n",
              "          const element = document.querySelector('#df-be3b600d-e7ce-4a93-ae47-024e8b5ce7e4');\n",
              "          const dataTable =\n",
              "            await google.colab.kernel.invokeFunction('convertToInteractive',\n",
              "                                                     [key], {});\n",
              "          if (!dataTable) return;\n",
              "\n",
              "          const docLinkHtml = 'Like what you see? Visit the ' +\n",
              "            '<a target=\"_blank\" href=https://colab.research.google.com/notebooks/data_table.ipynb>data table notebook</a>'\n",
              "            + ' to learn more about interactive tables.';\n",
              "          element.innerHTML = '';\n",
              "          dataTable['output_type'] = 'display_data';\n",
              "          await google.colab.output.renderOutput(dataTable, element);\n",
              "          const docLink = document.createElement('div');\n",
              "          docLink.innerHTML = docLinkHtml;\n",
              "          element.appendChild(docLink);\n",
              "        }\n",
              "      </script>\n",
              "    </div>\n",
              "  </div>\n",
              "  "
            ]
          },
          "metadata": {},
          "execution_count": 56
        }
      ]
    },
    {
      "cell_type": "markdown",
      "source": [
        "<p align =\"justify\">The below command will split the data based on the specified ratio (.8, .1 , .1) , which is 80 % of our data will be for Training, 10 % for validation and the remaining 10 % for Testing our model.</p> "
      ],
      "metadata": {
        "id": "xpJ0ZOs5demo"
      }
    },
    {
      "cell_type": "code",
      "source": [
        "splitfolders.ratio(\"/content/clean_data/\", output=\"/content/engg_data/\",seed=1337, ratio=(.8, .1, .1), group_prefix=None, move=True)"
      ],
      "metadata": {
        "colab": {
          "base_uri": "https://localhost:8080/"
        },
        "id": "Z8qqtbvEVD-0",
        "outputId": "94685b25-e590-4f82-f155-d60b41d1271f"
      },
      "execution_count": null,
      "outputs": [
        {
          "output_type": "stream",
          "name": "stderr",
          "text": [
            "Copying files: 10015 files [00:01, 6029.10 files/s]\n"
          ]
        }
      ]
    },
    {
      "cell_type": "code",
      "source": [
        "# validating the split fuctions with the values from the table \n",
        "len(os.listdir(\"/content/engg_data/train/nv\")), len(os.listdir(\"/content/engg_data/val/mel\"))"
      ],
      "metadata": {
        "colab": {
          "base_uri": "https://localhost:8080/"
        },
        "id": "tBTzZnYcV2I6",
        "outputId": "b7d02542-b548-4cbe-ddfb-25a90300f1f7"
      },
      "execution_count": null,
      "outputs": [
        {
          "output_type": "execute_result",
          "data": {
            "text/plain": [
              "(5364, 111)"
            ]
          },
          "metadata": {},
          "execution_count": 58
        }
      ]
    },
    {
      "cell_type": "markdown",
      "source": [
        "<p align =\"justify\">We see that there are 5364 images in the Melanocytic nevi class in Training set and 111 images in Melanoma class in validation set. This matches with the calculated values from the above table.</p>"
      ],
      "metadata": {
        "id": "_MzNgF5UjL53"
      }
    },
    {
      "cell_type": "markdown",
      "source": [
        "# 8. Model building"
      ],
      "metadata": {
        "id": "XYPp_r_aCFr5"
      }
    },
    {
      "cell_type": "code",
      "source": [
        "# imorting modules and packages required for building and training the model\n",
        "import random\n",
        "np.random.seed(1356)\n",
        "from sklearn.preprocessing import label_binarize\n",
        "from keras.preprocessing.image import load_img, img_to_array, ImageDataGenerator\n",
        "from sklearn.metrics import confusion_matrix\n",
        "import itertools\n",
        "import tensorflow as tf\n",
        "import shutil\n",
        "\n",
        "import keras\n",
        "from keras.utils.np_utils import to_categorical # used for converting labels to one-hot-encoding\n",
        "from keras.models import Sequential\n",
        "from keras.layers import Dense, Dropout, Flatten, Conv2D, MaxPool2D\n",
        "from keras import backend as K\n",
        "from tensorflow.keras.layers import BatchNormalization\n",
        "\n",
        "from tensorflow.keras.metrics import PrecisionAtRecall, Recall, CategoricalAccuracy\n",
        "from tensorflow.keras.metrics import Precision\n",
        "from keras.applications.resnet_v2 import ResNet50V2\n",
        "from tensorflow.keras.layers import GlobalAveragePooling2D\n",
        "from tensorflow.keras.optimizers import SGD, Adam\n",
        "from tensorflow.keras.callbacks import ReduceLROnPlateau\n",
        "from keras.callbacks import EarlyStopping, ModelCheckpoint \n",
        "\n"
      ],
      "metadata": {
        "id": "yxQLpzzq9-DT"
      },
      "execution_count": 88,
      "outputs": []
    },
    {
      "cell_type": "markdown",
      "source": [
        "<p align =\"justify\">With the engineered data from the previous section The data is ready to be used for training our models.In this Section we will build machine learing models and train them. \n",
        "As noted in our EDA the data is imbalnced, so to solve this we will assign weights for each class while training our model.For better results we would also used image augmentation techinque before we train our model.</p>"
      ],
      "metadata": {
        "id": "sZZByYNqLVGh"
      }
    },
    {
      "cell_type": "markdown",
      "source": [
        "### Image Augmentation \n",
        "\n",
        "<p align =\"justify\">As we know that some of the classes such as dermatofibroma, Vascular lesion classes have very less images to train. As our data set is a health care data set, it is very difficult to collect actual data.  To tackle this problem, we use Image augmentation technique. Using image augmentation, we can transform the original images to create some training data set by rotating, flipping, adding noises or blurring the images. This would help us in training the Deep Neural Network with larger data set and will also avoid overfitting a model to some extent.</p>\n",
        "<p align =\"justify\">This has been implemented below with ImageDataGenerator Class with Keras library. The parameters used for augmentation used is as below:</p>\n",
        "\n",
        "\n",
        "*   Rotated by 20%\n",
        "*   Sheared by 10%\n",
        "*   Zoomed by 10% \n",
        "*   Horizontal flip\n",
        "\n",
        "<p align =\"justify\">Apart from this for ResNet50V2 model we have used an inbuilt function in keras for image augmentation called resnet_v2. preprocess_input in ImageDataGenerator Class.</p>\n"
      ],
      "metadata": {
        "id": "tyrInzFl8FAw"
      }
    },
    {
      "cell_type": "code",
      "source": [
        "# assigning the test, train and validation image path\n",
        "train_path = \"/content/engg_data/train\"\n",
        "test_path = \"/content/engg_data/test\"\n",
        "val_path = \"/content/engg_data/val\""
      ],
      "metadata": {
        "id": "YO7ZAUoACeIf"
      },
      "execution_count": null,
      "outputs": []
    },
    {
      "cell_type": "code",
      "source": [
        "# image preprocess function for Resnet50V2 model \n",
        "imgen_train_val= ImageDataGenerator(#shear_range=0.1, zoom_range = 0.2,\n",
        "                                           #horizontal_flip=True, shear_range =0.1)                   # uncommnet and run the code to run with image aug \n",
        "                                     preprocessing_function=tf.keras.applications.resnet_v2.preprocess_input)\n",
        "\n",
        "imgen_test = ImageDataGenerator(#shear_range=0.2, zoom_range = 0.2,\n",
        "                                           #horizontal_flip=True,shear_range =0.1)\n",
        "                                preprocessing_function=tf.keras.applications.resnet_v2.preprocess_input)\n"
      ],
      "metadata": {
        "id": "9XBWWiX6W6lQ"
      },
      "execution_count": null,
      "outputs": []
    },
    {
      "cell_type": "code",
      "source": [
        "targ_size = (224, 224)\n",
        "\n",
        "train_data = imgen_train_val.flow_from_directory(directory=train_path, \n",
        "                                                          target_size=targ_size,\n",
        "                                                          color_mode=\"rgb\",\n",
        "                                                          class_mode = \"categorical\",\n",
        "                                                          batch_size=16)\n",
        "\n",
        "val_data = imgen_train_val.flow_from_directory(directory=val_path, \n",
        "                                                          target_size=targ_size,\n",
        "                                                          color_mode=\"rgb\",\n",
        "                                                          class_mode = \"categorical\",\n",
        "                                                          batch_size=16)\n",
        "\n",
        "test_data = imgen_test.flow_from_directory(directory=test_path, \n",
        "                                                          target_size=targ_size,\n",
        "                                                          color_mode=\"rgb\",\n",
        "                                                          class_mode = \"categorical\",\n",
        "                                                          batch_size=16)"
      ],
      "metadata": {
        "colab": {
          "base_uri": "https://localhost:8080/"
        },
        "id": "EmCP0d67Xuxi",
        "outputId": "0f2b5612-a50d-496b-c5ed-3aafc4e1c178"
      },
      "execution_count": null,
      "outputs": [
        {
          "output_type": "stream",
          "name": "stdout",
          "text": [
            "Found 8010 images belonging to 7 classes.\n",
            "Found 998 images belonging to 7 classes.\n",
            "Found 1007 images belonging to 7 classes.\n"
          ]
        }
      ]
    },
    {
      "cell_type": "markdown",
      "source": [
        "### Class Weights\n",
        "\n",
        "<p align =\"justify\">Another way of addressing the problem of class imbalance i.e uneven distribution of data in each class is by assigning class weights while training the model. As this is a classification problem and most of the Deep learning algorithms wills assume our data is evenly distributed, which is not in our case. As a result if we train the model with out the class weights assigned the results will be skewed towards predicting the majority class.</p>\n",
        "\n",
        "<p align =\"justify\">Though we may get a good accuracy in the model the f1-score of the minority class will be very small. To address this we have calculated the class weights of each of the class below with inbuilt module in sklearn using class_weight.compute_class_weight function.</p>\n"
      ],
      "metadata": {
        "id": "j92uU4ZzIJ1u"
      }
    },
    {
      "cell_type": "code",
      "source": [
        "class_type = train_data.class_indices\n",
        "class_type"
      ],
      "metadata": {
        "colab": {
          "base_uri": "https://localhost:8080/"
        },
        "id": "qc4KYVGdBo2f",
        "outputId": "fd1df1c8-c49e-4e87-a9f6-fca2370385c0"
      },
      "execution_count": null,
      "outputs": [
        {
          "output_type": "execute_result",
          "data": {
            "text/plain": [
              "{'akiec': 0, 'bcc': 1, 'bkl': 2, 'df': 3, 'mel': 4, 'nv': 5, 'vasc': 6}"
            ]
          },
          "metadata": {},
          "execution_count": 63
        }
      ]
    },
    {
      "cell_type": "code",
      "source": [
        "from sklearn.utils import class_weight\n",
        "class_weights = class_weight.compute_class_weight(class_weight = 'balanced', \n",
        "                                                  classes = np.unique(train_data.classes), \n",
        "                                                  y = train_data.classes)\n",
        "weight_dict = dict(enumerate(class_weights))\n",
        "weight_dict "
      ],
      "metadata": {
        "colab": {
          "base_uri": "https://localhost:8080/"
        },
        "id": "2fCJ04B5FG83",
        "outputId": "60a4b7e9-1367-4381-a940-1cb2a9efd3f9"
      },
      "execution_count": null,
      "outputs": [
        {
          "output_type": "execute_result",
          "data": {
            "text/plain": [
              "{0: 4.384236453201971,\n",
              " 1: 2.78415015641293,\n",
              " 2: 1.3018039980497318,\n",
              " 3: 12.437888198757763,\n",
              " 4: 1.2857142857142858,\n",
              " 5: 0.21332694151486098,\n",
              " 6: 10.126422250316056}"
            ]
          },
          "metadata": {},
          "execution_count": 64
        }
      ]
    },
    {
      "cell_type": "markdown",
      "source": [
        "### Transfer-Learning\n",
        "\n",
        "<p align =\"justify\">Transfer Learning (TL) is the of weights from pre-trained model to a new deep learning model. Transfer Learning is mainly used on Image classification or natural language processing to learn from previously trained or labelled images. This helps in speed up the training ad improve the performance of the prediction. This also helps when the data bases of the training images are less. One of the most common weights that is used in image classification is ImagNet which has been trained on 14 million labelled images. Using this pretrained weights will help us reducing the number of layers to train and improve the learning rate and optimize the results of the prediction.[3]</p>"
      ],
      "metadata": {
        "id": "c4n0Y4iLelFG"
      }
    },
    {
      "cell_type": "markdown",
      "source": [
        "### VGG16 Model\n",
        "<p align =\"justify\">We will be using VGG16 and Resnet50V2 models with ImageNet weights to train our model. Additional layers on top of the base layers that are tailored to our classification problem. VGG16 model with imageNet can classify up to 1000 classes. It is one of the best performing models on images and has achieved a 92.7 percent test precision on the 14 million ImageNet dataset.[4] This model is also widely been used on medical images like X-ray and MRI data sets. The input size of the images are 224 X 224. The model is fine-tuned as required with optimizers and model parameters as explained below.[5]</p>"
      ],
      "metadata": {
        "id": "9jCeBc6Hw_IR"
      }
    },
    {
      "cell_type": "code",
      "source": [
        "#vgg16\n",
        "\n",
        "from tensorflow.keras.applications.vgg16 import VGG16\n",
        "from tensorflow.keras.preprocessing import image\n",
        "from tensorflow.keras.applications.vgg16 import preprocess_input\n",
        "\n",
        "\n",
        "# Using pre-trained model (Trained on imagenet)\n",
        "base_model = tf.keras.applications.VGG16(weights=\"imagenet\", include_top=False, input_shape=(224, 224, 3))\n",
        "base_model.trainable = False\n",
        "\n",
        "vgg_out = base_model.output\n",
        "vgg_out = GlobalAveragePooling2D()(vgg_out)\n",
        "output = tf.keras.layers.Dense(7, activation=\"softmax\")(vgg_out)\n",
        "vgg_model = tf.keras.models.Model(inputs = [base_model.input], outputs = [output])\n",
        "\n",
        "print(vgg_model.summary())\n",
        "\n",
        "\n"
      ],
      "metadata": {
        "colab": {
          "base_uri": "https://localhost:8080/"
        },
        "id": "kdXDepJFK3uw",
        "outputId": "8d359d99-bf85-44cd-a293-cb214f49e35f"
      },
      "execution_count": null,
      "outputs": [
        {
          "output_type": "stream",
          "name": "stdout",
          "text": [
            "Model: \"model_2\"\n",
            "_________________________________________________________________\n",
            " Layer (type)                Output Shape              Param #   \n",
            "=================================================================\n",
            " input_3 (InputLayer)        [(None, 224, 224, 3)]     0         \n",
            "                                                                 \n",
            " block1_conv1 (Conv2D)       (None, 224, 224, 64)      1792      \n",
            "                                                                 \n",
            " block1_conv2 (Conv2D)       (None, 224, 224, 64)      36928     \n",
            "                                                                 \n",
            " block1_pool (MaxPooling2D)  (None, 112, 112, 64)      0         \n",
            "                                                                 \n",
            " block2_conv1 (Conv2D)       (None, 112, 112, 128)     73856     \n",
            "                                                                 \n",
            " block2_conv2 (Conv2D)       (None, 112, 112, 128)     147584    \n",
            "                                                                 \n",
            " block2_pool (MaxPooling2D)  (None, 56, 56, 128)       0         \n",
            "                                                                 \n",
            " block3_conv1 (Conv2D)       (None, 56, 56, 256)       295168    \n",
            "                                                                 \n",
            " block3_conv2 (Conv2D)       (None, 56, 56, 256)       590080    \n",
            "                                                                 \n",
            " block3_conv3 (Conv2D)       (None, 56, 56, 256)       590080    \n",
            "                                                                 \n",
            " block3_pool (MaxPooling2D)  (None, 28, 28, 256)       0         \n",
            "                                                                 \n",
            " block4_conv1 (Conv2D)       (None, 28, 28, 512)       1180160   \n",
            "                                                                 \n",
            " block4_conv2 (Conv2D)       (None, 28, 28, 512)       2359808   \n",
            "                                                                 \n",
            " block4_conv3 (Conv2D)       (None, 28, 28, 512)       2359808   \n",
            "                                                                 \n",
            " block4_pool (MaxPooling2D)  (None, 14, 14, 512)       0         \n",
            "                                                                 \n",
            " block5_conv1 (Conv2D)       (None, 14, 14, 512)       2359808   \n",
            "                                                                 \n",
            " block5_conv2 (Conv2D)       (None, 14, 14, 512)       2359808   \n",
            "                                                                 \n",
            " block5_conv3 (Conv2D)       (None, 14, 14, 512)       2359808   \n",
            "                                                                 \n",
            " block5_pool (MaxPooling2D)  (None, 7, 7, 512)         0         \n",
            "                                                                 \n",
            " global_average_pooling2d_2   (None, 512)              0         \n",
            " (GlobalAveragePooling2D)                                        \n",
            "                                                                 \n",
            " dense_2 (Dense)             (None, 7)                 3591      \n",
            "                                                                 \n",
            "=================================================================\n",
            "Total params: 14,718,279\n",
            "Trainable params: 3,591\n",
            "Non-trainable params: 14,714,688\n",
            "_________________________________________________________________\n",
            "None\n"
          ]
        }
      ]
    },
    {
      "cell_type": "code",
      "source": [
        "from keras import backend as K\n",
        "\n",
        "def check_units(y_true, y_pred):\n",
        "    if y_pred.shape[1] != 1:\n",
        "      y_pred = y_pred[:,1:2]\n",
        "      y_true = y_true[:,1:2]\n",
        "    return y_true, y_pred\n",
        "\n",
        "# Calculating precision\n",
        "def precision(y_true, y_pred):\n",
        "    y_true, y_pred = check_units(y_true, y_pred)\n",
        "    true_pos = K.sum(K.round(K.clip(y_true * y_pred, 0, 1)))\n",
        "    predicted_pos = K.sum(K.round(K.clip(y_pred, 0, 1)))\n",
        "    precision = true_pos / (predicted_pos + K.epsilon())\n",
        "    return precision\n",
        "\n",
        "# Calculating recall\n",
        "def recall(y_true, y_pred):\n",
        "    y_true, y_pred = check_units(y_true, y_pred)\n",
        "    true_pos = K.sum(K.round(K.clip(y_true * y_pred, 0, 1)))\n",
        "    possible_pos = K.sum(K.round(K.clip(y_true, 0, 1)))\n",
        "    recall = true_pos / (possible_pos + K.epsilon())\n",
        "    return recall\n",
        "\n",
        "# Calculating f1 metric\n",
        "def f1_metric(y_true, y_pred):\n",
        "    true_pos = K.sum(K.round(K.clip(y_true * y_pred, 0, 1)))\n",
        "    possible_pos = K.sum(K.round(K.clip(y_true, 0, 1)))\n",
        "    predicted_pos = K.sum(K.round(K.clip(y_pred, 0, 1)))\n",
        "    precision = true_pos / (predicted_pos + K.epsilon())\n",
        "    recall = true_pos / (possible_pos + K.epsilon())\n",
        "    f1_val = 2*(precision*recall)/(precision+recall+K.epsilon())\n",
        "    return f1_val\n",
        "\n",
        "metric = [tf.keras.metrics.CategoricalAccuracy(name='accuracy'), precision, recall, f1_metric]"
      ],
      "metadata": {
        "id": "w8XYv6i8Qj8u"
      },
      "execution_count": null,
      "outputs": []
    },
    {
      "cell_type": "markdown",
      "source": [
        "### Performance Metrics\n",
        "<p align =\"justify\">The performance of the model after the training can be measured in different metrics. One of the most common metric used is accuracy. In our problem we can get the best accuracy of the model, but the actual classification result would not be true as our data set is imbalanced, as the model would be biased towards majority class. As the data set is imbalanced, a better way to measure the performance of the model is by F1-score. F1 score of the model is calculated by the mean of all individual class scores.</p>\n",
        "\n",
        "<p align =\"justify\">F1 score is the weighted average of Precision and Recall as shown below:</p>\n",
        "\n",
        "**F1 Score = 2x(Recall * Precision)/ (Recall x Precision)**\n"
      ],
      "metadata": {
        "id": "O_lZwN-KZ6cR"
      }
    },
    {
      "cell_type": "code",
      "source": [
        "optim = Adam(learning_rate=0.001)\n",
        "#optim =Adam\n",
        "vgg_model.compile(optimizer = optim, loss = \"categorical_crossentropy\", metrics = metric)\n",
        "print(\"Model vgg_model compilation completed.\")"
      ],
      "metadata": {
        "colab": {
          "base_uri": "https://localhost:8080/"
        },
        "id": "4tn15KLPPGfp",
        "outputId": "ab2d0859-dbb7-4aaf-845c-110e7386013b"
      },
      "execution_count": null,
      "outputs": [
        {
          "output_type": "stream",
          "name": "stdout",
          "text": [
            "Model vgg_model compilation completed.\n"
          ]
        }
      ]
    },
    {
      "cell_type": "code",
      "source": [
        "from keras.callbacks import EarlyStopping, ModelCheckpoint\n",
        "early_stop = EarlyStopping(monitor= \"val_accuracy\", mode = \"max\",min_delta= 0.01, patience = 5, verbose=1) # min_delta= 0.01,\n",
        "# If model improves it will automatically save it\n",
        "model_chpnt = ModelCheckpoint(filepath=\"vgg16_model.h5\", monitor=\"val_accuracy\", verbose=1, save_best_only= True, mode=\"max\")"
      ],
      "metadata": {
        "id": "RyqFuRRbVxMb"
      },
      "execution_count": null,
      "outputs": []
    },
    {
      "cell_type": "markdown",
      "source": [
        "The Model is fine-tuned with some Hyper Parameters as below:\n",
        "\n",
        "\n",
        "*   Optimizer: Adam with learning rate set to 0.001 which is simple and computationally efficient with large umber of data and parameters. which also helps in setting the learning rate\n",
        "\n",
        "*   Loss Function: Categorical Cross-Entropy used for single label classification problem as our single image belongs to only one of 7 classes\n",
        "*   Epochs: 30.  set along with call back function\n",
        "\n",
        "\n",
        "*    Batch size: After some trial was set to 16 which yielded the best result\n",
        "\n",
        "Early call back is also implemented which ensures that the model stops training when the Validation accuracy is not improving for 5 consecutive times."
      ],
      "metadata": {
        "id": "Wv4x6UO8xd5-"
      }
    },
    {
      "cell_type": "code",
      "source": [
        "# fitting the model\n",
        "vgg_hist = vgg_model.fit(train_data, epochs = 30, validation_data = val_data, \n",
        "                          callbacks = [early_stop,model_chpnt],\n",
        "                                       class_weight = weight_dict)"
      ],
      "metadata": {
        "colab": {
          "base_uri": "https://localhost:8080/"
        },
        "id": "guw1GXw2WOs8",
        "outputId": "12d34367-4dec-4acb-beba-578ad700604d"
      },
      "execution_count": null,
      "outputs": [
        {
          "output_type": "stream",
          "name": "stdout",
          "text": [
            "Epoch 1/30\n",
            "501/501 [==============================] - ETA: 0s - loss: 1.8084 - accuracy: 0.4096 - precision: 0.0000e+00 - recall: 0.0000e+00 - f1_metric: 2.3482e-04\n",
            "Epoch 1: val_accuracy improved from -inf to 0.42285, saving model to vgg16_model.h5\n",
            "501/501 [==============================] - 95s 189ms/step - loss: 1.8084 - accuracy: 0.4096 - precision: 0.0000e+00 - recall: 0.0000e+00 - f1_metric: 2.3482e-04 - val_loss: 1.6642 - val_accuracy: 0.4228 - val_precision: 0.0000e+00 - val_recall: 0.0000e+00 - val_f1_metric: 0.0037\n",
            "Epoch 2/30\n",
            "501/501 [==============================] - ETA: 0s - loss: 1.6223 - accuracy: 0.5161 - precision: 0.0000e+00 - recall: 0.0000e+00 - f1_metric: 0.0327\n",
            "Epoch 2: val_accuracy improved from 0.42285 to 0.47094, saving model to vgg16_model.h5\n",
            "501/501 [==============================] - 95s 189ms/step - loss: 1.6223 - accuracy: 0.5161 - precision: 0.0000e+00 - recall: 0.0000e+00 - f1_metric: 0.0327 - val_loss: 1.6476 - val_accuracy: 0.4709 - val_precision: 0.0000e+00 - val_recall: 0.0000e+00 - val_f1_metric: 0.0203\n",
            "Epoch 3/30\n",
            "501/501 [==============================] - ETA: 0s - loss: 1.5394 - accuracy: 0.5370 - precision: 0.0000e+00 - recall: 0.0000e+00 - f1_metric: 0.0890\n",
            "Epoch 3: val_accuracy improved from 0.47094 to 0.52906, saving model to vgg16_model.h5\n",
            "501/501 [==============================] - 93s 185ms/step - loss: 1.5394 - accuracy: 0.5370 - precision: 0.0000e+00 - recall: 0.0000e+00 - f1_metric: 0.0890 - val_loss: 1.5031 - val_accuracy: 0.5291 - val_precision: 0.0159 - val_recall: 0.0079 - val_f1_metric: 0.0608\n",
            "Epoch 4/30\n",
            "501/501 [==============================] - ETA: 0s - loss: 1.4861 - accuracy: 0.5368 - precision: 0.0040 - recall: 0.0013 - f1_metric: 0.1346\n",
            "Epoch 4: val_accuracy improved from 0.52906 to 0.59519, saving model to vgg16_model.h5\n",
            "501/501 [==============================] - 93s 186ms/step - loss: 1.4861 - accuracy: 0.5368 - precision: 0.0040 - recall: 0.0013 - f1_metric: 0.1346 - val_loss: 1.3546 - val_accuracy: 0.5952 - val_precision: 0.0000e+00 - val_recall: 0.0000e+00 - val_f1_metric: 0.2305\n",
            "Epoch 5/30\n",
            "501/501 [==============================] - ETA: 0s - loss: 1.4423 - accuracy: 0.5502 - precision: 0.0000e+00 - recall: 0.0000e+00 - f1_metric: 0.2063\n",
            "Epoch 5: val_accuracy did not improve from 0.59519\n",
            "501/501 [==============================] - 99s 197ms/step - loss: 1.4423 - accuracy: 0.5502 - precision: 0.0000e+00 - recall: 0.0000e+00 - f1_metric: 0.2063 - val_loss: 1.4736 - val_accuracy: 0.4820 - val_precision: 0.0000e+00 - val_recall: 0.0000e+00 - val_f1_metric: 0.1169\n",
            "Epoch 6/30\n",
            "501/501 [==============================] - ETA: 0s - loss: 1.4066 - accuracy: 0.5462 - precision: 0.0040 - recall: 0.0020 - f1_metric: 0.2425\n",
            "Epoch 6: val_accuracy did not improve from 0.59519\n",
            "501/501 [==============================] - 102s 204ms/step - loss: 1.4066 - accuracy: 0.5462 - precision: 0.0040 - recall: 0.0020 - f1_metric: 0.2425 - val_loss: 1.4120 - val_accuracy: 0.5060 - val_precision: 0.0159 - val_recall: 0.0053 - val_f1_metric: 0.1721\n",
            "Epoch 7/30\n",
            "501/501 [==============================] - ETA: 0s - loss: 1.3824 - accuracy: 0.5572 - precision: 0.0060 - recall: 0.0020 - f1_metric: 0.2687\n",
            "Epoch 7: val_accuracy did not improve from 0.59519\n",
            "501/501 [==============================] - 103s 206ms/step - loss: 1.3824 - accuracy: 0.5572 - precision: 0.0060 - recall: 0.0020 - f1_metric: 0.2687 - val_loss: 1.3741 - val_accuracy: 0.5210 - val_precision: 0.0000e+00 - val_recall: 0.0000e+00 - val_f1_metric: 0.2544\n",
            "Epoch 8/30\n",
            "501/501 [==============================] - ETA: 0s - loss: 1.3555 - accuracy: 0.5602 - precision: 0.0100 - recall: 0.0080 - f1_metric: 0.2937\n",
            "Epoch 8: val_accuracy did not improve from 0.59519\n",
            "501/501 [==============================] - 101s 202ms/step - loss: 1.3555 - accuracy: 0.5602 - precision: 0.0100 - recall: 0.0080 - f1_metric: 0.2937 - val_loss: 1.2957 - val_accuracy: 0.5812 - val_precision: 0.0317 - val_recall: 0.0317 - val_f1_metric: 0.3437\n",
            "Epoch 9/30\n",
            "501/501 [==============================] - ETA: 0s - loss: 1.3331 - accuracy: 0.5658 - precision: 0.0140 - recall: 0.0077 - f1_metric: 0.3402\n",
            "Epoch 9: val_accuracy did not improve from 0.59519\n",
            "501/501 [==============================] - 100s 199ms/step - loss: 1.3331 - accuracy: 0.5658 - precision: 0.0140 - recall: 0.0077 - f1_metric: 0.3402 - val_loss: 1.4389 - val_accuracy: 0.4709 - val_precision: 0.0159 - val_recall: 0.0079 - val_f1_metric: 0.2029\n",
            "Epoch 9: early stopping\n"
          ]
        }
      ]
    },
    {
      "cell_type": "code",
      "source": [
        "acc = vgg_model.evaluate(test_data, verbose = 1)\n",
        "print(f\"The accuracy for VGG16 model on the test data set is: {acc[1] * 100} %\")"
      ],
      "metadata": {
        "colab": {
          "base_uri": "https://localhost:8080/"
        },
        "id": "chy06Cu-gsAY",
        "outputId": "d16cbde0-e92d-4041-9df6-27b544c4aafe"
      },
      "execution_count": null,
      "outputs": [
        {
          "output_type": "stream",
          "name": "stdout",
          "text": [
            "63/63 [==============================] - 11s 177ms/step - loss: 1.4749 - accuracy: 0.4628 - precision: 0.0000e+00 - recall: 0.0000e+00 - f1_metric: 0.2144\n",
            "The accuracy for VGG16 model on the test data set is: 46.276068687438965 %\n"
          ]
        }
      ]
    },
    {
      "cell_type": "code",
      "source": [
        "# Plot training & validation accuracy values\n",
        "sns.set_style(\"whitegrid\")\n",
        "plt.plot(vgg_hist.history['accuracy'])\n",
        "plt.plot(vgg_hist.history['val_accuracy'])\n",
        "plt.title('vgg_16 accuracy')\n",
        "plt.ylabel('Accuracy')\n",
        "plt.xlabel('Epoch')\n",
        "plt.legend(['Train', 'Test'], loc='upper left')\n",
        "plt.show()\n",
        "\n",
        "# Plot training & validation loss values\n",
        "sns.set_style(\"whitegrid\")\n",
        "plt.plot(vgg_hist.history['loss'])\n",
        "plt.plot(vgg_hist.history['val_loss'])\n",
        "plt.title('vgg_16 loss')\n",
        "plt.ylabel('Loss')\n",
        "plt.xlabel('Epoch')\n",
        "plt.legend(['Train', 'Test'], loc='upper left')\n",
        "plt.show()"
      ],
      "metadata": {
        "colab": {
          "base_uri": "https://localhost:8080/",
          "height": 573
        },
        "id": "ryGSM1hiftHQ",
        "outputId": "a43b6e51-31c8-4990-b88e-83363b42afdd"
      },
      "execution_count": null,
      "outputs": [
        {
          "output_type": "display_data",
          "data": {
            "text/plain": [
              "<Figure size 432x288 with 1 Axes>"
            ],
            "image/png": "[encoded data removed]"
          },
          "metadata": {}
        },
        {
          "output_type": "display_data",
          "data": {
            "text/plain": [
              "<Figure size 432x288 with 1 Axes>"
            ],
            "image/png": "[encoded data removed]"
          },
          "metadata": {}
        }
      ]
    },
    {
      "cell_type": "code",
      "source": [
        "Y_pred = vgg_model.predict(test_data)\n",
        "y_pred = np.argmax(Y_pred, axis = 1)\n",
        "print(\"Confusion Matrix Vgg_16\")\n",
        "cnf_mtx = confusion_matrix(test_data.classes, y_pred)\n",
        "print(cnf_mtx)"
      ],
      "metadata": {
        "colab": {
          "base_uri": "https://localhost:8080/"
        },
        "id": "0JkyzfKoiL7M",
        "outputId": "bd54672d-21fc-4e02-8d24-30df92187c90"
      },
      "execution_count": null,
      "outputs": [
        {
          "output_type": "stream",
          "name": "stdout",
          "text": [
            "Confusion Matrix Vgg_16\n",
            "[[  2   2   3   8   3  14   2]\n",
            " [  0   4   1  20   9  14   4]\n",
            " [  7  13   6  36  12  34   3]\n",
            " [  0   0   0   4   2   6   0]\n",
            " [  3  12   7  28   5  47  10]\n",
            " [ 29  37  29 155 108 245  68]\n",
            " [  0   6   1   2   1   4   1]]\n"
          ]
        }
      ]
    },
    {
      "cell_type": "code",
      "source": [
        "# Plotting confuion matrix\n",
        "from sklearn.metrics import confusion_matrix\n",
        "import seaborn as sns\n",
        "conf_matr = pd.DataFrame(cnf_mtx, index = ['akiec', 'bcc', 'bkl', 'df', 'mel', 'nv', 'vasc'],\n",
        "                           columns = ['akiec', 'bcc', 'bkl', 'df', 'mel', 'nv', 'vasc'])\n",
        "#Normalizing\n",
        "conf_matr = conf_matr.astype('float') / conf_matr.sum(axis=1)[:, np.newaxis]\n",
        "plt.figure(figsize = (10, 5))\n",
        "plt.title(\"Confusion Matrix for vgg_16\", fontsize = 14)\n",
        "sns.heatmap(conf_matr, annot=True, annot_kws={\"size\": 15})"
      ],
      "metadata": {
        "colab": {
          "base_uri": "https://localhost:8080/",
          "height": 409
        },
        "id": "aquPB1Qfjtdh",
        "outputId": "beb3dd72-2cc0-4842-c7b9-4c7eb71fc748"
      },
      "execution_count": null,
      "outputs": [
        {
          "output_type": "stream",
          "name": "stderr",
          "text": [
            "/usr/local/lib/python3.7/dist-packages/ipykernel_launcher.py:7: FutureWarning: Support for multi-dimensional indexing (e.g. `obj[:, None]`) is deprecated and will be removed in a future version.  Convert to a numpy array before indexing instead.\n",
            "  import sys\n"
          ]
        },
        {
          "output_type": "execute_result",
          "data": {
            "text/plain": [
              "<matplotlib.axes._subplots.AxesSubplot at 0x7facf6932f10>"
            ]
          },
          "metadata": {},
          "execution_count": 83
        },
        {
          "output_type": "display_data",
          "data": {
            "text/plain": [
              "<Figure size 720x360 with 2 Axes>"
            ],
            "image/png": "[encoded data removed]"
          },
          "metadata": {}
        }
      ]
    },
    {
      "cell_type": "markdown",
      "source": [
        "The above image shows the confusion matrix for VGG16 without image augmentation."
      ],
      "metadata": {
        "id": "F4ZkhN6TQK9L"
      }
    },
    {
      "cell_type": "code",
      "source": [
        "from sklearn.metrics import classification_report\n",
        "\n",
        "target_names = ['akiec', 'bcc', 'bkl', 'df', 'mel', 'nv', 'vasc']\n",
        "print(classification_report(test_data.classes, y_pred, target_names = target_names))"
      ],
      "metadata": {
        "colab": {
          "base_uri": "https://localhost:8080/"
        },
        "id": "xElU8b_9ktLv",
        "outputId": "e6a5604c-b606-4dc6-80b1-8135ee1c06eb"
      },
      "execution_count": null,
      "outputs": [
        {
          "output_type": "stream",
          "name": "stdout",
          "text": [
            "              precision    recall  f1-score   support\n",
            "\n",
            "       akiec       0.05      0.06      0.05        34\n",
            "         bcc       0.05      0.08      0.06        52\n",
            "         bkl       0.13      0.05      0.08       111\n",
            "          df       0.02      0.33      0.03        12\n",
            "         mel       0.04      0.04      0.04       112\n",
            "          nv       0.67      0.37      0.47       671\n",
            "        vasc       0.01      0.07      0.02        15\n",
            "\n",
            "    accuracy                           0.27      1007\n",
            "   macro avg       0.14      0.14      0.11      1007\n",
            "weighted avg       0.47      0.27      0.33      1007\n",
            "\n"
          ]
        }
      ]
    },
    {
      "cell_type": "markdown",
      "source": [
        "<p align =\"justify\">From the above metrics we see that the accuracy for VGG16 with out image augmentation was 46 % .From the confusion matrix and classifiacation report we can see that the F1-score for minority class are nearly zero and the model is not predicting the images wich had less number of images to train from.</p>\n",
        "\n",
        "So, we will try to train the image on a different model i.e ResNet50v2"
      ],
      "metadata": {
        "id": "-6NwWSZiOTej"
      }
    },
    {
      "cell_type": "markdown",
      "source": [
        "## ResNet50V2 Model\n",
        "<p align =\"justify\">Residual Neural Network (ResNet) is also one of the efficient Convolution Neural networks this used commonly for image recognition. Resnet50v2 consists of 50 deep layers . like the VGG16 this model also uses pre-trained ImageNet weights and had only an error rate of 3.5% on the ImageNet data set.[6] The issue of Vanishing gradient is implemented by skip connections in Resnet to train the model efficiently and minimizing the errors. \n",
        "The Model is fine-tuned with some Hyper Parameters as below:</p>\n",
        "\n",
        "\n",
        "*   Optimizer: Adam with learning rate set to 0.001 which is simple and computationally efficient with large number of data and parameters. which also helps in setting the learning rate\n",
        "\n",
        "*   ReduceLROnPlateau : This hyper parameter is implemented to reduce the learning rate of the model and try to retrain the model when the validation accuracy is not increasing\n",
        "\n",
        "*   Loss Function: Categorical Cross-Entropy used for single label classification problem as our single image belongs to only one of 7 classes\n",
        "\n",
        "\n",
        "*   Epochs: 40. set along with call back function\n",
        "\n",
        "\n",
        "*   Batch size: After some trial was set to 16 which yielded the best result\n",
        "\n",
        "Early call back is also implemented which ensures that the model stops training when the Validation accuracy is not improving for 3 consecutive times.\n"
      ],
      "metadata": {
        "id": "HkXJbu-uYkNO"
      }
    },
    {
      "cell_type": "code",
      "source": [
        "#resnet50\n",
        "\n",
        "\n",
        "base_model = tf.keras.applications.ResNet50V2(weights=\"imagenet\", include_top=False, input_shape=(224, 224, 3))\n",
        "for layer in base_model.layers:\n",
        "    layer.trainable = False\n",
        "\n",
        "res_mod = base_model.output\n",
        "res_mod = GlobalAveragePooling2D()(res_mod)\n",
        "res_mod = tf.keras.layers.Dense(128, activation = \"relu\")(res_mod)\n",
        "res_mod = tf.keras.layers.Dropout(0.2)(res_mod)\n",
        "output = tf.keras.layers.Dense(7, activation=\"softmax\")(res_mod)\n",
        "resn_model = tf.keras.models.Model(inputs = [base_model.input], outputs = [output])\n",
        "\n",
        "print(resn_model.summary())"
      ],
      "metadata": {
        "colab": {
          "base_uri": "https://localhost:8080/"
        },
        "id": "Od8Eav8osE5r",
        "outputId": "7e371e38-a7d4-43cc-80cd-55d352a1e62a"
      },
      "execution_count": null,
      "outputs": [
        {
          "output_type": "stream",
          "name": "stdout",
          "text": [
            "Downloading data from https://storage.googleapis.com/tensorflow/keras-applications/resnet/resnet50v2_weights_tf_dim_ordering_tf_kernels_notop.h5\n",
            "94674944/94668760 [==============================] - 1s 0us/step\n",
            "94683136/94668760 [==============================] - 1s 0us/step\n",
            "Model: \"model\"\n",
            "__________________________________________________________________________________________________\n",
            " Layer (type)                   Output Shape         Param #     Connected to                     \n",
            "==================================================================================================\n",
            " input_1 (InputLayer)           [(None, 224, 224, 3  0           []                               \n",
            "                                )]                                                                \n",
            "                                                                                                  \n",
            " conv1_pad (ZeroPadding2D)      (None, 230, 230, 3)  0           ['input_1[0][0]']                \n",
            "                                                                                                  \n",
            " conv1_conv (Conv2D)            (None, 112, 112, 64  9472        ['conv1_pad[0][0]']              \n",
            "                                )                                                                 \n",
            "                                                                                                  \n",
            " pool1_pad (ZeroPadding2D)      (None, 114, 114, 64  0           ['conv1_conv[0][0]']             \n",
            "                                )                                                                 \n",
            "                                                                                                  \n",
            " pool1_pool (MaxPooling2D)      (None, 56, 56, 64)   0           ['pool1_pad[0][0]']              \n",
            "                                                                                                  \n",
            " conv2_block1_preact_bn (BatchN  (None, 56, 56, 64)  256         ['pool1_pool[0][0]']             \n",
            " ormalization)                                                                                    \n",
            "                                                                                                  \n",
            " conv2_block1_preact_relu (Acti  (None, 56, 56, 64)  0           ['conv2_block1_preact_bn[0][0]'] \n",
            " vation)                                                                                          \n",
            "                                                                                                  \n",
            " conv2_block1_1_conv (Conv2D)   (None, 56, 56, 64)   4096        ['conv2_block1_preact_relu[0][0]'\n",
            "                                                                 ]                                \n",
            "                                                                                                  \n",
            " conv2_block1_1_bn (BatchNormal  (None, 56, 56, 64)  256         ['conv2_block1_1_conv[0][0]']    \n",
            " ization)                                                                                         \n",
            "                                                                                                  \n",
            " conv2_block1_1_relu (Activatio  (None, 56, 56, 64)  0           ['conv2_block1_1_bn[0][0]']      \n",
            " n)                                                                                               \n",
            "                                                                                                  \n",
            " conv2_block1_2_pad (ZeroPaddin  (None, 58, 58, 64)  0           ['conv2_block1_1_relu[0][0]']    \n",
            " g2D)                                                                                             \n",
            "                                                                                                  \n",
            " conv2_block1_2_conv (Conv2D)   (None, 56, 56, 64)   36864       ['conv2_block1_2_pad[0][0]']     \n",
            "                                                                                                  \n",
            " conv2_block1_2_bn (BatchNormal  (None, 56, 56, 64)  256         ['conv2_block1_2_conv[0][0]']    \n",
            " ization)                                                                                         \n",
            "                                                                                                  \n",
            " conv2_block1_2_relu (Activatio  (None, 56, 56, 64)  0           ['conv2_block1_2_bn[0][0]']      \n",
            " n)                                                                                               \n",
            "                                                                                                  \n",
            " conv2_block1_0_conv (Conv2D)   (None, 56, 56, 256)  16640       ['conv2_block1_preact_relu[0][0]'\n",
            "                                                                 ]                                \n",
            "                                                                                                  \n",
            " conv2_block1_3_conv (Conv2D)   (None, 56, 56, 256)  16640       ['conv2_block1_2_relu[0][0]']    \n",
            "                                                                                                  \n",
            " conv2_block1_out (Add)         (None, 56, 56, 256)  0           ['conv2_block1_0_conv[0][0]',    \n",
            "                                                                  'conv2_block1_3_conv[0][0]']    \n",
            "                                                                                                  \n",
            " conv2_block2_preact_bn (BatchN  (None, 56, 56, 256)  1024       ['conv2_block1_out[0][0]']       \n",
            " ormalization)                                                                                    \n",
            "                                                                                                  \n",
            " conv2_block2_preact_relu (Acti  (None, 56, 56, 256)  0          ['conv2_block2_preact_bn[0][0]'] \n",
            " vation)                                                                                          \n",
            "                                                                                                  \n",
            " conv2_block2_1_conv (Conv2D)   (None, 56, 56, 64)   16384       ['conv2_block2_preact_relu[0][0]'\n",
            "                                                                 ]                                \n",
            "                                                                                                  \n",
            " conv2_block2_1_bn (BatchNormal  (None, 56, 56, 64)  256         ['conv2_block2_1_conv[0][0]']    \n",
            " ization)                                                                                         \n",
            "                                                                                                  \n",
            " conv2_block2_1_relu (Activatio  (None, 56, 56, 64)  0           ['conv2_block2_1_bn[0][0]']      \n",
            " n)                                                                                               \n",
            "                                                                                                  \n",
            " conv2_block2_2_pad (ZeroPaddin  (None, 58, 58, 64)  0           ['conv2_block2_1_relu[0][0]']    \n",
            " g2D)                                                                                             \n",
            "                                                                                                  \n",
            " conv2_block2_2_conv (Conv2D)   (None, 56, 56, 64)   36864       ['conv2_block2_2_pad[0][0]']     \n",
            "                                                                                                  \n",
            " conv2_block2_2_bn (BatchNormal  (None, 56, 56, 64)  256         ['conv2_block2_2_conv[0][0]']    \n",
            " ization)                                                                                         \n",
            "                                                                                                  \n",
            " conv2_block2_2_relu (Activatio  (None, 56, 56, 64)  0           ['conv2_block2_2_bn[0][0]']      \n",
            " n)                                                                                               \n",
            "                                                                                                  \n",
            " conv2_block2_3_conv (Conv2D)   (None, 56, 56, 256)  16640       ['conv2_block2_2_relu[0][0]']    \n",
            "                                                                                                  \n",
            " conv2_block2_out (Add)         (None, 56, 56, 256)  0           ['conv2_block1_out[0][0]',       \n",
            "                                                                  'conv2_block2_3_conv[0][0]']    \n",
            "                                                                                                  \n",
            " conv2_block3_preact_bn (BatchN  (None, 56, 56, 256)  1024       ['conv2_block2_out[0][0]']       \n",
            " ormalization)                                                                                    \n",
            "                                                                                                  \n",
            " conv2_block3_preact_relu (Acti  (None, 56, 56, 256)  0          ['conv2_block3_preact_bn[0][0]'] \n",
            " vation)                                                                                          \n",
            "                                                                                                  \n",
            " conv2_block3_1_conv (Conv2D)   (None, 56, 56, 64)   16384       ['conv2_block3_preact_relu[0][0]'\n",
            "                                                                 ]                                \n",
            "                                                                                                  \n",
            " conv2_block3_1_bn (BatchNormal  (None, 56, 56, 64)  256         ['conv2_block3_1_conv[0][0]']    \n",
            " ization)                                                                                         \n",
            "                                                                                                  \n",
            " conv2_block3_1_relu (Activatio  (None, 56, 56, 64)  0           ['conv2_block3_1_bn[0][0]']      \n",
            " n)                                                                                               \n",
            "                                                                                                  \n",
            " conv2_block3_2_pad (ZeroPaddin  (None, 58, 58, 64)  0           ['conv2_block3_1_relu[0][0]']    \n",
            " g2D)                                                                                             \n",
            "                                                                                                  \n",
            " conv2_block3_2_conv (Conv2D)   (None, 28, 28, 64)   36864       ['conv2_block3_2_pad[0][0]']     \n",
            "                                                                                                  \n",
            " conv2_block3_2_bn (BatchNormal  (None, 28, 28, 64)  256         ['conv2_block3_2_conv[0][0]']    \n",
            " ization)                                                                                         \n",
            "                                                                                                  \n",
            " conv2_block3_2_relu (Activatio  (None, 28, 28, 64)  0           ['conv2_block3_2_bn[0][0]']      \n",
            " n)                                                                                               \n",
            "                                                                                                  \n",
            " max_pooling2d (MaxPooling2D)   (None, 28, 28, 256)  0           ['conv2_block2_out[0][0]']       \n",
            "                                                                                                  \n",
            " conv2_block3_3_conv (Conv2D)   (None, 28, 28, 256)  16640       ['conv2_block3_2_relu[0][0]']    \n",
            "                                                                                                  \n",
            " conv2_block3_out (Add)         (None, 28, 28, 256)  0           ['max_pooling2d[0][0]',          \n",
            "                                                                  'conv2_block3_3_conv[0][0]']    \n",
            "                                                                                                  \n",
            " conv3_block1_preact_bn (BatchN  (None, 28, 28, 256)  1024       ['conv2_block3_out[0][0]']       \n",
            " ormalization)                                                                                    \n",
            "                                                                                                  \n",
            " conv3_block1_preact_relu (Acti  (None, 28, 28, 256)  0          ['conv3_block1_preact_bn[0][0]'] \n",
            " vation)                                                                                          \n",
            "                                                                                                  \n",
            " conv3_block1_1_conv (Conv2D)   (None, 28, 28, 128)  32768       ['conv3_block1_preact_relu[0][0]'\n",
            "                                                                 ]                                \n",
            "                                                                                                  \n",
            " conv3_block1_1_bn (BatchNormal  (None, 28, 28, 128)  512        ['conv3_block1_1_conv[0][0]']    \n",
            " ization)                                                                                         \n",
            "                                                                                                  \n",
            " conv3_block1_1_relu (Activatio  (None, 28, 28, 128)  0          ['conv3_block1_1_bn[0][0]']      \n",
            " n)                                                                                               \n",
            "                                                                                                  \n",
            " conv3_block1_2_pad (ZeroPaddin  (None, 30, 30, 128)  0          ['conv3_block1_1_relu[0][0]']    \n",
            " g2D)                                                                                             \n",
            "                                                                                                  \n",
            " conv3_block1_2_conv (Conv2D)   (None, 28, 28, 128)  147456      ['conv3_block1_2_pad[0][0]']     \n",
            "                                                                                                  \n",
            " conv3_block1_2_bn (BatchNormal  (None, 28, 28, 128)  512        ['conv3_block1_2_conv[0][0]']    \n",
            " ization)                                                                                         \n",
            "                                                                                                  \n",
            " conv3_block1_2_relu (Activatio  (None, 28, 28, 128)  0          ['conv3_block1_2_bn[0][0]']      \n",
            " n)                                                                                               \n",
            "                                                                                                  \n",
            " conv3_block1_0_conv (Conv2D)   (None, 28, 28, 512)  131584      ['conv3_block1_preact_relu[0][0]'\n",
            "                                                                 ]                                \n",
            "                                                                                                  \n",
            " conv3_block1_3_conv (Conv2D)   (None, 28, 28, 512)  66048       ['conv3_block1_2_relu[0][0]']    \n",
            "                                                                                                  \n",
            " conv3_block1_out (Add)         (None, 28, 28, 512)  0           ['conv3_block1_0_conv[0][0]',    \n",
            "                                                                  'conv3_block1_3_conv[0][0]']    \n",
            "                                                                                                  \n",
            " conv3_block2_preact_bn (BatchN  (None, 28, 28, 512)  2048       ['conv3_block1_out[0][0]']       \n",
            " ormalization)                                                                                    \n",
            "                                                                                                  \n",
            " conv3_block2_preact_relu (Acti  (None, 28, 28, 512)  0          ['conv3_block2_preact_bn[0][0]'] \n",
            " vation)                                                                                          \n",
            "                                                                                                  \n",
            " conv3_block2_1_conv (Conv2D)   (None, 28, 28, 128)  65536       ['conv3_block2_preact_relu[0][0]'\n",
            "                                                                 ]                                \n",
            "                                                                                                  \n",
            " conv3_block2_1_bn (BatchNormal  (None, 28, 28, 128)  512        ['conv3_block2_1_conv[0][0]']    \n",
            " ization)                                                                                         \n",
            "                                                                                                  \n",
            " conv3_block2_1_relu (Activatio  (None, 28, 28, 128)  0          ['conv3_block2_1_bn[0][0]']      \n",
            " n)                                                                                               \n",
            "                                                                                                  \n",
            " conv3_block2_2_pad (ZeroPaddin  (None, 30, 30, 128)  0          ['conv3_block2_1_relu[0][0]']    \n",
            " g2D)                                                                                             \n",
            "                                                                                                  \n",
            " conv3_block2_2_conv (Conv2D)   (None, 28, 28, 128)  147456      ['conv3_block2_2_pad[0][0]']     \n",
            "                                                                                                  \n",
            " conv3_block2_2_bn (BatchNormal  (None, 28, 28, 128)  512        ['conv3_block2_2_conv[0][0]']    \n",
            " ization)                                                                                         \n",
            "                                                                                                  \n",
            " conv3_block2_2_relu (Activatio  (None, 28, 28, 128)  0          ['conv3_block2_2_bn[0][0]']      \n",
            " n)                                                                                               \n",
            "                                                                                                  \n",
            " conv3_block2_3_conv (Conv2D)   (None, 28, 28, 512)  66048       ['conv3_block2_2_relu[0][0]']    \n",
            "                                                                                                  \n",
            " conv3_block2_out (Add)         (None, 28, 28, 512)  0           ['conv3_block1_out[0][0]',       \n",
            "                                                                  'conv3_block2_3_conv[0][0]']    \n",
            "                                                                                                  \n",
            " conv3_block3_preact_bn (BatchN  (None, 28, 28, 512)  2048       ['conv3_block2_out[0][0]']       \n",
            " ormalization)                                                                                    \n",
            "                                                                                                  \n",
            " conv3_block3_preact_relu (Acti  (None, 28, 28, 512)  0          ['conv3_block3_preact_bn[0][0]'] \n",
            " vation)                                                                                          \n",
            "                                                                                                  \n",
            " conv3_block3_1_conv (Conv2D)   (None, 28, 28, 128)  65536       ['conv3_block3_preact_relu[0][0]'\n",
            "                                                                 ]                                \n",
            "                                                                                                  \n",
            " conv3_block3_1_bn (BatchNormal  (None, 28, 28, 128)  512        ['conv3_block3_1_conv[0][0]']    \n",
            " ization)                                                                                         \n",
            "                                                                                                  \n",
            " conv3_block3_1_relu (Activatio  (None, 28, 28, 128)  0          ['conv3_block3_1_bn[0][0]']      \n",
            " n)                                                                                               \n",
            "                                                                                                  \n",
            " conv3_block3_2_pad (ZeroPaddin  (None, 30, 30, 128)  0          ['conv3_block3_1_relu[0][0]']    \n",
            " g2D)                                                                                             \n",
            "                                                                                                  \n",
            " conv3_block3_2_conv (Conv2D)   (None, 28, 28, 128)  147456      ['conv3_block3_2_pad[0][0]']     \n",
            "                                                                                                  \n",
            " conv3_block3_2_bn (BatchNormal  (None, 28, 28, 128)  512        ['conv3_block3_2_conv[0][0]']    \n",
            " ization)                                                                                         \n",
            "                                                                                                  \n",
            " conv3_block3_2_relu (Activatio  (None, 28, 28, 128)  0          ['conv3_block3_2_bn[0][0]']      \n",
            " n)                                                                                               \n",
            "                                                                                                  \n",
            " conv3_block3_3_conv (Conv2D)   (None, 28, 28, 512)  66048       ['conv3_block3_2_relu[0][0]']    \n",
            "                                                                                                  \n",
            " conv3_block3_out (Add)         (None, 28, 28, 512)  0           ['conv3_block2_out[0][0]',       \n",
            "                                                                  'conv3_block3_3_conv[0][0]']    \n",
            "                                                                                                  \n",
            " conv3_block4_preact_bn (BatchN  (None, 28, 28, 512)  2048       ['conv3_block3_out[0][0]']       \n",
            " ormalization)                                                                                    \n",
            "                                                                                                  \n",
            " conv3_block4_preact_relu (Acti  (None, 28, 28, 512)  0          ['conv3_block4_preact_bn[0][0]'] \n",
            " vation)                                                                                          \n",
            "                                                                                                  \n",
            " conv3_block4_1_conv (Conv2D)   (None, 28, 28, 128)  65536       ['conv3_block4_preact_relu[0][0]'\n",
            "                                                                 ]                                \n",
            "                                                                                                  \n",
            " conv3_block4_1_bn (BatchNormal  (None, 28, 28, 128)  512        ['conv3_block4_1_conv[0][0]']    \n",
            " ization)                                                                                         \n",
            "                                                                                                  \n",
            " conv3_block4_1_relu (Activatio  (None, 28, 28, 128)  0          ['conv3_block4_1_bn[0][0]']      \n",
            " n)                                                                                               \n",
            "                                                                                                  \n",
            " conv3_block4_2_pad (ZeroPaddin  (None, 30, 30, 128)  0          ['conv3_block4_1_relu[0][0]']    \n",
            " g2D)                                                                                             \n",
            "                                                                                                  \n",
            " conv3_block4_2_conv (Conv2D)   (None, 14, 14, 128)  147456      ['conv3_block4_2_pad[0][0]']     \n",
            "                                                                                                  \n",
            " conv3_block4_2_bn (BatchNormal  (None, 14, 14, 128)  512        ['conv3_block4_2_conv[0][0]']    \n",
            " ization)                                                                                         \n",
            "                                                                                                  \n",
            " conv3_block4_2_relu (Activatio  (None, 14, 14, 128)  0          ['conv3_block4_2_bn[0][0]']      \n",
            " n)                                                                                               \n",
            "                                                                                                  \n",
            " max_pooling2d_1 (MaxPooling2D)  (None, 14, 14, 512)  0          ['conv3_block3_out[0][0]']       \n",
            "                                                                                                  \n",
            " conv3_block4_3_conv (Conv2D)   (None, 14, 14, 512)  66048       ['conv3_block4_2_relu[0][0]']    \n",
            "                                                                                                  \n",
            " conv3_block4_out (Add)         (None, 14, 14, 512)  0           ['max_pooling2d_1[0][0]',        \n",
            "                                                                  'conv3_block4_3_conv[0][0]']    \n",
            "                                                                                                  \n",
            " conv4_block1_preact_bn (BatchN  (None, 14, 14, 512)  2048       ['conv3_block4_out[0][0]']       \n",
            " ormalization)                                                                                    \n",
            "                                                                                                  \n",
            " conv4_block1_preact_relu (Acti  (None, 14, 14, 512)  0          ['conv4_block1_preact_bn[0][0]'] \n",
            " vation)                                                                                          \n",
            "                                                                                                  \n",
            " conv4_block1_1_conv (Conv2D)   (None, 14, 14, 256)  131072      ['conv4_block1_preact_relu[0][0]'\n",
            "                                                                 ]                                \n",
            "                                                                                                  \n",
            " conv4_block1_1_bn (BatchNormal  (None, 14, 14, 256)  1024       ['conv4_block1_1_conv[0][0]']    \n",
            " ization)                                                                                         \n",
            "                                                                                                  \n",
            " conv4_block1_1_relu (Activatio  (None, 14, 14, 256)  0          ['conv4_block1_1_bn[0][0]']      \n",
            " n)                                                                                               \n",
            "                                                                                                  \n",
            " conv4_block1_2_pad (ZeroPaddin  (None, 16, 16, 256)  0          ['conv4_block1_1_relu[0][0]']    \n",
            " g2D)                                                                                             \n",
            "                                                                                                  \n",
            " conv4_block1_2_conv (Conv2D)   (None, 14, 14, 256)  589824      ['conv4_block1_2_pad[0][0]']     \n",
            "                                                                                                  \n",
            " conv4_block1_2_bn (BatchNormal  (None, 14, 14, 256)  1024       ['conv4_block1_2_conv[0][0]']    \n",
            " ization)                                                                                         \n",
            "                                                                                                  \n",
            " conv4_block1_2_relu (Activatio  (None, 14, 14, 256)  0          ['conv4_block1_2_bn[0][0]']      \n",
            " n)                                                                                               \n",
            "                                                                                                  \n",
            " conv4_block1_0_conv (Conv2D)   (None, 14, 14, 1024  525312      ['conv4_block1_preact_relu[0][0]'\n",
            "                                )                                ]                                \n",
            "                                                                                                  \n",
            " conv4_block1_3_conv (Conv2D)   (None, 14, 14, 1024  263168      ['conv4_block1_2_relu[0][0]']    \n",
            "                                )                                                                 \n",
            "                                                                                                  \n",
            " conv4_block1_out (Add)         (None, 14, 14, 1024  0           ['conv4_block1_0_conv[0][0]',    \n",
            "                                )                                 'conv4_block1_3_conv[0][0]']    \n",
            "                                                                                                  \n",
            " conv4_block2_preact_bn (BatchN  (None, 14, 14, 1024  4096       ['conv4_block1_out[0][0]']       \n",
            " ormalization)                  )                                                                 \n",
            "                                                                                                  \n",
            " conv4_block2_preact_relu (Acti  (None, 14, 14, 1024  0          ['conv4_block2_preact_bn[0][0]'] \n",
            " vation)                        )                                                                 \n",
            "                                                                                                  \n",
            " conv4_block2_1_conv (Conv2D)   (None, 14, 14, 256)  262144      ['conv4_block2_preact_relu[0][0]'\n",
            "                                                                 ]                                \n",
            "                                                                                                  \n",
            " conv4_block2_1_bn (BatchNormal  (None, 14, 14, 256)  1024       ['conv4_block2_1_conv[0][0]']    \n",
            " ization)                                                                                         \n",
            "                                                                                                  \n",
            " conv4_block2_1_relu (Activatio  (None, 14, 14, 256)  0          ['conv4_block2_1_bn[0][0]']      \n",
            " n)                                                                                               \n",
            "                                                                                                  \n",
            " conv4_block2_2_pad (ZeroPaddin  (None, 16, 16, 256)  0          ['conv4_block2_1_relu[0][0]']    \n",
            " g2D)                                                                                             \n",
            "                                                                                                  \n",
            " conv4_block2_2_conv (Conv2D)   (None, 14, 14, 256)  589824      ['conv4_block2_2_pad[0][0]']     \n",
            "                                                                                                  \n",
            " conv4_block2_2_bn (BatchNormal  (None, 14, 14, 256)  1024       ['conv4_block2_2_conv[0][0]']    \n",
            " ization)                                                                                         \n",
            "                                                                                                  \n",
            " conv4_block2_2_relu (Activatio  (None, 14, 14, 256)  0          ['conv4_block2_2_bn[0][0]']      \n",
            " n)                                                                                               \n",
            "                                                                                                  \n",
            " conv4_block2_3_conv (Conv2D)   (None, 14, 14, 1024  263168      ['conv4_block2_2_relu[0][0]']    \n",
            "                                )                                                                 \n",
            "                                                                                                  \n",
            " conv4_block2_out (Add)         (None, 14, 14, 1024  0           ['conv4_block1_out[0][0]',       \n",
            "                                )                                 'conv4_block2_3_conv[0][0]']    \n",
            "                                                                                                  \n",
            " conv4_block3_preact_bn (BatchN  (None, 14, 14, 1024  4096       ['conv4_block2_out[0][0]']       \n",
            " ormalization)                  )                                                                 \n",
            "                                                                                                  \n",
            " conv4_block3_preact_relu (Acti  (None, 14, 14, 1024  0          ['conv4_block3_preact_bn[0][0]'] \n",
            " vation)                        )                                                                 \n",
            "                                                                                                  \n",
            " conv4_block3_1_conv (Conv2D)   (None, 14, 14, 256)  262144      ['conv4_block3_preact_relu[0][0]'\n",
            "                                                                 ]                                \n",
            "                                                                                                  \n",
            " conv4_block3_1_bn (BatchNormal  (None, 14, 14, 256)  1024       ['conv4_block3_1_conv[0][0]']    \n",
            " ization)                                                                                         \n",
            "                                                                                                  \n",
            " conv4_block3_1_relu (Activatio  (None, 14, 14, 256)  0          ['conv4_block3_1_bn[0][0]']      \n",
            " n)                                                                                               \n",
            "                                                                                                  \n",
            " conv4_block3_2_pad (ZeroPaddin  (None, 16, 16, 256)  0          ['conv4_block3_1_relu[0][0]']    \n",
            " g2D)                                                                                             \n",
            "                                                                                                  \n",
            " conv4_block3_2_conv (Conv2D)   (None, 14, 14, 256)  589824      ['conv4_block3_2_pad[0][0]']     \n",
            "                                                                                                  \n",
            " conv4_block3_2_bn (BatchNormal  (None, 14, 14, 256)  1024       ['conv4_block3_2_conv[0][0]']    \n",
            " ization)                                                                                         \n",
            "                                                                                                  \n",
            " conv4_block3_2_relu (Activatio  (None, 14, 14, 256)  0          ['conv4_block3_2_bn[0][0]']      \n",
            " n)                                                                                               \n",
            "                                                                                                  \n",
            " conv4_block3_3_conv (Conv2D)   (None, 14, 14, 1024  263168      ['conv4_block3_2_relu[0][0]']    \n",
            "                                )                                                                 \n",
            "                                                                                                  \n",
            " conv4_block3_out (Add)         (None, 14, 14, 1024  0           ['conv4_block2_out[0][0]',       \n",
            "                                )                                 'conv4_block3_3_conv[0][0]']    \n",
            "                                                                                                  \n",
            " conv4_block4_preact_bn (BatchN  (None, 14, 14, 1024  4096       ['conv4_block3_out[0][0]']       \n",
            " ormalization)                  )                                                                 \n",
            "                                                                                                  \n",
            " conv4_block4_preact_relu (Acti  (None, 14, 14, 1024  0          ['conv4_block4_preact_bn[0][0]'] \n",
            " vation)                        )                                                                 \n",
            "                                                                                                  \n",
            " conv4_block4_1_conv (Conv2D)   (None, 14, 14, 256)  262144      ['conv4_block4_preact_relu[0][0]'\n",
            "                                                                 ]                                \n",
            "                                                                                                  \n",
            " conv4_block4_1_bn (BatchNormal  (None, 14, 14, 256)  1024       ['conv4_block4_1_conv[0][0]']    \n",
            " ization)                                                                                         \n",
            "                                                                                                  \n",
            " conv4_block4_1_relu (Activatio  (None, 14, 14, 256)  0          ['conv4_block4_1_bn[0][0]']      \n",
            " n)                                                                                               \n",
            "                                                                                                  \n",
            " conv4_block4_2_pad (ZeroPaddin  (None, 16, 16, 256)  0          ['conv4_block4_1_relu[0][0]']    \n",
            " g2D)                                                                                             \n",
            "                                                                                                  \n",
            " conv4_block4_2_conv (Conv2D)   (None, 14, 14, 256)  589824      ['conv4_block4_2_pad[0][0]']     \n",
            "                                                                                                  \n",
            " conv4_block4_2_bn (BatchNormal  (None, 14, 14, 256)  1024       ['conv4_block4_2_conv[0][0]']    \n",
            " ization)                                                                                         \n",
            "                                                                                                  \n",
            " conv4_block4_2_relu (Activatio  (None, 14, 14, 256)  0          ['conv4_block4_2_bn[0][0]']      \n",
            " n)                                                                                               \n",
            "                                                                                                  \n",
            " conv4_block4_3_conv (Conv2D)   (None, 14, 14, 1024  263168      ['conv4_block4_2_relu[0][0]']    \n",
            "                                )                                                                 \n",
            "                                                                                                  \n",
            " conv4_block4_out (Add)         (None, 14, 14, 1024  0           ['conv4_block3_out[0][0]',       \n",
            "                                )                                 'conv4_block4_3_conv[0][0]']    \n",
            "                                                                                                  \n",
            " conv4_block5_preact_bn (BatchN  (None, 14, 14, 1024  4096       ['conv4_block4_out[0][0]']       \n",
            " ormalization)                  )                                                                 \n",
            "                                                                                                  \n",
            " conv4_block5_preact_relu (Acti  (None, 14, 14, 1024  0          ['conv4_block5_preact_bn[0][0]'] \n",
            " vation)                        )                                                                 \n",
            "                                                                                                  \n",
            " conv4_block5_1_conv (Conv2D)   (None, 14, 14, 256)  262144      ['conv4_block5_preact_relu[0][0]'\n",
            "                                                                 ]                                \n",
            "                                                                                                  \n",
            " conv4_block5_1_bn (BatchNormal  (None, 14, 14, 256)  1024       ['conv4_block5_1_conv[0][0]']    \n",
            " ization)                                                                                         \n",
            "                                                                                                  \n",
            " conv4_block5_1_relu (Activatio  (None, 14, 14, 256)  0          ['conv4_block5_1_bn[0][0]']      \n",
            " n)                                                                                               \n",
            "                                                                                                  \n",
            " conv4_block5_2_pad (ZeroPaddin  (None, 16, 16, 256)  0          ['conv4_block5_1_relu[0][0]']    \n",
            " g2D)                                                                                             \n",
            "                                                                                                  \n",
            " conv4_block5_2_conv (Conv2D)   (None, 14, 14, 256)  589824      ['conv4_block5_2_pad[0][0]']     \n",
            "                                                                                                  \n",
            " conv4_block5_2_bn (BatchNormal  (None, 14, 14, 256)  1024       ['conv4_block5_2_conv[0][0]']    \n",
            " ization)                                                                                         \n",
            "                                                                                                  \n",
            " conv4_block5_2_relu (Activatio  (None, 14, 14, 256)  0          ['conv4_block5_2_bn[0][0]']      \n",
            " n)                                                                                               \n",
            "                                                                                                  \n",
            " conv4_block5_3_conv (Conv2D)   (None, 14, 14, 1024  263168      ['conv4_block5_2_relu[0][0]']    \n",
            "                                )                                                                 \n",
            "                                                                                                  \n",
            " conv4_block5_out (Add)         (None, 14, 14, 1024  0           ['conv4_block4_out[0][0]',       \n",
            "                                )                                 'conv4_block5_3_conv[0][0]']    \n",
            "                                                                                                  \n",
            " conv4_block6_preact_bn (BatchN  (None, 14, 14, 1024  4096       ['conv4_block5_out[0][0]']       \n",
            " ormalization)                  )                                                                 \n",
            "                                                                                                  \n",
            " conv4_block6_preact_relu (Acti  (None, 14, 14, 1024  0          ['conv4_block6_preact_bn[0][0]'] \n",
            " vation)                        )                                                                 \n",
            "                                                                                                  \n",
            " conv4_block6_1_conv (Conv2D)   (None, 14, 14, 256)  262144      ['conv4_block6_preact_relu[0][0]'\n",
            "                                                                 ]                                \n",
            "                                                                                                  \n",
            " conv4_block6_1_bn (BatchNormal  (None, 14, 14, 256)  1024       ['conv4_block6_1_conv[0][0]']    \n",
            " ization)                                                                                         \n",
            "                                                                                                  \n",
            " conv4_block6_1_relu (Activatio  (None, 14, 14, 256)  0          ['conv4_block6_1_bn[0][0]']      \n",
            " n)                                                                                               \n",
            "                                                                                                  \n",
            " conv4_block6_2_pad (ZeroPaddin  (None, 16, 16, 256)  0          ['conv4_block6_1_relu[0][0]']    \n",
            " g2D)                                                                                             \n",
            "                                                                                                  \n",
            " conv4_block6_2_conv (Conv2D)   (None, 7, 7, 256)    589824      ['conv4_block6_2_pad[0][0]']     \n",
            "                                                                                                  \n",
            " conv4_block6_2_bn (BatchNormal  (None, 7, 7, 256)   1024        ['conv4_block6_2_conv[0][0]']    \n",
            " ization)                                                                                         \n",
            "                                                                                                  \n",
            " conv4_block6_2_relu (Activatio  (None, 7, 7, 256)   0           ['conv4_block6_2_bn[0][0]']      \n",
            " n)                                                                                               \n",
            "                                                                                                  \n",
            " max_pooling2d_2 (MaxPooling2D)  (None, 7, 7, 1024)  0           ['conv4_block5_out[0][0]']       \n",
            "                                                                                                  \n",
            " conv4_block6_3_conv (Conv2D)   (None, 7, 7, 1024)   263168      ['conv4_block6_2_relu[0][0]']    \n",
            "                                                                                                  \n",
            " conv4_block6_out (Add)         (None, 7, 7, 1024)   0           ['max_pooling2d_2[0][0]',        \n",
            "                                                                  'conv4_block6_3_conv[0][0]']    \n",
            "                                                                                                  \n",
            " conv5_block1_preact_bn (BatchN  (None, 7, 7, 1024)  4096        ['conv4_block6_out[0][0]']       \n",
            " ormalization)                                                                                    \n",
            "                                                                                                  \n",
            " conv5_block1_preact_relu (Acti  (None, 7, 7, 1024)  0           ['conv5_block1_preact_bn[0][0]'] \n",
            " vation)                                                                                          \n",
            "                                                                                                  \n",
            " conv5_block1_1_conv (Conv2D)   (None, 7, 7, 512)    524288      ['conv5_block1_preact_relu[0][0]'\n",
            "                                                                 ]                                \n",
            "                                                                                                  \n",
            " conv5_block1_1_bn (BatchNormal  (None, 7, 7, 512)   2048        ['conv5_block1_1_conv[0][0]']    \n",
            " ization)                                                                                         \n",
            "                                                                                                  \n",
            " conv5_block1_1_relu (Activatio  (None, 7, 7, 512)   0           ['conv5_block1_1_bn[0][0]']      \n",
            " n)                                                                                               \n",
            "                                                                                                  \n",
            " conv5_block1_2_pad (ZeroPaddin  (None, 9, 9, 512)   0           ['conv5_block1_1_relu[0][0]']    \n",
            " g2D)                                                                                             \n",
            "                                                                                                  \n",
            " conv5_block1_2_conv (Conv2D)   (None, 7, 7, 512)    2359296     ['conv5_block1_2_pad[0][0]']     \n",
            "                                                                                                  \n",
            " conv5_block1_2_bn (BatchNormal  (None, 7, 7, 512)   2048        ['conv5_block1_2_conv[0][0]']    \n",
            " ization)                                                                                         \n",
            "                                                                                                  \n",
            " conv5_block1_2_relu (Activatio  (None, 7, 7, 512)   0           ['conv5_block1_2_bn[0][0]']      \n",
            " n)                                                                                               \n",
            "                                                                                                  \n",
            " conv5_block1_0_conv (Conv2D)   (None, 7, 7, 2048)   2099200     ['conv5_block1_preact_relu[0][0]'\n",
            "                                                                 ]                                \n",
            "                                                                                                  \n",
            " conv5_block1_3_conv (Conv2D)   (None, 7, 7, 2048)   1050624     ['conv5_block1_2_relu[0][0]']    \n",
            "                                                                                                  \n",
            " conv5_block1_out (Add)         (None, 7, 7, 2048)   0           ['conv5_block1_0_conv[0][0]',    \n",
            "                                                                  'conv5_block1_3_conv[0][0]']    \n",
            "                                                                                                  \n",
            " conv5_block2_preact_bn (BatchN  (None, 7, 7, 2048)  8192        ['conv5_block1_out[0][0]']       \n",
            " ormalization)                                                                                    \n",
            "                                                                                                  \n",
            " conv5_block2_preact_relu (Acti  (None, 7, 7, 2048)  0           ['conv5_block2_preact_bn[0][0]'] \n",
            " vation)                                                                                          \n",
            "                                                                                                  \n",
            " conv5_block2_1_conv (Conv2D)   (None, 7, 7, 512)    1048576     ['conv5_block2_preact_relu[0][0]'\n",
            "                                                                 ]                                \n",
            "                                                                                                  \n",
            " conv5_block2_1_bn (BatchNormal  (None, 7, 7, 512)   2048        ['conv5_block2_1_conv[0][0]']    \n",
            " ization)                                                                                         \n",
            "                                                                                                  \n",
            " conv5_block2_1_relu (Activatio  (None, 7, 7, 512)   0           ['conv5_block2_1_bn[0][0]']      \n",
            " n)                                                                                               \n",
            "                                                                                                  \n",
            " conv5_block2_2_pad (ZeroPaddin  (None, 9, 9, 512)   0           ['conv5_block2_1_relu[0][0]']    \n",
            " g2D)                                                                                             \n",
            "                                                                                                  \n",
            " conv5_block2_2_conv (Conv2D)   (None, 7, 7, 512)    2359296     ['conv5_block2_2_pad[0][0]']     \n",
            "                                                                                                  \n",
            " conv5_block2_2_bn (BatchNormal  (None, 7, 7, 512)   2048        ['conv5_block2_2_conv[0][0]']    \n",
            " ization)                                                                                         \n",
            "                                                                                                  \n",
            " conv5_block2_2_relu (Activatio  (None, 7, 7, 512)   0           ['conv5_block2_2_bn[0][0]']      \n",
            " n)                                                                                               \n",
            "                                                                                                  \n",
            " conv5_block2_3_conv (Conv2D)   (None, 7, 7, 2048)   1050624     ['conv5_block2_2_relu[0][0]']    \n",
            "                                                                                                  \n",
            " conv5_block2_out (Add)         (None, 7, 7, 2048)   0           ['conv5_block1_out[0][0]',       \n",
            "                                                                  'conv5_block2_3_conv[0][0]']    \n",
            "                                                                                                  \n",
            " conv5_block3_preact_bn (BatchN  (None, 7, 7, 2048)  8192        ['conv5_block2_out[0][0]']       \n",
            " ormalization)                                                                                    \n",
            "                                                                                                  \n",
            " conv5_block3_preact_relu (Acti  (None, 7, 7, 2048)  0           ['conv5_block3_preact_bn[0][0]'] \n",
            " vation)                                                                                          \n",
            "                                                                                                  \n",
            " conv5_block3_1_conv (Conv2D)   (None, 7, 7, 512)    1048576     ['conv5_block3_preact_relu[0][0]'\n",
            "                                                                 ]                                \n",
            "                                                                                                  \n",
            " conv5_block3_1_bn (BatchNormal  (None, 7, 7, 512)   2048        ['conv5_block3_1_conv[0][0]']    \n",
            " ization)                                                                                         \n",
            "                                                                                                  \n",
            " conv5_block3_1_relu (Activatio  (None, 7, 7, 512)   0           ['conv5_block3_1_bn[0][0]']      \n",
            " n)                                                                                               \n",
            "                                                                                                  \n",
            " conv5_block3_2_pad (ZeroPaddin  (None, 9, 9, 512)   0           ['conv5_block3_1_relu[0][0]']    \n",
            " g2D)                                                                                             \n",
            "                                                                                                  \n",
            " conv5_block3_2_conv (Conv2D)   (None, 7, 7, 512)    2359296     ['conv5_block3_2_pad[0][0]']     \n",
            "                                                                                                  \n",
            " conv5_block3_2_bn (BatchNormal  (None, 7, 7, 512)   2048        ['conv5_block3_2_conv[0][0]']    \n",
            " ization)                                                                                         \n",
            "                                                                                                  \n",
            " conv5_block3_2_relu (Activatio  (None, 7, 7, 512)   0           ['conv5_block3_2_bn[0][0]']      \n",
            " n)                                                                                               \n",
            "                                                                                                  \n",
            " conv5_block3_3_conv (Conv2D)   (None, 7, 7, 2048)   1050624     ['conv5_block3_2_relu[0][0]']    \n",
            "                                                                                                  \n",
            " conv5_block3_out (Add)         (None, 7, 7, 2048)   0           ['conv5_block2_out[0][0]',       \n",
            "                                                                  'conv5_block3_3_conv[0][0]']    \n",
            "                                                                                                  \n",
            " post_bn (BatchNormalization)   (None, 7, 7, 2048)   8192        ['conv5_block3_out[0][0]']       \n",
            "                                                                                                  \n",
            " post_relu (Activation)         (None, 7, 7, 2048)   0           ['post_bn[0][0]']                \n",
            "                                                                                                  \n",
            " global_average_pooling2d (Glob  (None, 2048)        0           ['post_relu[0][0]']              \n",
            " alAveragePooling2D)                                                                              \n",
            "                                                                                                  \n",
            " dense (Dense)                  (None, 128)          262272      ['global_average_pooling2d[0][0]'\n",
            "                                                                 ]                                \n",
            "                                                                                                  \n",
            " dropout (Dropout)              (None, 128)          0           ['dense[0][0]']                  \n",
            "                                                                                                  \n",
            " dense_1 (Dense)                (None, 7)            903         ['dropout[0][0]']                \n",
            "                                                                                                  \n",
            "==================================================================================================\n",
            "Total params: 23,827,975\n",
            "Trainable params: 263,175\n",
            "Non-trainable params: 23,564,800\n",
            "__________________________________________________________________________________________________\n",
            "None\n"
          ]
        }
      ]
    },
    {
      "cell_type": "code",
      "source": [
        "optim = Adam(learning_rate=0.001)\n",
        "  \n",
        "resn_model.compile(optimizer = optim, loss = \"categorical_crossentropy\", metrics = metric)\n",
        "print(\"Model ResNet 50v2 compilation completed.\")"
      ],
      "metadata": {
        "colab": {
          "base_uri": "https://localhost:8080/"
        },
        "id": "IqS2p-2qtbNb",
        "outputId": "abe7d211-c6c9-44b5-996b-f4eb0cafc9b6"
      },
      "execution_count": null,
      "outputs": [
        {
          "output_type": "stream",
          "name": "stdout",
          "text": [
            "Model ResNet 50v2 compilation completed.\n"
          ]
        }
      ]
    },
    {
      "cell_type": "code",
      "source": [
        "learn_rate = tf.keras.callbacks.ReduceLROnPlateau(monitor='val_f1_metric', \n",
        "                                            patience=5, \n",
        "                                            verbose=1, \n",
        "                                            factor=0.5, \n",
        "                                            min_lr=0.00001)\n",
        "\n",
        "\n",
        "early_stop = EarlyStopping(monitor= \"val_f1_metric\", mode = \"max\", min_delta= 0.01, patience = 3, verbose=1)\n",
        "# If model improves it will automatically save it\n",
        "model_chpnt = ModelCheckpoint(filepath=\"Resnetv50_model.h5\", monitor=\"val_f1_metric\", verbose=1, save_best_only= True, mode=\"max\")"
      ],
      "metadata": {
        "id": "kPy8k2C4uT9l"
      },
      "execution_count": 89,
      "outputs": []
    },
    {
      "cell_type": "code",
      "execution_count": null,
      "metadata": {
        "colab": {
          "base_uri": "https://localhost:8080/"
        },
        "id": "hKOSHJMMXOzQ",
        "outputId": "1a1f058a-5a48-4af4-f015-089e9b06bca9"
      },
      "outputs": [
        {
          "output_type": "stream",
          "name": "stdout",
          "text": [
            "Epoch 1/50\n",
            "501/501 [==============================] - ETA: 0s - loss: 1.4808 - accuracy: 0.4627 - precision: 0.0917 - recall: 0.0925 - f1_metric: 0.3662\n",
            "Epoch 1: val_f1_metric improved from -inf to 0.43680, saving model to renset50v2.h5\n",
            "501/501 [==============================] - 128s 227ms/step - loss: 1.4808 - accuracy: 0.4627 - precision: 0.0917 - recall: 0.0925 - f1_metric: 0.3662 - val_loss: 1.2979 - val_accuracy: 0.5150 - val_precision: 0.1746 - val_recall: 0.1058 - val_f1_metric: 0.4368 - lr: 0.0010\n",
            "Epoch 2/50\n",
            "501/501 [==============================] - ETA: 0s - loss: 1.1136 - accuracy: 0.5569 - precision: 0.2087 - recall: 0.1928 - f1_metric: 0.5170\n",
            "Epoch 2: val_f1_metric improved from 0.43680 to 0.58798, saving model to renset50v2.h5\n",
            "501/501 [==============================] - 103s 206ms/step - loss: 1.1136 - accuracy: 0.5569 - precision: 0.2087 - recall: 0.1928 - f1_metric: 0.5170 - val_loss: 1.0375 - val_accuracy: 0.6072 - val_precision: 0.3016 - val_recall: 0.2910 - val_f1_metric: 0.5880 - lr: 0.0010\n",
            "Epoch 3/50\n",
            "501/501 [==============================] - ETA: 0s - loss: 0.9240 - accuracy: 0.6097 - precision: 0.2773 - recall: 0.2718 - f1_metric: 0.5874\n",
            "Epoch 3: val_f1_metric improved from 0.58798 to 0.66755, saving model to renset50v2.h5\n",
            "501/501 [==============================] - 97s 193ms/step - loss: 0.9240 - accuracy: 0.6097 - precision: 0.2773 - recall: 0.2718 - f1_metric: 0.5874 - val_loss: 0.8425 - val_accuracy: 0.6864 - val_precision: 0.3175 - val_recall: 0.2884 - val_f1_metric: 0.6675 - lr: 0.0010\n",
            "Epoch 4/50\n",
            "501/501 [==============================] - ETA: 0s - loss: 0.8215 - accuracy: 0.6281 - precision: 0.3177 - recall: 0.3213 - f1_metric: 0.6034\n",
            "Epoch 4: val_f1_metric did not improve from 0.66755\n",
            "501/501 [==============================] - 95s 189ms/step - loss: 0.8215 - accuracy: 0.6281 - precision: 0.3177 - recall: 0.3213 - f1_metric: 0.6034 - val_loss: 0.8194 - val_accuracy: 0.6864 - val_precision: 0.3836 - val_recall: 0.3624 - val_f1_metric: 0.6658 - lr: 0.0010\n",
            "Epoch 5/50\n",
            "501/501 [==============================] - ETA: 0s - loss: 0.7227 - accuracy: 0.6685 - precision: 0.3423 - recall: 0.3547 - f1_metric: 0.6563\n",
            "Epoch 5: val_f1_metric improved from 0.66755 to 0.68825, saving model to renset50v2.h5\n",
            "501/501 [==============================] - 95s 190ms/step - loss: 0.7227 - accuracy: 0.6685 - precision: 0.3423 - recall: 0.3547 - f1_metric: 0.6563 - val_loss: 0.8045 - val_accuracy: 0.7024 - val_precision: 0.3201 - val_recall: 0.3598 - val_f1_metric: 0.6883 - lr: 0.0010\n",
            "Epoch 6/50\n",
            "501/501 [==============================] - ETA: 0s - loss: 0.6243 - accuracy: 0.6926 - precision: 0.3576 - recall: 0.3717 - f1_metric: 0.6851\n",
            "Epoch 6: val_f1_metric improved from 0.68825 to 0.70982, saving model to renset50v2.h5\n",
            "\n",
            "Epoch 6: ReduceLROnPlateau reducing learning rate to 0.0005000000237487257.\n",
            "501/501 [==============================] - 95s 190ms/step - loss: 0.6243 - accuracy: 0.6926 - precision: 0.3576 - recall: 0.3717 - f1_metric: 0.6851 - val_loss: 0.7302 - val_accuracy: 0.7124 - val_precision: 0.4259 - val_recall: 0.4312 - val_f1_metric: 0.7098 - lr: 0.0010\n",
            "Epoch 7/50\n",
            "501/501 [==============================] - ETA: 0s - loss: 0.5048 - accuracy: 0.7268 - precision: 0.4088 - recall: 0.4303 - f1_metric: 0.7193\n",
            "Epoch 7: val_f1_metric improved from 0.70982 to 0.73189, saving model to renset50v2.h5\n",
            "501/501 [==============================] - 95s 190ms/step - loss: 0.5048 - accuracy: 0.7268 - precision: 0.4088 - recall: 0.4303 - f1_metric: 0.7193 - val_loss: 0.6615 - val_accuracy: 0.7475 - val_precision: 0.4008 - val_recall: 0.4259 - val_f1_metric: 0.7319 - lr: 5.0000e-04\n",
            "Epoch 8/50\n",
            "501/501 [==============================] - ETA: 0s - loss: 0.4717 - accuracy: 0.7454 - precision: 0.4355 - recall: 0.4692 - f1_metric: 0.7397\n",
            "Epoch 8: val_f1_metric improved from 0.73189 to 0.78894, saving model to renset50v2.h5\n",
            "501/501 [==============================] - 96s 191ms/step - loss: 0.4717 - accuracy: 0.7454 - precision: 0.4355 - recall: 0.4692 - f1_metric: 0.7397 - val_loss: 0.5511 - val_accuracy: 0.7856 - val_precision: 0.4087 - val_recall: 0.4841 - val_f1_metric: 0.7889 - lr: 5.0000e-04\n",
            "Epoch 9/50\n",
            "501/501 [==============================] - ETA: 0s - loss: 0.4396 - accuracy: 0.7546 - precision: 0.4323 - recall: 0.4677 - f1_metric: 0.7462\n",
            "Epoch 9: val_f1_metric did not improve from 0.78894\n",
            "501/501 [==============================] - 97s 193ms/step - loss: 0.4396 - accuracy: 0.7546 - precision: 0.4323 - recall: 0.4677 - f1_metric: 0.7462 - val_loss: 0.6794 - val_accuracy: 0.7335 - val_precision: 0.4683 - val_recall: 0.5304 - val_f1_metric: 0.7333 - lr: 5.0000e-04\n",
            "Epoch 10/50\n",
            "501/501 [==============================] - ETA: 0s - loss: 0.4110 - accuracy: 0.7664 - precision: 0.4393 - recall: 0.4608 - f1_metric: 0.7602\n",
            "Epoch 10: val_f1_metric did not improve from 0.78894\n",
            "501/501 [==============================] - 97s 194ms/step - loss: 0.4110 - accuracy: 0.7664 - precision: 0.4393 - recall: 0.4608 - f1_metric: 0.7602 - val_loss: 0.5856 - val_accuracy: 0.7615 - val_precision: 0.4656 - val_recall: 0.5013 - val_f1_metric: 0.7565 - lr: 5.0000e-04\n",
            "Epoch 11/50\n",
            "501/501 [==============================] - ETA: 0s - loss: 0.3682 - accuracy: 0.7788 - precision: 0.4556 - recall: 0.4889 - f1_metric: 0.7742\n",
            "Epoch 11: val_f1_metric improved from 0.78894 to 0.80672, saving model to renset50v2.h5\n",
            "\n",
            "Epoch 11: ReduceLROnPlateau reducing learning rate to 0.0002500000118743628.\n",
            "501/501 [==============================] - 98s 195ms/step - loss: 0.3682 - accuracy: 0.7788 - precision: 0.4556 - recall: 0.4889 - f1_metric: 0.7742 - val_loss: 0.5004 - val_accuracy: 0.8056 - val_precision: 0.4577 - val_recall: 0.5026 - val_f1_metric: 0.8067 - lr: 5.0000e-04\n",
            "Epoch 12/50\n",
            "501/501 [==============================] - ETA: 0s - loss: 0.3188 - accuracy: 0.7939 - precision: 0.4822 - recall: 0.5138 - f1_metric: 0.7910\n",
            "Epoch 12: val_f1_metric did not improve from 0.80672\n",
            "501/501 [==============================] - 97s 193ms/step - loss: 0.3188 - accuracy: 0.7939 - precision: 0.4822 - recall: 0.5138 - f1_metric: 0.7910 - val_loss: 0.5160 - val_accuracy: 0.7996 - val_precision: 0.4894 - val_recall: 0.5265 - val_f1_metric: 0.7969 - lr: 2.5000e-04\n",
            "Epoch 13/50\n",
            "501/501 [==============================] - ETA: 0s - loss: 0.3100 - accuracy: 0.7999 - precision: 0.4865 - recall: 0.5163 - f1_metric: 0.7991\n",
            "Epoch 13: val_f1_metric did not improve from 0.80672\n",
            "501/501 [==============================] - 98s 195ms/step - loss: 0.3100 - accuracy: 0.7999 - precision: 0.4865 - recall: 0.5163 - f1_metric: 0.7991 - val_loss: 0.4914 - val_accuracy: 0.8016 - val_precision: 0.4683 - val_recall: 0.5238 - val_f1_metric: 0.8057 - lr: 2.5000e-04\n",
            "Epoch 14/50\n",
            "501/501 [==============================] - ETA: 0s - loss: 0.2817 - accuracy: 0.8117 - precision: 0.4794 - recall: 0.5171 - f1_metric: 0.8117\n",
            "Epoch 14: val_f1_metric improved from 0.80672 to 0.80848, saving model to renset50v2.h5\n",
            "501/501 [==============================] - 98s 195ms/step - loss: 0.2817 - accuracy: 0.8117 - precision: 0.4794 - recall: 0.5171 - f1_metric: 0.8117 - val_loss: 0.4636 - val_accuracy: 0.8146 - val_precision: 0.4222 - val_recall: 0.4630 - val_f1_metric: 0.8085 - lr: 2.5000e-04\n",
            "Epoch 14: early stopping\n"
          ]
        }
      ],
      "source": [
        "# Fitting the model \n",
        "resnet_hist = resn_model.fit(train_data, epochs = 40,batch_size = 16, validation_data = val_data, \n",
        "                          callbacks = [learn_rate, early_stop, model_chpnt], \n",
        "                          class_weight = weight_dict)"
      ]
    },
    {
      "cell_type": "code",
      "source": [
        "acc = resnet_hist.evaluate(test_data, verbose = 1)\n",
        "print(f\"The accuracy for ResNet 50v2 model on the test data set is: {acc[1] * 100} %\")"
      ],
      "metadata": {
        "colab": {
          "base_uri": "https://localhost:8080/"
        },
        "id": "K_Vs7cKhRVOe",
        "outputId": "90282f8f-497e-46bc-99a9-ad5de500b699"
      },
      "execution_count": null,
      "outputs": [
        {
          "output_type": "stream",
          "name": "stdout",
          "text": [
            "63/63 [==============================] - 15s 229ms/step - loss: 0.4676 - accuracy: 0.8367 - precision: 0.5132 - recall: 0.5476 - f1_metric: 0.8308\n",
            "The accuracy for ResNet 50v2 model on the test data set is: 83.66733193397522 %\n"
          ]
        }
      ]
    },
    {
      "cell_type": "code",
      "execution_count": null,
      "metadata": {
        "colab": {
          "base_uri": "https://localhost:8080/",
          "height": 367
        },
        "id": "Bw_1TyVGpZ-G",
        "outputId": "79f3f2a5-903e-4f69-aa93-cac25d6170db"
      },
      "outputs": [
        {
          "output_type": "display_data",
          "data": {
            "text/plain": [
              "<Figure size 1152x360 with 2 Axes>"
            ],
            "image/png": "[encoded data removed]"
          },
          "metadata": {}
        }
      ],
      "source": [
        "fig = plt.figure(figsize=(16, 5))\n",
        "#  subplot #1\n",
        "plt.subplot(121)\n",
        "import seaborn as sns \n",
        "sns.set_style(\"whitegrid\")\n",
        "plt.plot(resnet_hist.history[\"accuracy\"], label = \"train\")\n",
        "plt.plot(resnet_hist.history[\"val_accuracy\"], label = \"valid\")\n",
        "plt.xlabel(\"epochs\")\n",
        "plt.ylabel(\"accuracy\")\n",
        "plt.title(\"ResNet50 V2 Accuracy \\n\", fontsize = 14)\n",
        "plt.legend()\n",
        "\n",
        "#  subplot #2\n",
        "plt.subplot(122)\n",
        "import seaborn as sns \n",
        "sns.set_style(\"whitegrid\")\n",
        "plt.plot(resnet_hist.history[\"loss\"], label = \"train\")\n",
        "plt.plot(resnet_hist.history[\"val_loss\"], label = \"valid\")\n",
        "plt.xlabel(\"epochs\")\n",
        "plt.ylabel(\"Loss\")\n",
        "plt.title(\"ResNet50V2 Loss \\n\", fontsize = 14)\n",
        "plt.legend()\n",
        "\n",
        "plt.show()"
      ]
    },
    {
      "cell_type": "code",
      "source": [
        "Y_pred = resn_model.predict(test_data)\n",
        "y_pred = np.argmax(Y_pred, axis = 1)\n",
        "print(\"Confusion Matrix ResNet 50v2\")\n",
        "cnf_mtx = confusion_matrix(test_data.classes, y_pred)\n",
        "print(cnf_mtx)"
      ],
      "metadata": {
        "colab": {
          "base_uri": "https://localhost:8080/"
        },
        "id": "fruUcodKxeIQ",
        "outputId": "395fb0e9-b286-474c-c20f-ce09a9e1c697"
      },
      "execution_count": null,
      "outputs": [
        {
          "output_type": "stream",
          "name": "stdout",
          "text": [
            "Confusion Matrix ResNet 50v2\n",
            "[[  1   1   6   0  10  16   0]\n",
            " [  2   7   3   1  13  25   1]\n",
            " [  6   5  15   3  22  60   0]\n",
            " [  1   0   2   0   2   6   1]\n",
            " [  4  13  17   3  22  50   3]\n",
            " [ 21  45  91   8 118 375  13]\n",
            " [  1   2   0   0   3   9   0]]\n"
          ]
        }
      ]
    },
    {
      "cell_type": "code",
      "source": [
        "# Plotting confuion matrix\n",
        "\n",
        "conf_matr = pd.DataFrame(cnf_mtx, index = ['akiec', 'bcc', 'bkl', 'df', 'mel', 'nv', 'vasc'],\n",
        "                           columns = ['akiec', 'bcc', 'bkl', 'df', 'mel', 'nv', 'vasc'])\n",
        "#Normalizing\n",
        "conf_matr = conf_matr.astype('float') / conf_matr.sum(axis=1)[:, np.newaxis]\n",
        "plt.figure(figsize = (10, 5))\n",
        "plt.title(\"Confusion Matrix for ResNet50V2\", fontsize = 14)\n",
        "sns.heatmap(conf_matr, annot=True, annot_kws={\"size\": 15})"
      ],
      "metadata": {
        "colab": {
          "base_uri": "https://localhost:8080/",
          "height": 409
        },
        "id": "zOZ5wlLQyJSR",
        "outputId": "e87e1b34-b1e4-4796-96a8-d6814feee6e7"
      },
      "execution_count": null,
      "outputs": [
        {
          "output_type": "stream",
          "name": "stderr",
          "text": [
            "/usr/local/lib/python3.7/dist-packages/ipykernel_launcher.py:6: FutureWarning: Support for multi-dimensional indexing (e.g. `obj[:, None]`) is deprecated and will be removed in a future version.  Convert to a numpy array before indexing instead.\n",
            "  \n"
          ]
        },
        {
          "output_type": "execute_result",
          "data": {
            "text/plain": [
              "<matplotlib.axes._subplots.AxesSubplot at 0x7facb51d4f50>"
            ]
          },
          "metadata": {},
          "execution_count": 93
        },
        {
          "output_type": "display_data",
          "data": {
            "text/plain": [
              "<Figure size 720x360 with 2 Axes>"
            ],
            "image/png": "[encoded data removed]"
          },
          "metadata": {}
        }
      ]
    },
    {
      "cell_type": "markdown",
      "source": [
        "The above fig shows the confusion matrix for ResNet50v2 model without image augmentation."
      ],
      "metadata": {
        "id": "CpHTdXyNTMgc"
      }
    },
    {
      "cell_type": "code",
      "execution_count": null,
      "metadata": {
        "colab": {
          "base_uri": "https://localhost:8080/"
        },
        "outputId": "0064043e-08d5-45a9-c4ab-cc8e971f88b7",
        "id": "l4WPYGs_USpJ"
      },
      "outputs": [
        {
          "output_type": "stream",
          "name": "stdout",
          "text": [
            "              precision    recall  f1-score   support\n",
            "\n",
            "       akiec       0.06      0.06      0.06        32\n",
            "         bcc       0.02      0.02      0.02        51\n",
            "         bkl       0.13      0.16      0.14       109\n",
            "          df       0.00      0.00      0.00        11\n",
            "         mel       0.10      0.15      0.12       111\n",
            "          nv       0.67      0.57      0.61       670\n",
            "        vasc       0.00      0.00      0.00        14\n",
            "\n",
            "    accuracy                           0.42       998\n",
            "   macro avg       0.14      0.14      0.14       998\n",
            "weighted avg       0.47      0.42      0.44       998\n",
            "\n"
          ]
        }
      ],
      "source": [
        "from sklearn.metrics import classification_report\n",
        "\n",
        "target_names = ['akiec', 'bcc', 'bkl', 'df', 'mel', 'nv', 'vasc']\n",
        "print(classification_report(test_data.classes, y_pred, target_names = target_names))"
      ]
    },
    {
      "cell_type": "code",
      "execution_count": null,
      "metadata": {
        "colab": {
          "base_uri": "https://localhost:8080/",
          "height": 331
        },
        "id": "t5KBUxW1ocM1",
        "outputId": "6bb3d02b-496e-4389-f406-a269a7f454c0"
      },
      "outputs": [
        {
          "output_type": "execute_result",
          "data": {
            "text/plain": [
              "Predicted   0   1    2   3    4    5   6  All\n",
              "Actual                                       \n",
              "0           2   1    3   0    5   20   1   32\n",
              "1           4   1   10   0   10   26   0   51\n",
              "2           5   8   17   0   20   56   3  109\n",
              "3           1   0    0   0    1    9   0   11\n",
              "4           5   6   11   1   17   69   2  111\n",
              "5          19  46   92   9  114  379  11  670\n",
              "6           0   3    0   0    1   10   0   14\n",
              "All        36  65  133  10  168  569  17  998"
            ],
            "text/html": [
              "\n",
              "  <div id=\"df-d54ca0de-efc0-46fd-ae43-023cf8b3f280\">\n",
              "    <div class=\"colab-df-container\">\n",
              "      <div>\n",
              "<style scoped>\n",
              "    .dataframe tbody tr th:only-of-type {\n",
              "        vertical-align: middle;\n",
              "    }\n",
              "\n",
              "    .dataframe tbody tr th {\n",
              "        vertical-align: top;\n",
              "    }\n",
              "\n",
              "    .dataframe thead th {\n",
              "        text-align: right;\n",
              "    }\n",
              "</style>\n",
              "<table border=\"1\" class=\"dataframe\">\n",
              "  <thead>\n",
              "    <tr style=\"text-align: right;\">\n",
              "      <th>Predicted</th>\n",
              "      <th>0</th>\n",
              "      <th>1</th>\n",
              "      <th>2</th>\n",
              "      <th>3</th>\n",
              "      <th>4</th>\n",
              "      <th>5</th>\n",
              "      <th>6</th>\n",
              "      <th>All</th>\n",
              "    </tr>\n",
              "    <tr>\n",
              "      <th>Actual</th>\n",
              "      <th></th>\n",
              "      <th></th>\n",
              "      <th></th>\n",
              "      <th></th>\n",
              "      <th></th>\n",
              "      <th></th>\n",
              "      <th></th>\n",
              "      <th></th>\n",
              "    </tr>\n",
              "  </thead>\n",
              "  <tbody>\n",
              "    <tr>\n",
              "      <th>0</th>\n",
              "      <td>2</td>\n",
              "      <td>1</td>\n",
              "      <td>3</td>\n",
              "      <td>0</td>\n",
              "      <td>5</td>\n",
              "      <td>20</td>\n",
              "      <td>1</td>\n",
              "      <td>32</td>\n",
              "    </tr>\n",
              "    <tr>\n",
              "      <th>1</th>\n",
              "      <td>4</td>\n",
              "      <td>1</td>\n",
              "      <td>10</td>\n",
              "      <td>0</td>\n",
              "      <td>10</td>\n",
              "      <td>26</td>\n",
              "      <td>0</td>\n",
              "      <td>51</td>\n",
              "    </tr>\n",
              "    <tr>\n",
              "      <th>2</th>\n",
              "      <td>5</td>\n",
              "      <td>8</td>\n",
              "      <td>17</td>\n",
              "      <td>0</td>\n",
              "      <td>20</td>\n",
              "      <td>56</td>\n",
              "      <td>3</td>\n",
              "      <td>109</td>\n",
              "    </tr>\n",
              "    <tr>\n",
              "      <th>3</th>\n",
              "      <td>1</td>\n",
              "      <td>0</td>\n",
              "      <td>0</td>\n",
              "      <td>0</td>\n",
              "      <td>1</td>\n",
              "      <td>9</td>\n",
              "      <td>0</td>\n",
              "      <td>11</td>\n",
              "    </tr>\n",
              "    <tr>\n",
              "      <th>4</th>\n",
              "      <td>5</td>\n",
              "      <td>6</td>\n",
              "      <td>11</td>\n",
              "      <td>1</td>\n",
              "      <td>17</td>\n",
              "      <td>69</td>\n",
              "      <td>2</td>\n",
              "      <td>111</td>\n",
              "    </tr>\n",
              "    <tr>\n",
              "      <th>5</th>\n",
              "      <td>19</td>\n",
              "      <td>46</td>\n",
              "      <td>92</td>\n",
              "      <td>9</td>\n",
              "      <td>114</td>\n",
              "      <td>379</td>\n",
              "      <td>11</td>\n",
              "      <td>670</td>\n",
              "    </tr>\n",
              "    <tr>\n",
              "      <th>6</th>\n",
              "      <td>0</td>\n",
              "      <td>3</td>\n",
              "      <td>0</td>\n",
              "      <td>0</td>\n",
              "      <td>1</td>\n",
              "      <td>10</td>\n",
              "      <td>0</td>\n",
              "      <td>14</td>\n",
              "    </tr>\n",
              "    <tr>\n",
              "      <th>All</th>\n",
              "      <td>36</td>\n",
              "      <td>65</td>\n",
              "      <td>133</td>\n",
              "      <td>10</td>\n",
              "      <td>168</td>\n",
              "      <td>569</td>\n",
              "      <td>17</td>\n",
              "      <td>998</td>\n",
              "    </tr>\n",
              "  </tbody>\n",
              "</table>\n",
              "</div>\n",
              "      <button class=\"colab-df-convert\" onclick=\"convertToInteractive('df-d54ca0de-efc0-46fd-ae43-023cf8b3f280')\"\n",
              "              title=\"Convert this dataframe to an interactive table.\"\n",
              "              style=\"display:none;\">\n",
              "        \n",
              "  <svg xmlns=\"http://www.w3.org/2000/svg\" height=\"24px\"viewBox=\"0 0 24 24\"\n",
              "       width=\"24px\">\n",
              "    <path d=\"M0 0h24v24H0V0z\" fill=\"none\"/>\n",
              "    <path d=\"M18.56 5.44l.94 2.06.94-2.06 2.06-.94-2.06-.94-.94-2.06-.94 2.06-2.06.94zm-11 1L8.5 8.5l.94-2.06 2.06-.94-2.06-.94L8.5 2.5l-.94 2.06-2.06.94zm10 10l.94 2.06.94-2.06 2.06-.94-2.06-.94-.94-2.06-.94 2.06-2.06.94z\"/><path d=\"M17.41 7.96l-1.37-1.37c-.4-.4-.92-.59-1.43-.59-.52 0-1.04.2-1.43.59L10.3 9.45l-7.72 7.72c-.78.78-.78 2.05 0 2.83L4 21.41c.39.39.9.59 1.41.59.51 0 1.02-.2 1.41-.59l7.78-7.78 2.81-2.81c.8-.78.8-2.07 0-2.86zM5.41 20L4 18.59l7.72-7.72 1.47 1.35L5.41 20z\"/>\n",
              "  </svg>\n",
              "      </button>\n",
              "      \n",
              "  <style>\n",
              "    .colab-df-container {\n",
              "      display:flex;\n",
              "      flex-wrap:wrap;\n",
              "      gap: 12px;\n",
              "    }\n",
              "\n",
              "    .colab-df-convert {\n",
              "      background-color: #E8F0FE;\n",
              "      border: none;\n",
              "      border-radius: 50%;\n",
              "      cursor: pointer;\n",
              "      display: none;\n",
              "      fill: #1967D2;\n",
              "      height: 32px;\n",
              "      padding: 0 0 0 0;\n",
              "      width: 32px;\n",
              "    }\n",
              "\n",
              "    .colab-df-convert:hover {\n",
              "      background-color: #E2EBFA;\n",
              "      box-shadow: 0px 1px 2px rgba(60, 64, 67, 0.3), 0px 1px 3px 1px rgba(60, 64, 67, 0.15);\n",
              "      fill: #174EA6;\n",
              "    }\n",
              "\n",
              "    [theme=dark] .colab-df-convert {\n",
              "      background-color: #3B4455;\n",
              "      fill: #D2E3FC;\n",
              "    }\n",
              "\n",
              "    [theme=dark] .colab-df-convert:hover {\n",
              "      background-color: #434B5C;\n",
              "      box-shadow: 0px 1px 3px 1px rgba(0, 0, 0, 0.15);\n",
              "      filter: drop-shadow(0px 1px 2px rgba(0, 0, 0, 0.3));\n",
              "      fill: #FFFFFF;\n",
              "    }\n",
              "  </style>\n",
              "\n",
              "      <script>\n",
              "        const buttonEl =\n",
              "          document.querySelector('#df-d54ca0de-efc0-46fd-ae43-023cf8b3f280 button.colab-df-convert');\n",
              "        buttonEl.style.display =\n",
              "          google.colab.kernel.accessAllowed ? 'block' : 'none';\n",
              "\n",
              "        async function convertToInteractive(key) {\n",
              "          const element = document.querySelector('#df-d54ca0de-efc0-46fd-ae43-023cf8b3f280');\n",
              "          const dataTable =\n",
              "            await google.colab.kernel.invokeFunction('convertToInteractive',\n",
              "                                                     [key], {});\n",
              "          if (!dataTable) return;\n",
              "\n",
              "          const docLinkHtml = 'Like what you see? Visit the ' +\n",
              "            '<a target=\"_blank\" href=https://colab.research.google.com/notebooks/data_table.ipynb>data table notebook</a>'\n",
              "            + ' to learn more about interactive tables.';\n",
              "          element.innerHTML = '';\n",
              "          dataTable['output_type'] = 'display_data';\n",
              "          await google.colab.output.renderOutput(dataTable, element);\n",
              "          const docLink = document.createElement('div');\n",
              "          docLink.innerHTML = docLinkHtml;\n",
              "          element.appendChild(docLink);\n",
              "        }\n",
              "      </script>\n",
              "    </div>\n",
              "  </div>\n",
              "  "
            ]
          },
          "metadata": {},
          "execution_count": 82
        }
      ],
      "source": [
        "pd.crosstab(test_data.classes, y_pred, rownames = [\"Actual\"], colnames = [\"Predicted\"], margins = True)"
      ]
    },
    {
      "cell_type": "markdown",
      "source": [
        "<p align =\"justify\">Above is the metric score and prediction table for different skin cancer classes of ResNet50V2 class . we can observe that the model is not predicting 'df' and 'vasc' classes at all. As per over EDA ,this is observed because that these two classes have the lowest count of images in the dataset whereas nv has the highest therefore it has a good F1-score compare to others.If the there is class imbalances as in our case, it is better to use a weighted macro-averaging score to measure the performance of the model.</p>"
      ],
      "metadata": {
        "id": "9hzcJRaJZ2Aj"
      }
    },
    {
      "cell_type": "markdown",
      "source": [
        "# 9. Results and Conclusion\n"
      ],
      "metadata": {
        "id": "byU2kEo_l01i"
      }
    },
    {
      "cell_type": "markdown",
      "source": [
        "|                    | Resnet50V2 with img Augmentation | Resnet50V2 without img Augmentation | VGG16 with img Augmentation | |\n",
        "|--------------------|--------------------------|---------------------------------|-----------------------|------------------------------|\n",
        "| **Cancer Classes** |                          | **f1-scores**                   |                       |                              |\n",
        "| akiec              | 0.00                     | 0.06                            | 0.05                                         |\n",
        "| bcc                | 0.03                     | 0.02                            | 0.06                                         |\n",
        "| bkl                | 0.11                     | 0.14                           | 0.08                                          |\n",
        "| df                 | 0.00                     | 0.05                            | 0.00                                          |\n",
        "| mel                | 0.11                     | 0.12                           | 0.10                                          |\n",
        "| nv                 | 0.59                     | 0.61                            | 0.47                                           |\n",
        "| vasc               | 0.01                     | 0.05                            | 0.02                                           |"
      ],
      "metadata": {
        "id": "Cl40f1AiJCyK"
      }
    },
    {
      "cell_type": "markdown",
      "source": [
        "<p align =\"justify\">There were two models trained that is, VGG16 with image augmentation and ResNet50V2 with and without image augmentation. As the data set was imbalanced striking for better accuracy will create an illusion that the model is performing better. To have balance with f1-score, precession and recall metrics will justify for our use case.</p> \n",
        "<p align =\"justify\">From the above table we can clearly see that the models trained with image augmentation have a better F1-scores and can predict more classes accurately. The highest accuracy was achieved on ResNet50V2 model without image augmentation i.e 84% on test and 82.66% validation set and there was a decrease in accuracy to 73% with image augmentation.VGG16 had an accuracy of about 46 %  accuracy and had a lower F1-scores  compared to ResNet50V2 without Image augmentation. Training the models with the class weights removed will increase the accuracy but the results are skewed towards the classes with large image data.</p>\n",
        "<p align =\"justify\">Overall from the above table we can see the F1-scores of the minority classes such as Actinic keratoses (akiec) , Vascular lesions (vas) and Dermatofibroma (df) have a score that is nearly equal to  zero in most of the trained models .This infers that these models will not predict these category of skin cancers and there is no promising results in these learning models.</p>\n"
      ],
      "metadata": {
        "id": "4dIdKvroMyA8"
      }
    },
    {
      "cell_type": "markdown",
      "source": [
        "# 10. Future Scope\n",
        "\n",
        "<p align =\"justify\">The future scope of work is to improve the prediction and classification accuracy by fine tuning the model hyper parameters and used other image augmentation techniques. As the data set was imbalanced, we could try exploring ways to collect images which are less. Pretrained weights i.e imagenet was used to train the model, other pretrained weights such as CIFAR and MNIST can be used to train the model to see if the accuracy improves. After the top model is trained i.e ReNet50 or VGG16 we could further more add and customize the layers and train the model to see if the performance improves. Finally, we could explore ways to use data such as age, sex, localization in our machine learning model to extract more information.</p>"
      ],
      "metadata": {
        "id": "v1h0ipy7cPgW"
      }
    },
    {
      "cell_type": "markdown",
      "source": [
        "# 11. Personal Reflection\n",
        "\n",
        "<p align =\"justify\">By Implementing this Image classification, machine learning project it has given me an extensive experience in tackling various problems and given me an opportunity to explore different tools. I have used Google collab to build this project , which helped in reducing the training time of the model with the cloud GPU rather than running on my personal computer. This also helped me stream line the project from the start to end like a pipeline along with markdown text to create the report simultaneously.</p> \n",
        "<p align =\"justify\">The machine learning models were implemented using Keras and Tensorflow. I have also used libraries such as Pandas, Matplotlib and Seaborn for exploratory data analysis and visualization which helped me learn data analysis techniques and improve my python coding skills. I have also explored new modules such as split-folder which helped me reducing the number of lines in the code and reducing my effort. The most time-consuming and challenging part for me was model selection and building as well as data engineering. Overall, I have enjoyed working on this project overcoming various hurdles along the way which was an experience for future projects.</p>\n",
        "\n"
      ],
      "metadata": {
        "id": "lRbu0LX6PmQu"
      }
    },
    {
      "cell_type": "markdown",
      "source": [
        "# 12. References\n",
        "\n",
        "<p align =\"justify\">[1] Wilson, Brooke E; Jacob, Susannah; Yap, Mei Ling; Ferlay, Jacques; Bray, Freddie; Barton, Michael B (2019). Estimates of global chemotherapy demands and corresponding physician workforce requirements for 2018 and 2040: a population-based study. The Lancet Oncology, (), S1470204519301639–. doi:10.1016/S1470-2045(19)30163-9 </p>\n",
        "<p align =\"justify\">[2] https://arxiv.org/pdf/1902.03368.pdf </p>\n",
        "<p align =\"justify\">[3] K. Pai and A. Giridharan, \"Convolutional Neural Networks for classifying skin lesions,\" TENCON 2019 - 2019 IEEE Region 10 Conference (TENCON), 2019, pp. 1794-1796, doi:\n",
        "10.1109/TENCON.2019.8929461.</p>\n",
        "<p align =\"justify\">[4] Tschandl, Philipp, Cliff Rosendahl, and Harald Kittler. \"The HAM10000 dataset, a large collection of multi-source dermatoscopic images of common pigmented skin lesions.\" Scientific data\n",
        "5.1 (2018): 1-9.</p>\n",
        "<p align =\"justify\">[5]  https://towardsdatascience.com/step-by-step-vgg16-implementation-in-keras-for-beginners-a833c686ae6c </p>\n",
        "<p align =\"justify\">[6] W. F. Chabala and I. Jouny, \"Comparison of Convolutional Neural Network Architectures on\n",
        "Dermastopic Imagery,\" 2020 11th IEEE Annual Ubiquitous Computing, Electronics & Mobile\n",
        "Communication Conference (UEMCON), 2020, pp. 0928-0931, doi:\n",
        "10.1109/UEMCON51285.2020.9298059.</p>"
      ],
      "metadata": {
        "id": "qM0TM0JncIrR"
      }
    }
  ]
}
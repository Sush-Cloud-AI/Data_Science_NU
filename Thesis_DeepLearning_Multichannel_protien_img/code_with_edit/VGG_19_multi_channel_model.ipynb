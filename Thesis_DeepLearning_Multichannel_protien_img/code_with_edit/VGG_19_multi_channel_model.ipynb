{
  "cells": [
    {
      "cell_type": "markdown",
      "source": [
        "# VGG-19 for multi-channel stacked protein images\n",
        "\n",
        "\n"
      ],
      "metadata": {
        "id": "YJgdHiG8Fij8"
      }
    },
    {
      "cell_type": "markdown",
      "metadata": {
        "id": "wSSm5gWkEy3J"
      },
      "source": [
        "#**Importing essential libraries**"
      ]
    },
    {
      "cell_type": "code",
      "execution_count": null,
      "metadata": {
        "colab": {
          "base_uri": "https://localhost:8080/"
        },
        "id": "WLGlEWggI95L",
        "outputId": "6d1eb429-304f-4400-d0d6-185be2fd805a"
      },
      "outputs": [
        {
          "output_type": "stream",
          "name": "stdout",
          "text": [
            "Device mapping:\n",
            "/job:localhost/replica:0/task:0/device:GPU:0 -> device: 0, name: Tesla T4, pci bus id: 0000:00:04.0, compute capability: 7.5\n",
            "\n"
          ]
        }
      ],
      "source": [
        "# initiating gpu using tensorflow.\n",
        "import tensorflow as tf\n",
        "from tensorflow.compat.v1.keras.backend import set_session\n",
        "config = tf.compat.v1.ConfigProto()\n",
        "config.gpu_options.allow_growth = True\n",
        "config.log_device_placement = True\n",
        "sess = tf.compat.v1.Session(config=config)\n",
        "set_session(sess)"
      ]
    },
    {
      "cell_type": "code",
      "execution_count": null,
      "metadata": {
        "colab": {
          "base_uri": "https://localhost:8080/"
        },
        "id": "jzZlDyaaLava",
        "outputId": "f7a5b907-b8b2-48fc-bbd5-34ef74ac7e34"
      },
      "outputs": [
        {
          "output_type": "stream",
          "name": "stdout",
          "text": [
            "Looking in indexes: https://pypi.org/simple, https://us-python.pkg.dev/colab-wheels/public/simple/\n",
            "Collecting patchify\n",
            "  Downloading patchify-0.2.3-py3-none-any.whl (6.6 kB)\n",
            "Requirement already satisfied: numpy<2,>=1 in /usr/local/lib/python3.7/dist-packages (from patchify) (1.21.6)\n",
            "Installing collected packages: patchify\n",
            "Successfully installed patchify-0.2.3\n",
            "Looking in indexes: https://pypi.org/simple, https://us-python.pkg.dev/colab-wheels/public/simple/\n",
            "Collecting split-folders\n",
            "  Downloading split_folders-0.5.1-py3-none-any.whl (8.4 kB)\n",
            "Installing collected packages: split-folders\n",
            "Successfully installed split-folders-0.5.1\n"
          ]
        }
      ],
      "source": [
        "import numpy as np\n",
        "import pandas as pd\n",
        "import glob\n",
        "import random \n",
        "import os\n",
        "import cv2\n",
        "from shutil import copy,copytree\n",
        "import shutil\n",
        "\n",
        "!pip install patchify\n",
        "from patchify import patchify\n",
        "\n",
        "from google.colab import files\n",
        "import os\n",
        "import zipfile\n",
        "\n",
        "#visulaziation\n",
        "import matplotlib.pyplot as plt\n",
        "from google.colab.patches import cv2_imshow\n",
        "\n",
        "\n",
        "# image\n",
        "from PIL import Image\n",
        "\n",
        "# sklearn\n",
        "from sklearn.preprocessing import LabelEncoder\n",
        "from sklearn.model_selection import train_test_split\n",
        "#tensorflow\n",
        "import tensorflow as tf\n",
        "from tensorflow.keras import Sequential\n",
        "from tensorflow.keras import layers\n",
        "from tensorflow.keras.callbacks import EarlyStopping, ReduceLROnPlateau\n",
        "from tensorflow.keras.utils import to_categorical\n",
        "from tensorflow.keras.preprocessing.image import ImageDataGenerator, load_img,img_to_array\n",
        "from tensorflow.keras.applications import VGG16, InceptionV3, ResNet101V2, Xception, ResNet50V2, VGG19\n",
        "from tensorflow.keras import optimizers\n",
        "from tensorflow.keras.optimizers import Adam\n",
        "#from tensorflow.keras.applications.vgg16 import preprocess_input\n",
        "from tensorflow.keras.models import load_model\n",
        "from tensorflow.keras import models, layers\n",
        "from keras.utils.vis_utils import plot_model\n",
        "from tensorflow.keras.layers import Dense,Conv2D,MaxPool2D,Flatten,Dropout,BatchNormalization,Activation,GlobalAveragePooling2D\n",
        "\n",
        "from sklearn.metrics import accuracy_score\n",
        "from sklearn.metrics import precision_score\n",
        "from sklearn.metrics import recall_score\n",
        "from sklearn.metrics import confusion_matrix\n",
        "\n",
        "#setting seed to reproduce the same result every time the code is re-run\n",
        "seed_num = 1\n",
        "tf.random.set_seed(seed_num)\n",
        "np.random.seed(seed_num)\n",
        "\n",
        "# install split-folder\n",
        "!pip install split-folders"
      ]
    },
    {
      "cell_type": "code",
      "execution_count": null,
      "metadata": {
        "id": "mVdvrerPvquH"
      },
      "outputs": [],
      "source": [
        "import warnings\n",
        "warnings.filterwarnings(\"ignore\")"
      ]
    },
    {
      "cell_type": "code",
      "execution_count": null,
      "metadata": {
        "colab": {
          "base_uri": "https://localhost:8080/"
        },
        "id": "WXRrrEzHICfa",
        "outputId": "9c04b480-b053-41d4-f55b-e7e170e3fe57"
      },
      "outputs": [
        {
          "output_type": "stream",
          "name": "stdout",
          "text": [
            "Mounted at /content/drive\n"
          ]
        }
      ],
      "source": [
        "from google.colab import drive\n",
        "drive.mount('/content/drive')"
      ]
    },
    {
      "cell_type": "markdown",
      "metadata": {
        "id": "RMdypKSMDHmf"
      },
      "source": [
        "**Unziping the dataset**"
      ]
    },
    {
      "cell_type": "code",
      "execution_count": null,
      "metadata": {
        "id": "1_78Z1mNIFM5"
      },
      "outputs": [],
      "source": [
        "%%capture\n",
        "!unzip /content/drive/MyDrive/Dataset.zip"
      ]
    },
    {
      "cell_type": "markdown",
      "metadata": {
        "id": "ADiR6jyFy-WN"
      },
      "source": [
        "#**Data Engineering**\n",
        "**Renaming all the files in the subfolder for both control and patient with subfolder names**"
      ]
    },
    {
      "cell_type": "code",
      "execution_count": null,
      "metadata": {
        "id": "58LSJTgIxAZW"
      },
      "outputs": [],
      "source": [
        "d = [\"/content/Dataset/controls/C01\",\"/content/Dataset/controls/C02\",\"/content/Dataset/controls/C03\",\"/content/Dataset/controls/C04\"]\n",
        "for i in d:\n",
        "  for path in os.listdir(i):\n",
        "      full_path = os.path.join(i, path)\n",
        "      if os.path.isfile(full_path):\n",
        "          new_path = os.path.join(i, \"C0\"+str(d.index(i)+1)+\"_\"+ path)\n",
        "          os.rename(full_path, new_path)"
      ]
    },
    {
      "cell_type": "code",
      "execution_count": null,
      "metadata": {
        "id": "MiUz2EmYzP8-"
      },
      "outputs": [],
      "source": [
        "d = [\"/content/Dataset/patients/P01\",\"/content/Dataset/patients/P02\",\"/content/Dataset/patients/P03\",\"/content/Dataset/patients/P04\",\"/content/Dataset/patients/P05\",\"/content/Dataset/patients/P06\",\"/content/Dataset/patients/P07\",\"/content/Dataset/patients/P08\",\"/content/Dataset/patients/P09\",\"/content/Dataset/patients/P10\"]\n",
        "for i in d:\n",
        "  for path in os.listdir(i):\n",
        "      full_path = os.path.join(i, path)\n",
        "      if os.path.isfile(full_path):\n",
        "          new_path = os.path.join(i, \"P0\"+str(d.index(i)+1)+\"_\" + path)\n",
        "          os.rename(full_path, new_path)"
      ]
    },
    {
      "cell_type": "markdown",
      "metadata": {
        "id": "TOH9-XvWdIVV"
      },
      "source": [
        "**Copying all the JPG images into Dataset_JPG directory and maintaing the tree structure of the directories**"
      ]
    },
    {
      "cell_type": "code",
      "execution_count": null,
      "metadata": {
        "colab": {
          "base_uri": "https://localhost:8080/",
          "height": 35
        },
        "id": "EJIQ7kirACtd",
        "outputId": "89d05d98-c27f-479b-bd5a-33a31f839815"
      },
      "outputs": [
        {
          "output_type": "execute_result",
          "data": {
            "text/plain": [
              "'/content/Dataset_JPG'"
            ],
            "application/vnd.google.colaboratory.intrinsic+json": {
              "type": "string"
            }
          },
          "metadata": {},
          "execution_count": 8
        }
      ],
      "source": [
        "shutil.copytree('/content/Dataset', '/content/Dataset_JPG' , ignore=shutil.ignore_patterns('*.ome.tiff', '*.db'))"
      ]
    },
    {
      "cell_type": "markdown",
      "metadata": {
        "id": "OPltzpYmdnL6"
      },
      "source": [
        "**Copying all the TIFF images into Dataset_TIFF directory and maintaing the tree structure of the directories**"
      ]
    },
    {
      "cell_type": "code",
      "execution_count": null,
      "metadata": {
        "colab": {
          "base_uri": "https://localhost:8080/",
          "height": 35
        },
        "id": "u8213cIldqmS",
        "outputId": "281b45a8-ae3b-4fd2-b19e-5358c5e20a85"
      },
      "outputs": [
        {
          "output_type": "execute_result",
          "data": {
            "text/plain": [
              "'/content/Dataset_TIFF'"
            ],
            "application/vnd.google.colaboratory.intrinsic+json": {
              "type": "string"
            }
          },
          "metadata": {},
          "execution_count": 9
        }
      ],
      "source": [
        "shutil.copytree('/content/Dataset', '/content/Dataset_TIFF' , ignore=shutil.ignore_patterns('*.jpg', '*.db'))"
      ]
    },
    {
      "cell_type": "markdown",
      "metadata": {
        "id": "Ppv6r6RGUlGE"
      },
      "source": [
        "#**Combining Multiple Images into single images**\n",
        "\n",
        "**Combing/stacking all the Control and pateints Images with different proteins of different Control and patients into single Image using NP Concatenate process.**"
      ]
    },
    {
      "cell_type": "code",
      "execution_count": null,
      "metadata": {
        "id": "4NKhTFhH8ueS"
      },
      "outputs": [],
      "source": [
        "def channel_merger(img_list): # img_list need to be list of images of all protein expression images of a subject \n",
        "    \n",
        "    multi_channel_img = np.zeros((*img_list[0].shape,len(img_list)), np.uint8)\n",
        "    \n",
        "    for i, img in enumerate(img_list):\n",
        "        multi_channel_img[:,:,i]= img\n",
        "        \n",
        "    return multi_channel_img"
      ]
    },
    {
      "cell_type": "markdown",
      "metadata": {
        "id": "PRL1Ow9TdrlN"
      },
      "source": [
        "**For Control**"
      ]
    },
    {
      "cell_type": "code",
      "execution_count": null,
      "metadata": {
        "id": "IzrGv_IydrLL"
      },
      "outputs": [],
      "source": [
        "from glob import glob\n",
        "import numpy as np\n",
        "from tifffile import imread,imwrite\n",
        "newpath = r'/content/TIFF_Images_Concat/Controls/' \n",
        "if not os.path.exists(newpath):\n",
        "    os.makedirs(newpath)\n",
        "for i in range(1,5):\n",
        "  X = sorted(glob('/content/Dataset_TIFF/controls/C*'+str(i)+'/*.tiff'))\n",
        "  X = list(map(imread,X))\n",
        "  multi_channel_img= channel_merger(X)\n",
        "  #multi_channel_img = np.transpose(multi_channel_img)\n",
        "  #multi_stack_image = Image.fromarray(multi_channel_img)\n",
        "  np.save(str(newpath) + 'C0'+str(i)+'_combined.npy' ,multi_channel_img)"
      ]
    },
    {
      "cell_type": "markdown",
      "metadata": {
        "id": "0vWt_A_UdtpF"
      },
      "source": [
        "**For Patient**"
      ]
    },
    {
      "cell_type": "code",
      "execution_count": null,
      "metadata": {
        "id": "E_LyRadO7QM0"
      },
      "outputs": [],
      "source": [
        "from glob import glob\n",
        "import numpy as np\n",
        "from tifffile import imread,imwrite\n",
        "newpath = r'/content/TIFF_Images_Concat/Patients/' \n",
        "if not os.path.exists(newpath):\n",
        "    os.makedirs(newpath)\n",
        "for i in range(1,11):\n",
        "  X = sorted(glob('/content/Dataset_TIFF/patients/P*'+str(i)+'/*.tiff'))\n",
        "  X = list(map(imread,X))\n",
        "  multi_channel_img= channel_merger(X)\n",
        "  #multi_channel_img = np.transpose(multi_channel_img)\n",
        "  np.save(str(newpath) + 'P0'+str(i)+'_combined.npy' ,multi_channel_img)\n"
      ]
    },
    {
      "cell_type": "markdown",
      "metadata": {
        "id": "rUljvJLckq1v"
      },
      "source": [
        "**Spliting the numpy array into multiple array using patchify function**\n",
        "\n",
        "**For control:**"
      ]
    },
    {
      "cell_type": "code",
      "execution_count": null,
      "metadata": {
        "id": "Dq12NIHFjldn"
      },
      "outputs": [],
      "source": [
        "import glob\n",
        "#Creating a new path to store all splitting jpg images\n",
        "newpath = r'/content/Concat_Split_Images/Controls' \n",
        "if not os.path.exists(newpath):\n",
        "    os.makedirs(newpath)\n",
        "my_path = \"/content/TIFF_Images_Concat/Controls\"\n",
        "files = glob.glob(my_path + '/**/*.npy', recursive=True)\n",
        "for file in files:\n",
        "  img = np.load(file)\n",
        "  patches_img = patchify(img, (512,512,10), step=256)\n",
        "  for i in range(patches_img.shape[0]):\n",
        "      for j in range(patches_img.shape[1]):\n",
        "          single_patch_img = patches_img[i, j, 0, :, :, :]\n",
        "          np.save('/content/Concat_Split_Images/Controls/' + \"C0\"+str(files.index(file)+1)+'_image_' + '_'+ str(i)+str(j)+'.npy', single_patch_img)            "
      ]
    },
    {
      "cell_type": "markdown",
      "metadata": {
        "id": "-QZSkRypkuw-"
      },
      "source": [
        "**For Patients**"
      ]
    },
    {
      "cell_type": "code",
      "execution_count": null,
      "metadata": {
        "id": "ijNHlG7ukAdc"
      },
      "outputs": [],
      "source": [
        "#Creating a new path to store all spliting jpg images\n",
        "import glob\n",
        "newpath = r'/content/Concat_Split_Images/Patients' \n",
        "if not os.path.exists(newpath):\n",
        "    os.makedirs(newpath)\n",
        "my_path = \"/content/TIFF_Images_Concat/Patients\"\n",
        "files = glob.glob(my_path + '/**/*.npy', recursive=True)\n",
        "for file in files:\n",
        "  img = np.load(file)\n",
        "  patches_img = patchify(img, (512,512,10), step=256)\n",
        "  for i in range(patches_img.shape[0]):\n",
        "      for j in range(patches_img.shape[1]):\n",
        "          single_patch_img = patches_img[i, j, 0, :, :, :]\n",
        "          np.save('/content/Concat_Split_Images/Patients/' + \"P0\"+str(files.index(file)+1)+'_image_' + '_'+ str(i)+str(j)+'.npy', single_patch_img)"
      ]
    },
    {
      "cell_type": "markdown",
      "source": [
        "**Storing the numpy files in dataframe**"
      ],
      "metadata": {
        "id": "Gn0qKVeqCXf2"
      }
    },
    {
      "cell_type": "code",
      "execution_count": null,
      "metadata": {
        "id": "LIHuR4eYlS-x"
      },
      "outputs": [],
      "source": [
        "import os\n",
        "import pandas as pd\n",
        "\n",
        "os.chdir(r'/content/Concat_Split_Images')\n",
        "\n",
        "folders = ['Controls', 'Patients']\n",
        "\n",
        "files = []\n",
        "\n",
        "for folder in folders:\n",
        "    for file in os.listdir(folder):\n",
        "        files.append([str('/content/Concat_Split_Images/')+folder+str('/')+file, folder])\n",
        "\n",
        "pd.DataFrame(files, columns=['files', 'target']).to_csv('files_and_targets_1.csv')"
      ]
    },
    {
      "cell_type": "markdown",
      "metadata": {
        "id": "gftWfzFJRQw0"
      },
      "source": [
        "**Loading the CSV file:**"
      ]
    },
    {
      "cell_type": "code",
      "execution_count": null,
      "metadata": {
        "id": "qzbdyhuKmRD_"
      },
      "outputs": [],
      "source": [
        "df=pd.read_csv('/content/Concat_Split_Images/files_and_targets_1.csv')"
      ]
    },
    {
      "cell_type": "code",
      "execution_count": null,
      "metadata": {
        "colab": {
          "base_uri": "https://localhost:8080/",
          "height": 206
        },
        "id": "PyHjWBCsJI7h",
        "outputId": "74930b45-4c9d-4bd0-bb6e-c3f5add74fe6"
      },
      "outputs": [
        {
          "output_type": "execute_result",
          "data": {
            "text/plain": [
              "   Unnamed: 0                                              files    target\n",
              "0           0  /content/Concat_Split_Images/Controls/C01_imag...  Controls\n",
              "1           1  /content/Concat_Split_Images/Controls/C01_imag...  Controls\n",
              "2           2  /content/Concat_Split_Images/Controls/C01_imag...  Controls\n",
              "3           3  /content/Concat_Split_Images/Controls/C01_imag...  Controls\n",
              "4           4  /content/Concat_Split_Images/Controls/C03_imag...  Controls"
            ],
            "text/html": [
              "\n",
              "  <div id=\"df-f0f7d3de-e4f6-4e5e-8ce3-45cee3a3bb1d\">\n",
              "    <div class=\"colab-df-container\">\n",
              "      <div>\n",
              "<style scoped>\n",
              "    .dataframe tbody tr th:only-of-type {\n",
              "        vertical-align: middle;\n",
              "    }\n",
              "\n",
              "    .dataframe tbody tr th {\n",
              "        vertical-align: top;\n",
              "    }\n",
              "\n",
              "    .dataframe thead th {\n",
              "        text-align: right;\n",
              "    }\n",
              "</style>\n",
              "<table border=\"1\" class=\"dataframe\">\n",
              "  <thead>\n",
              "    <tr style=\"text-align: right;\">\n",
              "      <th></th>\n",
              "      <th>Unnamed: 0</th>\n",
              "      <th>files</th>\n",
              "      <th>target</th>\n",
              "    </tr>\n",
              "  </thead>\n",
              "  <tbody>\n",
              "    <tr>\n",
              "      <th>0</th>\n",
              "      <td>0</td>\n",
              "      <td>/content/Concat_Split_Images/Controls/C01_imag...</td>\n",
              "      <td>Controls</td>\n",
              "    </tr>\n",
              "    <tr>\n",
              "      <th>1</th>\n",
              "      <td>1</td>\n",
              "      <td>/content/Concat_Split_Images/Controls/C01_imag...</td>\n",
              "      <td>Controls</td>\n",
              "    </tr>\n",
              "    <tr>\n",
              "      <th>2</th>\n",
              "      <td>2</td>\n",
              "      <td>/content/Concat_Split_Images/Controls/C01_imag...</td>\n",
              "      <td>Controls</td>\n",
              "    </tr>\n",
              "    <tr>\n",
              "      <th>3</th>\n",
              "      <td>3</td>\n",
              "      <td>/content/Concat_Split_Images/Controls/C01_imag...</td>\n",
              "      <td>Controls</td>\n",
              "    </tr>\n",
              "    <tr>\n",
              "      <th>4</th>\n",
              "      <td>4</td>\n",
              "      <td>/content/Concat_Split_Images/Controls/C03_imag...</td>\n",
              "      <td>Controls</td>\n",
              "    </tr>\n",
              "  </tbody>\n",
              "</table>\n",
              "</div>\n",
              "      <button class=\"colab-df-convert\" onclick=\"convertToInteractive('df-f0f7d3de-e4f6-4e5e-8ce3-45cee3a3bb1d')\"\n",
              "              title=\"Convert this dataframe to an interactive table.\"\n",
              "              style=\"display:none;\">\n",
              "        \n",
              "  <svg xmlns=\"http://www.w3.org/2000/svg\" height=\"24px\"viewBox=\"0 0 24 24\"\n",
              "       width=\"24px\">\n",
              "    <path d=\"M0 0h24v24H0V0z\" fill=\"none\"/>\n",
              "    <path d=\"M18.56 5.44l.94 2.06.94-2.06 2.06-.94-2.06-.94-.94-2.06-.94 2.06-2.06.94zm-11 1L8.5 8.5l.94-2.06 2.06-.94-2.06-.94L8.5 2.5l-.94 2.06-2.06.94zm10 10l.94 2.06.94-2.06 2.06-.94-2.06-.94-.94-2.06-.94 2.06-2.06.94z\"/><path d=\"M17.41 7.96l-1.37-1.37c-.4-.4-.92-.59-1.43-.59-.52 0-1.04.2-1.43.59L10.3 9.45l-7.72 7.72c-.78.78-.78 2.05 0 2.83L4 21.41c.39.39.9.59 1.41.59.51 0 1.02-.2 1.41-.59l7.78-7.78 2.81-2.81c.8-.78.8-2.07 0-2.86zM5.41 20L4 18.59l7.72-7.72 1.47 1.35L5.41 20z\"/>\n",
              "  </svg>\n",
              "      </button>\n",
              "      \n",
              "  <style>\n",
              "    .colab-df-container {\n",
              "      display:flex;\n",
              "      flex-wrap:wrap;\n",
              "      gap: 12px;\n",
              "    }\n",
              "\n",
              "    .colab-df-convert {\n",
              "      background-color: #E8F0FE;\n",
              "      border: none;\n",
              "      border-radius: 50%;\n",
              "      cursor: pointer;\n",
              "      display: none;\n",
              "      fill: #1967D2;\n",
              "      height: 32px;\n",
              "      padding: 0 0 0 0;\n",
              "      width: 32px;\n",
              "    }\n",
              "\n",
              "    .colab-df-convert:hover {\n",
              "      background-color: #E2EBFA;\n",
              "      box-shadow: 0px 1px 2px rgba(60, 64, 67, 0.3), 0px 1px 3px 1px rgba(60, 64, 67, 0.15);\n",
              "      fill: #174EA6;\n",
              "    }\n",
              "\n",
              "    [theme=dark] .colab-df-convert {\n",
              "      background-color: #3B4455;\n",
              "      fill: #D2E3FC;\n",
              "    }\n",
              "\n",
              "    [theme=dark] .colab-df-convert:hover {\n",
              "      background-color: #434B5C;\n",
              "      box-shadow: 0px 1px 3px 1px rgba(0, 0, 0, 0.15);\n",
              "      filter: drop-shadow(0px 1px 2px rgba(0, 0, 0, 0.3));\n",
              "      fill: #FFFFFF;\n",
              "    }\n",
              "  </style>\n",
              "\n",
              "      <script>\n",
              "        const buttonEl =\n",
              "          document.querySelector('#df-f0f7d3de-e4f6-4e5e-8ce3-45cee3a3bb1d button.colab-df-convert');\n",
              "        buttonEl.style.display =\n",
              "          google.colab.kernel.accessAllowed ? 'block' : 'none';\n",
              "\n",
              "        async function convertToInteractive(key) {\n",
              "          const element = document.querySelector('#df-f0f7d3de-e4f6-4e5e-8ce3-45cee3a3bb1d');\n",
              "          const dataTable =\n",
              "            await google.colab.kernel.invokeFunction('convertToInteractive',\n",
              "                                                     [key], {});\n",
              "          if (!dataTable) return;\n",
              "\n",
              "          const docLinkHtml = 'Like what you see? Visit the ' +\n",
              "            '<a target=\"_blank\" href=https://colab.research.google.com/notebooks/data_table.ipynb>data table notebook</a>'\n",
              "            + ' to learn more about interactive tables.';\n",
              "          element.innerHTML = '';\n",
              "          dataTable['output_type'] = 'display_data';\n",
              "          await google.colab.output.renderOutput(dataTable, element);\n",
              "          const docLink = document.createElement('div');\n",
              "          docLink.innerHTML = docLinkHtml;\n",
              "          element.appendChild(docLink);\n",
              "        }\n",
              "      </script>\n",
              "    </div>\n",
              "  </div>\n",
              "  "
            ]
          },
          "metadata": {},
          "execution_count": 17
        }
      ],
      "source": [
        "df.head()"
      ]
    },
    {
      "cell_type": "markdown",
      "metadata": {
        "id": "u1f2rVotIsbP"
      },
      "source": [
        "**Label encoding the traget variable:**"
      ]
    },
    {
      "cell_type": "code",
      "execution_count": null,
      "metadata": {
        "colab": {
          "base_uri": "https://localhost:8080/",
          "height": 423
        },
        "id": "y8VFYcixmeJs",
        "outputId": "c4c72407-f337-4549-b822-c874d030a30d"
      },
      "outputs": [
        {
          "output_type": "execute_result",
          "data": {
            "text/plain": [
              "     Unnamed: 0                                              files    target  \\\n",
              "0             0  /content/Concat_Split_Images/Controls/C01_imag...  Controls   \n",
              "1             1  /content/Concat_Split_Images/Controls/C01_imag...  Controls   \n",
              "2             2  /content/Concat_Split_Images/Controls/C01_imag...  Controls   \n",
              "3             3  /content/Concat_Split_Images/Controls/C01_imag...  Controls   \n",
              "4             4  /content/Concat_Split_Images/Controls/C03_imag...  Controls   \n",
              "..          ...                                                ...       ...   \n",
              "944         944  /content/Concat_Split_Images/Patients/P09_imag...  Patients   \n",
              "945         945  /content/Concat_Split_Images/Patients/P05_imag...  Patients   \n",
              "946         946  /content/Concat_Split_Images/Patients/P06_imag...  Patients   \n",
              "947         947  /content/Concat_Split_Images/Patients/P05_imag...  Patients   \n",
              "948         948  /content/Concat_Split_Images/Patients/P05_imag...  Patients   \n",
              "\n",
              "     category  \n",
              "0           0  \n",
              "1           0  \n",
              "2           0  \n",
              "3           0  \n",
              "4           0  \n",
              "..        ...  \n",
              "944         1  \n",
              "945         1  \n",
              "946         1  \n",
              "947         1  \n",
              "948         1  \n",
              "\n",
              "[949 rows x 4 columns]"
            ],
            "text/html": [
              "\n",
              "  <div id=\"df-c6a2aec1-5ebc-4599-8c93-87e7e426b6db\">\n",
              "    <div class=\"colab-df-container\">\n",
              "      <div>\n",
              "<style scoped>\n",
              "    .dataframe tbody tr th:only-of-type {\n",
              "        vertical-align: middle;\n",
              "    }\n",
              "\n",
              "    .dataframe tbody tr th {\n",
              "        vertical-align: top;\n",
              "    }\n",
              "\n",
              "    .dataframe thead th {\n",
              "        text-align: right;\n",
              "    }\n",
              "</style>\n",
              "<table border=\"1\" class=\"dataframe\">\n",
              "  <thead>\n",
              "    <tr style=\"text-align: right;\">\n",
              "      <th></th>\n",
              "      <th>Unnamed: 0</th>\n",
              "      <th>files</th>\n",
              "      <th>target</th>\n",
              "      <th>category</th>\n",
              "    </tr>\n",
              "  </thead>\n",
              "  <tbody>\n",
              "    <tr>\n",
              "      <th>0</th>\n",
              "      <td>0</td>\n",
              "      <td>/content/Concat_Split_Images/Controls/C01_imag...</td>\n",
              "      <td>Controls</td>\n",
              "      <td>0</td>\n",
              "    </tr>\n",
              "    <tr>\n",
              "      <th>1</th>\n",
              "      <td>1</td>\n",
              "      <td>/content/Concat_Split_Images/Controls/C01_imag...</td>\n",
              "      <td>Controls</td>\n",
              "      <td>0</td>\n",
              "    </tr>\n",
              "    <tr>\n",
              "      <th>2</th>\n",
              "      <td>2</td>\n",
              "      <td>/content/Concat_Split_Images/Controls/C01_imag...</td>\n",
              "      <td>Controls</td>\n",
              "      <td>0</td>\n",
              "    </tr>\n",
              "    <tr>\n",
              "      <th>3</th>\n",
              "      <td>3</td>\n",
              "      <td>/content/Concat_Split_Images/Controls/C01_imag...</td>\n",
              "      <td>Controls</td>\n",
              "      <td>0</td>\n",
              "    </tr>\n",
              "    <tr>\n",
              "      <th>4</th>\n",
              "      <td>4</td>\n",
              "      <td>/content/Concat_Split_Images/Controls/C03_imag...</td>\n",
              "      <td>Controls</td>\n",
              "      <td>0</td>\n",
              "    </tr>\n",
              "    <tr>\n",
              "      <th>...</th>\n",
              "      <td>...</td>\n",
              "      <td>...</td>\n",
              "      <td>...</td>\n",
              "      <td>...</td>\n",
              "    </tr>\n",
              "    <tr>\n",
              "      <th>944</th>\n",
              "      <td>944</td>\n",
              "      <td>/content/Concat_Split_Images/Patients/P09_imag...</td>\n",
              "      <td>Patients</td>\n",
              "      <td>1</td>\n",
              "    </tr>\n",
              "    <tr>\n",
              "      <th>945</th>\n",
              "      <td>945</td>\n",
              "      <td>/content/Concat_Split_Images/Patients/P05_imag...</td>\n",
              "      <td>Patients</td>\n",
              "      <td>1</td>\n",
              "    </tr>\n",
              "    <tr>\n",
              "      <th>946</th>\n",
              "      <td>946</td>\n",
              "      <td>/content/Concat_Split_Images/Patients/P06_imag...</td>\n",
              "      <td>Patients</td>\n",
              "      <td>1</td>\n",
              "    </tr>\n",
              "    <tr>\n",
              "      <th>947</th>\n",
              "      <td>947</td>\n",
              "      <td>/content/Concat_Split_Images/Patients/P05_imag...</td>\n",
              "      <td>Patients</td>\n",
              "      <td>1</td>\n",
              "    </tr>\n",
              "    <tr>\n",
              "      <th>948</th>\n",
              "      <td>948</td>\n",
              "      <td>/content/Concat_Split_Images/Patients/P05_imag...</td>\n",
              "      <td>Patients</td>\n",
              "      <td>1</td>\n",
              "    </tr>\n",
              "  </tbody>\n",
              "</table>\n",
              "<p>949 rows × 4 columns</p>\n",
              "</div>\n",
              "      <button class=\"colab-df-convert\" onclick=\"convertToInteractive('df-c6a2aec1-5ebc-4599-8c93-87e7e426b6db')\"\n",
              "              title=\"Convert this dataframe to an interactive table.\"\n",
              "              style=\"display:none;\">\n",
              "        \n",
              "  <svg xmlns=\"http://www.w3.org/2000/svg\" height=\"24px\"viewBox=\"0 0 24 24\"\n",
              "       width=\"24px\">\n",
              "    <path d=\"M0 0h24v24H0V0z\" fill=\"none\"/>\n",
              "    <path d=\"M18.56 5.44l.94 2.06.94-2.06 2.06-.94-2.06-.94-.94-2.06-.94 2.06-2.06.94zm-11 1L8.5 8.5l.94-2.06 2.06-.94-2.06-.94L8.5 2.5l-.94 2.06-2.06.94zm10 10l.94 2.06.94-2.06 2.06-.94-2.06-.94-.94-2.06-.94 2.06-2.06.94z\"/><path d=\"M17.41 7.96l-1.37-1.37c-.4-.4-.92-.59-1.43-.59-.52 0-1.04.2-1.43.59L10.3 9.45l-7.72 7.72c-.78.78-.78 2.05 0 2.83L4 21.41c.39.39.9.59 1.41.59.51 0 1.02-.2 1.41-.59l7.78-7.78 2.81-2.81c.8-.78.8-2.07 0-2.86zM5.41 20L4 18.59l7.72-7.72 1.47 1.35L5.41 20z\"/>\n",
              "  </svg>\n",
              "      </button>\n",
              "      \n",
              "  <style>\n",
              "    .colab-df-container {\n",
              "      display:flex;\n",
              "      flex-wrap:wrap;\n",
              "      gap: 12px;\n",
              "    }\n",
              "\n",
              "    .colab-df-convert {\n",
              "      background-color: #E8F0FE;\n",
              "      border: none;\n",
              "      border-radius: 50%;\n",
              "      cursor: pointer;\n",
              "      display: none;\n",
              "      fill: #1967D2;\n",
              "      height: 32px;\n",
              "      padding: 0 0 0 0;\n",
              "      width: 32px;\n",
              "    }\n",
              "\n",
              "    .colab-df-convert:hover {\n",
              "      background-color: #E2EBFA;\n",
              "      box-shadow: 0px 1px 2px rgba(60, 64, 67, 0.3), 0px 1px 3px 1px rgba(60, 64, 67, 0.15);\n",
              "      fill: #174EA6;\n",
              "    }\n",
              "\n",
              "    [theme=dark] .colab-df-convert {\n",
              "      background-color: #3B4455;\n",
              "      fill: #D2E3FC;\n",
              "    }\n",
              "\n",
              "    [theme=dark] .colab-df-convert:hover {\n",
              "      background-color: #434B5C;\n",
              "      box-shadow: 0px 1px 3px 1px rgba(0, 0, 0, 0.15);\n",
              "      filter: drop-shadow(0px 1px 2px rgba(0, 0, 0, 0.3));\n",
              "      fill: #FFFFFF;\n",
              "    }\n",
              "  </style>\n",
              "\n",
              "      <script>\n",
              "        const buttonEl =\n",
              "          document.querySelector('#df-c6a2aec1-5ebc-4599-8c93-87e7e426b6db button.colab-df-convert');\n",
              "        buttonEl.style.display =\n",
              "          google.colab.kernel.accessAllowed ? 'block' : 'none';\n",
              "\n",
              "        async function convertToInteractive(key) {\n",
              "          const element = document.querySelector('#df-c6a2aec1-5ebc-4599-8c93-87e7e426b6db');\n",
              "          const dataTable =\n",
              "            await google.colab.kernel.invokeFunction('convertToInteractive',\n",
              "                                                     [key], {});\n",
              "          if (!dataTable) return;\n",
              "\n",
              "          const docLinkHtml = 'Like what you see? Visit the ' +\n",
              "            '<a target=\"_blank\" href=https://colab.research.google.com/notebooks/data_table.ipynb>data table notebook</a>'\n",
              "            + ' to learn more about interactive tables.';\n",
              "          element.innerHTML = '';\n",
              "          dataTable['output_type'] = 'display_data';\n",
              "          await google.colab.output.renderOutput(dataTable, element);\n",
              "          const docLink = document.createElement('div');\n",
              "          docLink.innerHTML = docLinkHtml;\n",
              "          element.appendChild(docLink);\n",
              "        }\n",
              "      </script>\n",
              "    </div>\n",
              "  </div>\n",
              "  "
            ]
          },
          "metadata": {},
          "execution_count": 18
        }
      ],
      "source": [
        "from sklearn.preprocessing import LabelEncoder\n",
        "labelencoder = LabelEncoder()\n",
        "#num_classes = 2\n",
        "df['category'] = labelencoder.fit_transform(df['target'])\n",
        "df"
      ]
    },
    {
      "cell_type": "markdown",
      "metadata": {
        "id": "4SlAu0aIC00h"
      },
      "source": [
        "**Creating a column image and Stroing the files names as numpy array:**"
      ]
    },
    {
      "cell_type": "code",
      "execution_count": null,
      "metadata": {
        "id": "8lt96UaRC0N3"
      },
      "outputs": [],
      "source": [
        "df['image']=df['files'].map(lambda x: np.load(x))"
      ]
    },
    {
      "cell_type": "markdown",
      "metadata": {
        "id": "zW0YWP2GEZmH"
      },
      "source": [
        "##**Feature and Target Split**"
      ]
    },
    {
      "cell_type": "code",
      "execution_count": null,
      "metadata": {
        "id": "b4kHXUbqEelP"
      },
      "outputs": [],
      "source": [
        "features=df['image']\n",
        "target=df['category']"
      ]
    },
    {
      "cell_type": "markdown",
      "metadata": {
        "id": "m7mPS1zaFFTP"
      },
      "source": [
        "**Training, Validation and Test Split**\n",
        "\n",
        "We first split the dataset to 80% training data and 20% testing data. We then take the 80% training data and split it into 87.5% training data and 12.5% validation data, to form our 70% Training - 10% Validation - 20% Testing. Note that the split will be applied across each class individually to ensure there is enough samples from each class in each split for accurate modeling, meaning each class will be split 70:10:20 as well. This is done by setting 'stratify' in train_test_split function to our target.\n",
        "\n",
        "Training: 80% 87.5% = 70% Validation: 80% 12.5% = 10% Testing: 20%"
      ]
    },
    {
      "cell_type": "code",
      "execution_count": null,
      "metadata": {
        "id": "BffA2u2wFPed"
      },
      "outputs": [],
      "source": [
        "X_train,X_test,y_train,y_test=train_test_split(features,target,test_size=0.20,stratify=target)"
      ]
    },
    {
      "cell_type": "code",
      "execution_count": null,
      "metadata": {
        "id": "tj6qJfjeFRJX"
      },
      "outputs": [],
      "source": [
        "X_train, X_val, y_train, y_val = train_test_split(X_train, y_train, test_size=0.20, stratify=y_train)"
      ]
    },
    {
      "cell_type": "markdown",
      "metadata": {
        "id": "uHwRtn1iFukr"
      },
      "source": [
        "**Target One-Hot Encoding**\n",
        "\n",
        "Creating one-hot vectors of size (1,2) for each label\n",
        "\n"
      ]
    },
    {
      "cell_type": "code",
      "execution_count": null,
      "metadata": {
        "id": "w71wnlWOFuLZ"
      },
      "outputs": [],
      "source": [
        "from keras.utils.np_utils import to_categorical\n",
        "num_classes = 2\n",
        "y_train = to_categorical(y_train, num_classes = 2)\n",
        "y_test = to_categorical(y_test, num_classes = 2)\n",
        "y_val = to_categorical(y_val, num_classes = 2)"
      ]
    },
    {
      "cell_type": "markdown",
      "metadata": {
        "id": "M7x4-9lbQYUh"
      },
      "source": [
        "**Converting numarry into tensor**"
      ]
    },
    {
      "cell_type": "code",
      "execution_count": null,
      "metadata": {
        "id": "BBDH4uCRQWIA"
      },
      "outputs": [],
      "source": [
        "X_train_normal = np.asarray(X_train.tolist())\n",
        "X_test_normal = np.asarray(X_test.tolist())\n",
        "X_val_normal=np.asarray(X_val.tolist())"
      ]
    },
    {
      "cell_type": "code",
      "execution_count": null,
      "metadata": {
        "id": "NwS2rQrYSsTD"
      },
      "outputs": [],
      "source": [
        "input_shape=(512,512,10)\n",
        "X_train_normal=X_train_normal.reshape(X_train_normal.shape[0],*(input_shape))\n",
        "X_test_normal=X_test_normal.reshape(X_test_normal.shape[0],*(input_shape))\n",
        "X_val_normal=X_val_normal.reshape(X_val_normal.shape[0],*(input_shape))"
      ]
    },
    {
      "cell_type": "code",
      "execution_count": null,
      "metadata": {
        "colab": {
          "base_uri": "https://localhost:8080/"
        },
        "id": "kRZpt4WXSwNw",
        "outputId": "c13f489d-6885-48a3-f072-d6658866a1f9"
      },
      "outputs": [
        {
          "output_type": "execute_result",
          "data": {
            "text/plain": [
              "(512, 512, 10)"
            ]
          },
          "metadata": {},
          "execution_count": 26
        }
      ],
      "source": [
        "X_train_normal[0].shape"
      ]
    },
    {
      "cell_type": "markdown",
      "metadata": {
        "id": "r5MFz-3IWAgh"
      },
      "source": [
        "**Converting the numpy array into Tiff Images.**"
      ]
    },
    {
      "cell_type": "markdown",
      "metadata": {
        "id": "-yWvNd5DXu1y"
      },
      "source": [
        "**For Controls**"
      ]
    },
    {
      "cell_type": "code",
      "execution_count": null,
      "metadata": {
        "id": "X9y_z4XsV_-E"
      },
      "outputs": [],
      "source": [
        "newpath = r'/content/Concat_Split_Images_Convert_TIFF/Controls' \n",
        "if not os.path.exists(newpath):\n",
        "    os.makedirs(newpath)\n",
        "my_path = \"/content/Concat_Split_Images/Controls/\"\n",
        "files = glob.glob(my_path + '/**/*.npy', recursive=True)\n",
        "for file in files:\n",
        "  img=np.transpose(np.load(file))\n",
        "  imwrite('/content/Concat_Split_Images_Convert_TIFF/Controls/' + \"C0\"+str(file[38:57])+'_image_'+'.tiff',img)"
      ]
    },
    {
      "cell_type": "markdown",
      "metadata": {
        "id": "irtX73A1XxAZ"
      },
      "source": [
        "**For Patients**"
      ]
    },
    {
      "cell_type": "code",
      "execution_count": null,
      "metadata": {
        "id": "PmG1k5YUXrx1"
      },
      "outputs": [],
      "source": [
        "newpath = r'/content/Concat_Split_Images_Convert_TIFF/Patients' \n",
        "if not os.path.exists(newpath):\n",
        "    os.makedirs(newpath)\n",
        "files = glob.glob(my_path + '/**/*.npy', recursive=True)\n",
        "my_path = \"/content/Concat_Split_Images/Patients/\"\n",
        "for file in files:\n",
        "  img=np.transpose(np.load(file))\n",
        "  #print(str(file[38:57]))\n",
        "  imwrite('/content/Concat_Split_Images_Convert_TIFF/Patients/' + \"P0\"+str(file[38:57])+'_image_'+'.tiff',img)"
      ]
    },
    {
      "cell_type": "markdown",
      "metadata": {
        "id": "-RWamI6s8OQj"
      },
      "source": [
        "#**Building the model**\n",
        "**Transfer Learning Using VGG16**"
      ]
    },
    {
      "cell_type": "code",
      "execution_count": null,
      "metadata": {
        "id": "WXN1GIFH67hU"
      },
      "outputs": [],
      "source": [
        "from tensorflow.keras.applications.vgg19 import VGG19\n",
        "import numpy as np\n",
        "from tensorflow.keras.models import Model\n",
        "from tensorflow.keras.layers import Dropout\n",
        "from keras.backend import dropout\n",
        "from keras.models import Sequential\n",
        "from keras.layers import Dense, Conv2D, MaxPool2D , Flatten"
      ]
    },
    {
      "cell_type": "code",
      "execution_count": null,
      "metadata": {
        "colab": {
          "base_uri": "https://localhost:8080/"
        },
        "id": "mAwVdYYX6-9z",
        "outputId": "d32eb286-57fc-4c1c-cdf0-390d8b84c94f"
      },
      "outputs": [
        {
          "output_type": "stream",
          "name": "stdout",
          "text": [
            "Downloading data from https://storage.googleapis.com/tensorflow/keras-applications/vgg19/vgg19_weights_tf_dim_ordering_tf_kernels_notop.h5\n",
            "80142336/80134624 [==============================] - 0s 0us/step\n",
            "80150528/80134624 [==============================] - 0s 0us/step\n",
            "Model: \"vgg19\"\n",
            "_________________________________________________________________\n",
            " Layer (type)                Output Shape              Param #   \n",
            "=================================================================\n",
            " input_1 (InputLayer)        [(None, None, None, 3)]   0         \n",
            "                                                                 \n",
            " block1_conv1 (Conv2D)       (None, None, None, 64)    1792      \n",
            "                                                                 \n",
            " block1_conv2 (Conv2D)       (None, None, None, 64)    36928     \n",
            "                                                                 \n",
            " block1_pool (MaxPooling2D)  (None, None, None, 64)    0         \n",
            "                                                                 \n",
            " block2_conv1 (Conv2D)       (None, None, None, 128)   73856     \n",
            "                                                                 \n",
            " block2_conv2 (Conv2D)       (None, None, None, 128)   147584    \n",
            "                                                                 \n",
            " block2_pool (MaxPooling2D)  (None, None, None, 128)   0         \n",
            "                                                                 \n",
            " block3_conv1 (Conv2D)       (None, None, None, 256)   295168    \n",
            "                                                                 \n",
            " block3_conv2 (Conv2D)       (None, None, None, 256)   590080    \n",
            "                                                                 \n",
            " block3_conv3 (Conv2D)       (None, None, None, 256)   590080    \n",
            "                                                                 \n",
            " block3_conv4 (Conv2D)       (None, None, None, 256)   590080    \n",
            "                                                                 \n",
            " block3_pool (MaxPooling2D)  (None, None, None, 256)   0         \n",
            "                                                                 \n",
            " block4_conv1 (Conv2D)       (None, None, None, 512)   1180160   \n",
            "                                                                 \n",
            " block4_conv2 (Conv2D)       (None, None, None, 512)   2359808   \n",
            "                                                                 \n",
            " block4_conv3 (Conv2D)       (None, None, None, 512)   2359808   \n",
            "                                                                 \n",
            " block4_conv4 (Conv2D)       (None, None, None, 512)   2359808   \n",
            "                                                                 \n",
            " block4_pool (MaxPooling2D)  (None, None, None, 512)   0         \n",
            "                                                                 \n",
            " block5_conv1 (Conv2D)       (None, None, None, 512)   2359808   \n",
            "                                                                 \n",
            " block5_conv2 (Conv2D)       (None, None, None, 512)   2359808   \n",
            "                                                                 \n",
            " block5_conv3 (Conv2D)       (None, None, None, 512)   2359808   \n",
            "                                                                 \n",
            " block5_conv4 (Conv2D)       (None, None, None, 512)   2359808   \n",
            "                                                                 \n",
            " block5_pool (MaxPooling2D)  (None, None, None, 512)   0         \n",
            "                                                                 \n",
            "=================================================================\n",
            "Total params: 20,024,384\n",
            "Trainable params: 20,024,384\n",
            "Non-trainable params: 0\n",
            "_________________________________________________________________\n",
            "None\n"
          ]
        }
      ],
      "source": [
        "#Import vgg model  \n",
        "vgg_model = VGG19(include_top=False, weights='imagenet',classes=2)\n",
        "print(vgg_model.summary())"
      ]
    },
    {
      "cell_type": "code",
      "execution_count": null,
      "metadata": {
        "id": "Iv68BkvX7Bcs"
      },
      "outputs": [],
      "source": [
        "#Get the dictionary of config for vgg16\n",
        "vgg_config = vgg_model.get_config()"
      ]
    },
    {
      "cell_type": "code",
      "execution_count": null,
      "metadata": {
        "id": "EFst4JJk7FWk"
      },
      "outputs": [],
      "source": [
        "# Change the input shape to new desired shape\n",
        "h, w, c = 512, 512, 10\n",
        "vgg_config[\"layers\"][0][\"config\"][\"batch_input_shape\"] = (None, h, w, c)"
      ]
    },
    {
      "cell_type": "code",
      "execution_count": null,
      "metadata": {
        "colab": {
          "base_uri": "https://localhost:8080/"
        },
        "id": "6xVrnRhh7HhC",
        "outputId": "3d7f6fdb-0898-42ae-e8a4-21aa1500a0ea"
      },
      "outputs": [
        {
          "output_type": "stream",
          "name": "stdout",
          "text": [
            "Model: \"vgg19\"\n",
            "_________________________________________________________________\n",
            " Layer (type)                Output Shape              Param #   \n",
            "=================================================================\n",
            " input_1 (InputLayer)        [(None, 512, 512, 10)]    0         \n",
            "                                                                 \n",
            " block1_conv1 (Conv2D)       (None, 512, 512, 64)      5824      \n",
            "                                                                 \n",
            " block1_conv2 (Conv2D)       (None, 512, 512, 64)      36928     \n",
            "                                                                 \n",
            " block1_pool (MaxPooling2D)  (None, 256, 256, 64)      0         \n",
            "                                                                 \n",
            " block2_conv1 (Conv2D)       (None, 256, 256, 128)     73856     \n",
            "                                                                 \n",
            " block2_conv2 (Conv2D)       (None, 256, 256, 128)     147584    \n",
            "                                                                 \n",
            " block2_pool (MaxPooling2D)  (None, 128, 128, 128)     0         \n",
            "                                                                 \n",
            " block3_conv1 (Conv2D)       (None, 128, 128, 256)     295168    \n",
            "                                                                 \n",
            " block3_conv2 (Conv2D)       (None, 128, 128, 256)     590080    \n",
            "                                                                 \n",
            " block3_conv3 (Conv2D)       (None, 128, 128, 256)     590080    \n",
            "                                                                 \n",
            " block3_conv4 (Conv2D)       (None, 128, 128, 256)     590080    \n",
            "                                                                 \n",
            " block3_pool (MaxPooling2D)  (None, 64, 64, 256)       0         \n",
            "                                                                 \n",
            " block4_conv1 (Conv2D)       (None, 64, 64, 512)       1180160   \n",
            "                                                                 \n",
            " block4_conv2 (Conv2D)       (None, 64, 64, 512)       2359808   \n",
            "                                                                 \n",
            " block4_conv3 (Conv2D)       (None, 64, 64, 512)       2359808   \n",
            "                                                                 \n",
            " block4_conv4 (Conv2D)       (None, 64, 64, 512)       2359808   \n",
            "                                                                 \n",
            " block4_pool (MaxPooling2D)  (None, 32, 32, 512)       0         \n",
            "                                                                 \n",
            " block5_conv1 (Conv2D)       (None, 32, 32, 512)       2359808   \n",
            "                                                                 \n",
            " block5_conv2 (Conv2D)       (None, 32, 32, 512)       2359808   \n",
            "                                                                 \n",
            " block5_conv3 (Conv2D)       (None, 32, 32, 512)       2359808   \n",
            "                                                                 \n",
            " block5_conv4 (Conv2D)       (None, 32, 32, 512)       2359808   \n",
            "                                                                 \n",
            " block5_pool (MaxPooling2D)  (None, 16, 16, 512)       0         \n",
            "                                                                 \n",
            "=================================================================\n",
            "Total params: 20,028,416\n",
            "Trainable params: 20,028,416\n",
            "Non-trainable params: 0\n",
            "_________________________________________________________________\n",
            "None\n"
          ]
        }
      ],
      "source": [
        "#Create new model with the updated configuration\n",
        "vgg_updated = Model.from_config(vgg_config)\n",
        "print(vgg_updated.summary())"
      ]
    },
    {
      "cell_type": "code",
      "execution_count": null,
      "metadata": {
        "id": "Q0VqxQb-7KJp"
      },
      "outputs": [],
      "source": [
        "# Check Weights of first conv layer in the original model...\n",
        "orig_model_conv1_block1_wts = vgg_model.layers[1].get_weights()[0]"
      ]
    },
    {
      "cell_type": "code",
      "execution_count": null,
      "metadata": {
        "colab": {
          "base_uri": "https://localhost:8080/"
        },
        "id": "cgPNs3JM7N6a",
        "outputId": "c8f6c520-69f5-43dd-bd4b-ab0b8ca11752"
      },
      "outputs": [
        {
          "output_type": "stream",
          "name": "stdout",
          "text": [
            "[[-0.07808008 -0.09404983 -0.0483716 ]\n",
            " [ 0.07450067 -0.08038944  0.08190309]\n",
            " [-0.03795915  0.07046209  0.00979748]]\n",
            "[[ 0.0717217   0.03269773  0.00335442]\n",
            " [ 0.08041336  0.00912293 -0.07186651]\n",
            " [ 0.03642631 -0.06121752  0.00536866]]\n",
            "[[ 0.0546278  -0.01511449 -0.03343811]\n",
            " [-0.01478545 -0.04940978 -0.05083649]\n",
            " [-0.03440591  0.06207053  0.07296149]]\n",
            "[[ 0.09145886  0.03416637  0.07639664]\n",
            " [-0.05906711 -0.04924381  0.07959475]\n",
            " [-0.09361158 -0.05055846 -0.02888831]]\n",
            "[[-0.072418   -0.05209649 -0.05617737]\n",
            " [-0.00091574 -0.0380852  -0.05503885]\n",
            " [-0.08491746  0.04590256 -0.00684037]]\n"
          ]
        }
      ],
      "source": [
        "# Check Weights of first conv layer in the new model...\n",
        "new_model_conv1_block1_wts = vgg_updated.layers[1].get_weights()[0]\n",
        "print(new_model_conv1_block1_wts[:,:,0,0])\n",
        "print(new_model_conv1_block1_wts[:,:,1,0])\n",
        "print(new_model_conv1_block1_wts[:,:,2,0])\n",
        "print(new_model_conv1_block1_wts[:,:,3,0])\n",
        "print(new_model_conv1_block1_wts[:,:,4,0])"
      ]
    },
    {
      "cell_type": "code",
      "execution_count": null,
      "metadata": {
        "id": "lCID55PU7Q_-"
      },
      "outputs": [],
      "source": [
        "# Function that calculates average of weights along the channel axis and then\n",
        "#copies it over n number of times. n being the new channels that need to be concatenated with the original channels. \n",
        "def avg_and_copy_wts(weights, num_channels_to_fill):  #num_channels_to_fill are the extra channels for which we need to fill weights\n",
        "  average_weights = np.mean(weights, axis=-2).reshape(weights[:,:,-1:,:].shape)  #Find mean along the channel axis (second to last axis)\n",
        "  wts_copied_to_mult_channels = np.tile(average_weights, (num_channels_to_fill, 1)) #Repeat (copy) the array multiple times\n",
        "  return(wts_copied_to_mult_channels)"
      ]
    },
    {
      "cell_type": "code",
      "execution_count": null,
      "metadata": {
        "id": "fnBv6bg57TX2"
      },
      "outputs": [],
      "source": [
        "#Get the configuration for the updated model and extract layer names. \n",
        " \n",
        "vgg_updated_config = vgg_updated.get_config()\n",
        "vgg_updated_layer_names = [vgg_updated_config['layers'][x]['name'] for x in range(len(vgg_updated_config['layers']))]"
      ]
    },
    {
      "cell_type": "code",
      "execution_count": null,
      "metadata": {
        "id": "TM5iQxyA7WJ2"
      },
      "outputs": [],
      "source": [
        "first_conv_name = vgg_updated_layer_names[1]"
      ]
    },
    {
      "cell_type": "code",
      "execution_count": null,
      "metadata": {
        "id": "ifS6c-Bq7ZKL"
      },
      "outputs": [],
      "source": [
        "#Update weights for all layers. And for the first conv layer, copy the first\n",
        "#three layer weights and fill others with the average of all three. \n",
        "for layer in vgg_model.layers:\n",
        "    if layer.name in vgg_updated_layer_names:\n",
        "     \n",
        "      if layer.get_weights() != []:  #All convolutional layers and layers with weights (no input layer or any pool layers)\n",
        "        target_layer = vgg_updated.get_layer(layer.name)\n",
        "    \n",
        "        if layer.name in first_conv_name:    #For the first convolutionl layer\n",
        "          weights = layer.get_weights()[0]\n",
        "          biases  = layer.get_weights()[1]\n",
        "    \n",
        "          weights_extra_channels = np.concatenate((weights,   #Keep the first 3 channel weights as-is and copy the weights for additional channels.\n",
        "                                                  avg_and_copy_wts(weights, c - 3)),  # - 3 as we already have weights for the 3 existing channels in our model. \n",
        "                                                  axis=-2)\n",
        "                                                  \n",
        "          target_layer.set_weights([weights_extra_channels, biases])  #Now set weights for the first conv. layer\n",
        "          target_layer.trainable = False   #You can make this trainable if you want. \n",
        "    \n",
        "        else:\n",
        "          target_layer.set_weights(layer.get_weights())   #Set weights to all other layers. \n",
        "          target_layer.trainable = False  #You can make this trainable if you want."
      ]
    },
    {
      "cell_type": "code",
      "execution_count": null,
      "metadata": {
        "colab": {
          "base_uri": "https://localhost:8080/"
        },
        "id": "5vsEL9Sq7cM6",
        "outputId": "0d608bd1-8365-41be-bc3f-9d7602d2b2b3"
      },
      "outputs": [
        {
          "output_type": "stream",
          "name": "stdout",
          "text": [
            "[[ 0.34119523  0.33999205 -0.04484424]\n",
            " [ 0.23215917  0.08978214 -0.30331427]\n",
            " [-0.07260918 -0.246675   -0.33683276]]\n",
            "[[ 0.46418372  0.41810837 -0.04806903]\n",
            " [ 0.30511212  0.10385381 -0.37314063]\n",
            " [-0.07646758 -0.3107071  -0.46453714]]\n",
            "[[ 0.39416704  0.37740308 -0.04594866]\n",
            " [ 0.2671299   0.09986369 -0.34100872]\n",
            " [-0.07573577 -0.2803425  -0.41602272]]\n",
            "[[ 0.39984867  0.37850118 -0.04628731]\n",
            " [ 0.26813373  0.09783322 -0.33915457]\n",
            " [-0.07493751 -0.27924153 -0.40579757]]\n",
            "[[ 0.39984867  0.37850118 -0.04628731]\n",
            " [ 0.26813373  0.09783322 -0.33915457]\n",
            " [-0.07493751 -0.27924153 -0.40579757]]\n"
          ]
        }
      ],
      "source": [
        "# Check Weights of first conv layer in the new model...\n",
        "#Compare against the original model weights\n",
        "new_model_conv1_block1_wts_updated = vgg_updated.layers[1].get_weights()[0]\n",
        "print(new_model_conv1_block1_wts_updated[:,:,0,0])\n",
        "print(new_model_conv1_block1_wts_updated[:,:,1,0])\n",
        "print(new_model_conv1_block1_wts_updated[:,:,2,0])\n",
        "print(new_model_conv1_block1_wts_updated[:,:,5,0])\n",
        "print(new_model_conv1_block1_wts_updated[:,:,8,0])"
      ]
    },
    {
      "cell_type": "code",
      "execution_count": null,
      "metadata": {
        "id": "HPJg5Ynz8Ncl"
      },
      "outputs": [],
      "source": [
        "#instantiate a base model with pre-trained weights.\n",
        "base_model=vgg_updated"
      ]
    },
    {
      "cell_type": "code",
      "execution_count": null,
      "metadata": {
        "id": "6mYTgLzv8UqE"
      },
      "outputs": [],
      "source": [
        "#freeze the base model\n",
        "base_model.trainable = False"
      ]
    },
    {
      "cell_type": "code",
      "execution_count": null,
      "metadata": {
        "id": "zAPa1Sq7xNu_"
      },
      "outputs": [],
      "source": [
        "#Create new model on top\n",
        "model=Sequential()\n",
        "model.add(base_model)\n",
        "model.add(Dense(512))\n",
        "model.add(Activation('relu'))\n",
        "model.add(Dense(256))\n",
        "model.add(Activation('relu'))\n",
        "model.add(Dropout(0.5))\n",
        "model.add(Flatten())\n",
        "model.add(Dense(128))\n",
        "model.add(Activation('relu'))\n",
        "model.add(Dense(2, activation='softmax'))"
      ]
    },
    {
      "cell_type": "code",
      "execution_count": null,
      "metadata": {
        "colab": {
          "base_uri": "https://localhost:8080/"
        },
        "id": "HDWB6t3n8fz-",
        "outputId": "a3e399f4-6a75-4690-ecfb-970eac2e5e0c"
      },
      "outputs": [
        {
          "output_type": "stream",
          "name": "stdout",
          "text": [
            "Model compilation completed.\n"
          ]
        }
      ],
      "source": [
        "optim=Adam(learning_rate=0.001)\n",
        "model.compile(loss='binary_crossentropy',metrics=['accuracy'],optimizer=optim)\n",
        "print(\"Model compilation completed.\")"
      ]
    },
    {
      "cell_type": "code",
      "execution_count": null,
      "metadata": {
        "id": "bjdChHRk8idV"
      },
      "outputs": [],
      "source": [
        "callbacks = [EarlyStopping(monitor='val_accuracy',patience=30)]"
      ]
    },
    {
      "cell_type": "code",
      "source": [
        "history = model.fit(X_train_normal,y_train,batch_size=2,\n",
        "                                       epochs=100,\n",
        "                                       validation_data=(X_val_normal,y_val),callbacks=callbacks)"
      ],
      "metadata": {
        "colab": {
          "base_uri": "https://localhost:8080/"
        },
        "id": "OJtDLmh0rqJS",
        "outputId": "a20bb531-dd33-455a-e983-e11dec0d0722"
      },
      "execution_count": null,
      "outputs": [
        {
          "output_type": "stream",
          "name": "stdout",
          "text": [
            "Epoch 1/100\n",
            "304/304 [==============================] - 53s 121ms/step - loss: 0.4739 - accuracy: 0.8830 - val_loss: 0.1512 - val_accuracy: 0.9539\n",
            "Epoch 2/100\n",
            "304/304 [==============================] - 36s 117ms/step - loss: 0.2436 - accuracy: 0.9473 - val_loss: 0.3250 - val_accuracy: 0.9539\n",
            "Epoch 3/100\n",
            "304/304 [==============================] - 32s 105ms/step - loss: 0.1970 - accuracy: 0.9473 - val_loss: 0.2381 - val_accuracy: 0.9474\n",
            "Epoch 4/100\n",
            "304/304 [==============================] - 36s 119ms/step - loss: 0.1009 - accuracy: 0.9736 - val_loss: 0.0683 - val_accuracy: 0.9737\n",
            "Epoch 5/100\n",
            "304/304 [==============================] - 37s 120ms/step - loss: 0.0208 - accuracy: 0.9901 - val_loss: 0.6065 - val_accuracy: 0.9211\n",
            "Epoch 6/100\n",
            "304/304 [==============================] - 37s 121ms/step - loss: 0.1081 - accuracy: 0.9802 - val_loss: 0.0502 - val_accuracy: 0.9737\n",
            "Epoch 7/100\n",
            "304/304 [==============================] - 33s 108ms/step - loss: 0.0383 - accuracy: 0.9885 - val_loss: 0.0544 - val_accuracy: 0.9605\n",
            "Epoch 8/100\n",
            "304/304 [==============================] - 33s 108ms/step - loss: 0.0186 - accuracy: 0.9951 - val_loss: 0.0687 - val_accuracy: 0.9671\n",
            "Epoch 9/100\n",
            "304/304 [==============================] - 33s 109ms/step - loss: 0.1997 - accuracy: 0.9918 - val_loss: 0.1074 - val_accuracy: 0.9671\n",
            "Epoch 10/100\n",
            "304/304 [==============================] - 37s 123ms/step - loss: 0.1023 - accuracy: 0.9786 - val_loss: 0.0694 - val_accuracy: 0.9539\n",
            "Epoch 11/100\n",
            "304/304 [==============================] - 37s 123ms/step - loss: 0.0148 - accuracy: 0.9967 - val_loss: 0.0818 - val_accuracy: 0.9539\n",
            "Epoch 12/100\n",
            "304/304 [==============================] - 37s 122ms/step - loss: 0.0088 - accuracy: 0.9951 - val_loss: 0.2471 - val_accuracy: 0.9539\n",
            "Epoch 13/100\n",
            "304/304 [==============================] - 37s 122ms/step - loss: 0.0357 - accuracy: 0.9885 - val_loss: 0.2882 - val_accuracy: 0.9342\n",
            "Epoch 14/100\n",
            "304/304 [==============================] - 37s 122ms/step - loss: 0.2338 - accuracy: 0.9671 - val_loss: 0.1372 - val_accuracy: 0.9737\n",
            "Epoch 15/100\n",
            "304/304 [==============================] - 37s 122ms/step - loss: 0.0449 - accuracy: 0.9868 - val_loss: 0.1307 - val_accuracy: 0.9605\n",
            "Epoch 16/100\n",
            "304/304 [==============================] - 37s 122ms/step - loss: 0.0202 - accuracy: 0.9967 - val_loss: 0.0880 - val_accuracy: 0.9803\n",
            "Epoch 17/100\n",
            "304/304 [==============================] - 37s 123ms/step - loss: 0.0207 - accuracy: 0.9951 - val_loss: 0.0740 - val_accuracy: 0.9803\n",
            "Epoch 18/100\n",
            "304/304 [==============================] - 33s 110ms/step - loss: 0.0509 - accuracy: 0.9967 - val_loss: 0.1019 - val_accuracy: 0.9868\n",
            "Epoch 19/100\n",
            "304/304 [==============================] - 37s 123ms/step - loss: 0.0050 - accuracy: 0.9984 - val_loss: 0.1550 - val_accuracy: 0.9803\n",
            "Epoch 20/100\n",
            "304/304 [==============================] - 34s 110ms/step - loss: 0.0035 - accuracy: 0.9984 - val_loss: 0.1870 - val_accuracy: 0.9737\n",
            "Epoch 21/100\n",
            "304/304 [==============================] - 34s 111ms/step - loss: 0.0089 - accuracy: 0.9984 - val_loss: 0.2864 - val_accuracy: 0.9605\n",
            "Epoch 22/100\n",
            "304/304 [==============================] - 34s 111ms/step - loss: 7.6782e-04 - accuracy: 1.0000 - val_loss: 0.2963 - val_accuracy: 0.9671\n",
            "Epoch 23/100\n",
            "304/304 [==============================] - 37s 123ms/step - loss: 9.4689e-06 - accuracy: 1.0000 - val_loss: 0.3350 - val_accuracy: 0.9737\n",
            "Epoch 24/100\n",
            "304/304 [==============================] - 37s 123ms/step - loss: 2.5068e-06 - accuracy: 1.0000 - val_loss: 0.3409 - val_accuracy: 0.9737\n",
            "Epoch 25/100\n",
            "304/304 [==============================] - 33s 110ms/step - loss: 1.8398e-06 - accuracy: 1.0000 - val_loss: 0.3561 - val_accuracy: 0.9737\n",
            "Epoch 26/100\n",
            "304/304 [==============================] - 37s 123ms/step - loss: 1.7117e-06 - accuracy: 1.0000 - val_loss: 0.3500 - val_accuracy: 0.9671\n",
            "Epoch 27/100\n",
            "304/304 [==============================] - 34s 110ms/step - loss: 7.3008e-07 - accuracy: 1.0000 - val_loss: 0.3631 - val_accuracy: 0.9737\n",
            "Epoch 28/100\n",
            "304/304 [==============================] - 37s 123ms/step - loss: 5.2612e-07 - accuracy: 1.0000 - val_loss: 0.3724 - val_accuracy: 0.9737\n",
            "Epoch 29/100\n",
            "304/304 [==============================] - 34s 110ms/step - loss: 4.9992e-07 - accuracy: 1.0000 - val_loss: 0.3777 - val_accuracy: 0.9737\n",
            "Epoch 30/100\n",
            "304/304 [==============================] - 34s 111ms/step - loss: 0.0017 - accuracy: 0.9984 - val_loss: 0.9345 - val_accuracy: 0.9605\n",
            "Epoch 31/100\n",
            "304/304 [==============================] - 34s 111ms/step - loss: 0.3579 - accuracy: 0.9769 - val_loss: 1.6833 - val_accuracy: 0.8553\n",
            "Epoch 32/100\n",
            "304/304 [==============================] - 37s 123ms/step - loss: 0.0410 - accuracy: 0.9934 - val_loss: 0.4589 - val_accuracy: 0.9671\n",
            "Epoch 33/100\n",
            "304/304 [==============================] - 37s 123ms/step - loss: 0.0038 - accuracy: 1.0000 - val_loss: 0.5774 - val_accuracy: 0.9671\n",
            "Epoch 34/100\n",
            "304/304 [==============================] - 37s 123ms/step - loss: 0.2478 - accuracy: 0.9802 - val_loss: 1.8855 - val_accuracy: 0.9408\n",
            "Epoch 35/100\n",
            "304/304 [==============================] - 37s 123ms/step - loss: 0.4586 - accuracy: 0.9835 - val_loss: 0.1286 - val_accuracy: 0.9737\n",
            "Epoch 36/100\n",
            "304/304 [==============================] - 37s 123ms/step - loss: 0.0037 - accuracy: 0.9984 - val_loss: 0.1578 - val_accuracy: 0.9737\n",
            "Epoch 37/100\n",
            "304/304 [==============================] - 33s 109ms/step - loss: 0.0104 - accuracy: 1.0000 - val_loss: 0.7072 - val_accuracy: 0.9408\n",
            "Epoch 38/100\n",
            "304/304 [==============================] - 33s 110ms/step - loss: 0.0059 - accuracy: 0.9984 - val_loss: 0.2712 - val_accuracy: 0.9737\n",
            "Epoch 39/100\n",
            "304/304 [==============================] - 37s 123ms/step - loss: 1.6627e-04 - accuracy: 1.0000 - val_loss: 0.2519 - val_accuracy: 0.9671\n",
            "Epoch 40/100\n",
            "304/304 [==============================] - 34s 110ms/step - loss: 2.4114e-06 - accuracy: 1.0000 - val_loss: 0.2743 - val_accuracy: 0.9737\n",
            "Epoch 41/100\n",
            "304/304 [==============================] - 37s 123ms/step - loss: 1.3826e-06 - accuracy: 1.0000 - val_loss: 0.2876 - val_accuracy: 0.9737\n",
            "Epoch 42/100\n",
            "304/304 [==============================] - 37s 123ms/step - loss: 8.1371e-07 - accuracy: 1.0000 - val_loss: 0.3162 - val_accuracy: 0.9737\n",
            "Epoch 43/100\n",
            "304/304 [==============================] - 34s 110ms/step - loss: 1.7981e-07 - accuracy: 1.0000 - val_loss: 0.3233 - val_accuracy: 0.9737\n",
            "Epoch 44/100\n",
            "304/304 [==============================] - 37s 123ms/step - loss: 1.5413e-07 - accuracy: 1.0000 - val_loss: 0.3317 - val_accuracy: 0.9737\n",
            "Epoch 45/100\n",
            "304/304 [==============================] - 37s 123ms/step - loss: 1.6620e-07 - accuracy: 1.0000 - val_loss: 0.3409 - val_accuracy: 0.9737\n",
            "Epoch 46/100\n",
            "304/304 [==============================] - 37s 123ms/step - loss: 1.1750e-07 - accuracy: 1.0000 - val_loss: 0.3502 - val_accuracy: 0.9737\n",
            "Epoch 47/100\n",
            "304/304 [==============================] - 37s 122ms/step - loss: 6.1862e-08 - accuracy: 1.0000 - val_loss: 0.3565 - val_accuracy: 0.9737\n",
            "Epoch 48/100\n",
            "304/304 [==============================] - 37s 123ms/step - loss: 7.4544e-08 - accuracy: 1.0000 - val_loss: 0.3589 - val_accuracy: 0.9737\n"
          ]
        }
      ]
    },
    {
      "cell_type": "code",
      "execution_count": null,
      "metadata": {
        "colab": {
          "base_uri": "https://localhost:8080/",
          "height": 404
        },
        "id": "pHVr5VKR8uUb",
        "outputId": "993e6059-8709-499a-e349-7c9b002f3fc6"
      },
      "outputs": [
        {
          "output_type": "display_data",
          "data": {
            "text/plain": [
              "<Figure size 1080x432 with 2 Axes>"
            ],
            "image/png": "[encoded data removed]"
          },
          "metadata": {
            "needs_background": "light"
          }
        }
      ],
      "source": [
        "# Plot training & validation accuracy values\n",
        "plt.figure(figsize=(15, 6))\n",
        "plt.subplot(121)\n",
        "plt.plot(history.history['accuracy'])\n",
        "plt.plot(history.history['val_accuracy'])\n",
        "plt.title('VGG19 multi-channel Protein Images training accuracy vs validation accuracy')\n",
        "plt.ylabel('Accuracy')\n",
        "plt.xlabel('Epoch')\n",
        "plt.ylim((0.75,1.005))\n",
        "plt.legend(['Train', 'validation'], loc='lower right')\n",
        "\n",
        "\n",
        "# Plot training & validation loss values\n",
        "plt.subplot(122)\n",
        "plt.plot(history.history['loss'])\n",
        "plt.plot(history.history['val_loss'])\n",
        "plt.title('VGG19 multi-channel Protein Images training loss vs validation loss')\n",
        "plt.ylabel('Loss')\n",
        "plt.xlabel('Epoch')\n",
        "plt.ylim((-0.10,5))\n",
        "plt.legend(['Train', 'Validation'], loc='upper right')\n",
        "plt.show()"
      ]
    },
    {
      "cell_type": "markdown",
      "source": [
        "##**Predictions**"
      ],
      "metadata": {
        "id": "z3waaf46P95m"
      }
    },
    {
      "cell_type": "code",
      "execution_count": null,
      "metadata": {
        "id": "jXTezthuKTIV"
      },
      "outputs": [],
      "source": [
        "# Generate generalization metrics\n",
        "score = model.evaluate(X_test_normal,y_test,verbose=0)\n",
        "print(f'Test loss: {score[0]} / Test accuracy: {score[1]}')"
      ]
    },
    {
      "cell_type": "markdown",
      "metadata": {
        "id": "bhEL2ws0-9ee"
      },
      "source": [
        "**Saving the model**\n",
        "\n",
        "The saved full model file includes:\n",
        "\n",
        "The model's architecture,The model's weight values"
      ]
    },
    {
      "cell_type": "code",
      "execution_count": null,
      "metadata": {
        "colab": {
          "base_uri": "https://localhost:8080/"
        },
        "id": "qaZDxaSfr2Y5",
        "outputId": "8a5c81e7-7750-45ff-ca23-fd36061711bd"
      },
      "outputs": [
        {
          "output_type": "stream",
          "name": "stdout",
          "text": [
            "saved the model\n"
          ]
        }
      ],
      "source": [
        "model.save('/content/drive/MyDrive/Saliency_Maps_Stacked_Images/VGG19_Concat_Proteins.h5')\n",
        "print(\"saved the model\")"
      ]
    },
    {
      "cell_type": "markdown",
      "metadata": {
        "id": "ya0lBe2Cr-V6"
      },
      "source": [
        "**Loading the model**"
      ]
    },
    {
      "cell_type": "code",
      "execution_count": null,
      "metadata": {
        "id": "TIZQUHM2rvch"
      },
      "outputs": [],
      "source": [
        "model_loaded = load_model(\"/content/drive/MyDrive/Saliency_Maps_Stacked_Images/VGG19_Concat_Proteins.h5\")"
      ]
    },
    {
      "cell_type": "markdown",
      "source": [
        "#**Predictions**"
      ],
      "metadata": {
        "id": "HfS7eCU9KX0z"
      }
    },
    {
      "cell_type": "code",
      "source": [
        "from sklearn.metrics import confusion_matrix\n",
        "from sklearn.metrics import precision_score, recall_score, f1_score, accuracy_score\n",
        "import matplotlib.pyplot as plt\n",
        "import math\n",
        "y_true_classes = np.argmax(y_test, axis = 1)\n",
        "#print(y_true_classes)\n",
        "y_pred = model.predict(X_test_normal)\n",
        "yhat_classes = np.argmax(y_pred,axis=1) \n",
        "#print(yhat_classes) "
      ],
      "metadata": {
        "id": "HZbo9CljKXea"
      },
      "execution_count": null,
      "outputs": []
    },
    {
      "cell_type": "markdown",
      "source": [
        "**Accuracy,precision,recall values and f1 score**"
      ],
      "metadata": {
        "id": "XESvcY5aNCyS"
      }
    },
    {
      "cell_type": "code",
      "source": [
        "accuracy_VGG16=accuracy_score(y_true_classes,yhat_classes)\n",
        "print(\"Accuracy: %f\" % accuracy_VGG16)\n",
        "precision_VGG16=precision_score(y_true_classes,yhat_classes,average='weighted')\n",
        "print(\"Precision: %f\" % precision_VGG16)\n",
        "recall_VGG16=recall_score(y_true_classes,yhat_classes,average='weighted')\n",
        "print(\"Recall: %f\" % recall_VGG16)\n",
        "VGG16_F1_score=f1_score(y_true_classes,yhat_classes,average='weighted')\n",
        "print(\"F1_score: %f\" % VGG16_F1_score)"
      ],
      "metadata": {
        "id": "G1aWlA2GKdtZ"
      },
      "execution_count": null,
      "outputs": []
    },
    {
      "cell_type": "code",
      "source": [
        "from sklearn.metrics import confusion_matrix\n",
        "\n",
        "confusion_mat = confusion_matrix(y_true_classes, yhat_classes>0.5)"
      ],
      "metadata": {
        "id": "_e8LNez7NdYa"
      },
      "execution_count": null,
      "outputs": []
    },
    {
      "cell_type": "code",
      "source": [
        "fig, ax = plt.subplots()\n",
        "\n",
        "ax.matshow(confusion_mat, cmap=plt.cm.Blues)\n",
        "\n",
        "ax.set_xlabel('Prediction')\n",
        "ax.set_ylabel('True Label')\n",
        "\n",
        "tick_labels = ['Control', 'Patient']\n",
        "\n",
        "ax.set_xticks(range(len(tick_labels)))\n",
        "ax.set_yticks(range(len(tick_labels)))\n",
        "ax.set_xticklabels(tick_labels)\n",
        "ax.set_yticklabels(tick_labels)\n",
        "\n",
        "for i in range(len(tick_labels)):\n",
        "    for j in range(len(tick_labels)):\n",
        "        ax.text(j, i, confusion_mat[i, j],\n",
        "               ha='center', va='center')\n",
        "        \n",
        "plt.figure(figsize=(15,10))\n",
        "plt.show()"
      ],
      "metadata": {
        "colab": {
          "base_uri": "https://localhost:8080/",
          "height": 296
        },
        "id": "Z58RQvVXNi5J",
        "outputId": "26b20a80-4e5c-402f-8696-3b7d021098d3"
      },
      "execution_count": null,
      "outputs": [
        {
          "output_type": "display_data",
          "data": {
            "text/plain": [
              "<Figure size 432x288 with 1 Axes>"
            ],
            "image/png": "[encoded data removed]"
          },
          "metadata": {
            "needs_background": "light"
          }
        },
        {
          "output_type": "display_data",
          "data": {
            "text/plain": [
              "<Figure size 1080x720 with 0 Axes>"
            ]
          },
          "metadata": {}
        }
      ]
    },
    {
      "cell_type": "markdown",
      "source": [
        "**Random Prediction**"
      ],
      "metadata": {
        "id": "rljt5VImdlJW"
      }
    },
    {
      "cell_type": "markdown",
      "source": [
        "**For Control:**"
      ],
      "metadata": {
        "id": "0ltZvtdw7GpO"
      }
    },
    {
      "cell_type": "code",
      "source": [
        "test_numpy_1=np.load('/content/drive/MyDrive/Saliency_Maps_Stacked_Images/Testing/C02_image__711.npy')\n",
        "test_np_1=np.asarray(test_numpy_1.tolist())\n",
        "test_np_1= test_np_1.reshape(1,512,512,10)\n",
        "prediction_class = model_loaded.predict(test_np_1)\n",
        "print(\"Predicted: {}\".format(np.argmax(prediction_class)))"
      ],
      "metadata": {
        "colab": {
          "base_uri": "https://localhost:8080/"
        },
        "id": "ibrlIL1e552w",
        "outputId": "dbec502e-3da1-4f5b-b2ea-e76b1d871cd4"
      },
      "execution_count": null,
      "outputs": [
        {
          "output_type": "stream",
          "name": "stdout",
          "text": [
            "Predicted: 0\n"
          ]
        }
      ]
    },
    {
      "cell_type": "markdown",
      "source": [
        "**For Patient**"
      ],
      "metadata": {
        "id": "zKkI15mP7L6G"
      }
    },
    {
      "cell_type": "code",
      "source": [
        "test_numpy_1=np.load('/content/drive/MyDrive/Saliency_Maps_Stacked_Images/Testing/P01_image__47.npy')\n",
        "test_np_1=np.asarray(test_numpy_1.tolist())\n",
        "test_np_1= test_np_1.reshape(1,512,512,10)\n",
        "prediction_class = model_loaded.predict(test_np_1)\n",
        "print(\"Predicted: {}\".format(np.argmax(prediction_class)))"
      ],
      "metadata": {
        "colab": {
          "base_uri": "https://localhost:8080/"
        },
        "id": "NPPYLMPv7M7c",
        "outputId": "e6114c4c-70c6-4148-fb5a-f16afa75a3da"
      },
      "execution_count": null,
      "outputs": [
        {
          "output_type": "stream",
          "name": "stdout",
          "text": [
            "Predicted: 1\n"
          ]
        }
      ]
    },
    {
      "cell_type": "markdown",
      "source": [
        "**Random Prediction from Dataframe**"
      ],
      "metadata": {
        "id": "VeY2xRax7eXn"
      }
    },
    {
      "cell_type": "code",
      "source": [
        "test_numpy_1=df['image'][50]\n",
        "test_numpy_2=df['image'][100]\n",
        "test_numpy_3=df['image'][400]\n",
        "test_numpy_4=df['image'][768]"
      ],
      "metadata": {
        "id": "fiZIooqLe6DT"
      },
      "execution_count": null,
      "outputs": []
    },
    {
      "cell_type": "code",
      "source": [
        "test_np_1=np.asarray(test_numpy_1.tolist())\n",
        "test_np_1= test_np_1.reshape(1,512,512,10)\n",
        "test_np_2=np.asarray(test_numpy_2.tolist())\n",
        "test_np_2= test_np_2.reshape(1,512,512,10)\n",
        "test_np_3=np.asarray(test_numpy_3.tolist())\n",
        "test_np_3= test_np_3.reshape(1,512,512,10)\n",
        "test_np_4=np.asarray(test_numpy_4.tolist())\n",
        "test_np_4= test_np_4.reshape(1,512,512,10)"
      ],
      "metadata": {
        "id": "HcLv3-OTg69V"
      },
      "execution_count": null,
      "outputs": []
    },
    {
      "cell_type": "code",
      "source": [
        "prediction_class = model.predict(test_np_1)\n",
        "print(\"Actual:\",df['category'][50])\n",
        "print(\"Predicted: {}\".format(np.argmax(prediction_class)))\n",
        "prediction_class = model.predict(test_np_2)\n",
        "print(\"Actual:\",df['category'][100])\n",
        "print(\"Predicted: {}\".format(np.argmax(prediction_class)))\n",
        "prediction_class = model.predict(test_np_3)\n",
        "print(\"Actual:\",df['category'][400])\n",
        "print(\"Predicted: {}\".format(np.argmax(prediction_class)))\n",
        "prediction_class = model.predict(test_np_4)\n",
        "print(\"Actual:\",df['category'][768])\n",
        "print(\"Predicted: {}\".format(np.argmax(prediction_class)))"
      ],
      "metadata": {
        "colab": {
          "base_uri": "https://localhost:8080/"
        },
        "id": "f18GM8TDetMp",
        "outputId": "7d63dbad-bbc1-4c63-df42-a725b75c93b7"
      },
      "execution_count": null,
      "outputs": [
        {
          "output_type": "stream",
          "name": "stdout",
          "text": [
            "Actual: 0\n",
            "Predicted: 0\n",
            "Actual: 0\n",
            "Predicted: 0\n",
            "Actual: 1\n",
            "Predicted: 1\n",
            "Actual: 1\n",
            "Predicted: 1\n"
          ]
        }
      ]
    }
  ],
  "metadata": {
    "accelerator": "GPU",
    "colab": {
      "collapsed_sections": [
        "ADiR6jyFy-WN"
      ],
      "provenance": []
    },
    "gpuClass": "standard",
    "kernelspec": {
      "display_name": "Python 3",
      "name": "python3"
    },
    "language_info": {
      "name": "python"
    }
  },
  "nbformat": 4,
  "nbformat_minor": 0
}